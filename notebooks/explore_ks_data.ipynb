{
 "cells": [
  {
   "cell_type": "markdown",
   "metadata": {},
   "source": [
    "# Explore preprocessed Kickstarter data\n",
    "\n",
    "### _Lukas Vlcek_\n",
    "\n",
    "Get to know basic statistics, distributions, and correlations in the data."
   ]
  },
  {
   "cell_type": "markdown",
   "metadata": {},
   "source": [
    "## 1. Setup"
   ]
  },
  {
   "cell_type": "markdown",
   "metadata": {},
   "source": [
    "## Notebook configuration"
   ]
  },
  {
   "cell_type": "code",
   "execution_count": 2,
   "metadata": {
    "collapsed": true
   },
   "outputs": [],
   "source": [
    "%matplotlib inline\n",
    "import os\n",
    "import numpy as np\n",
    "import pandas as pd\n",
    "import matplotlib.pyplot as plt\n",
    "import seaborn as sns\n",
    "import datetime"
   ]
  },
  {
   "cell_type": "markdown",
   "metadata": {},
   "source": [
    "## Create a dataframe from a pre-processed CSV file"
   ]
  },
  {
   "cell_type": "code",
   "execution_count": 3,
   "metadata": {
    "collapsed": true
   },
   "outputs": [],
   "source": [
    "target_path = '../data/interim/kickstarter_csvs'\n",
    "filename = 'kick_id.csv'"
   ]
  },
  {
   "cell_type": "code",
   "execution_count": 4,
   "metadata": {
    "collapsed": true
   },
   "outputs": [],
   "source": [
    "# list of columns, which should be in datetime format\n",
    "datecols = ['created_at', 'deadline', 'state_changed_at', 'launched_at']"
   ]
  },
  {
   "cell_type": "code",
   "execution_count": 5,
   "metadata": {
    "collapsed": true
   },
   "outputs": [],
   "source": [
    "# Function for converting from a timestamp to a datetime string\n",
    "fdatpars = lambda x: datetime.datetime.fromtimestamp(int(x)).strftime('%Y-%m-%d %H:%M:%S')"
   ]
  },
  {
   "cell_type": "code",
   "execution_count": 6,
   "metadata": {
    "collapsed": true
   },
   "outputs": [],
   "source": [
    "# Read-in a pre-processed CSV file, index based on project ID\n",
    "df = pd.read_csv(os.path.join(target_path, filename), index_col='id', parse_dates=datecols, date_parser=fdatpars)"
   ]
  },
  {
   "cell_type": "code",
   "execution_count": 7,
   "metadata": {
    "collapsed": true
   },
   "outputs": [],
   "source": [
    "# Remove useless column 'disable_communication' - equivalent to state=suspended.\n",
    "df = df.drop(['disable_communication'], axis='columns')"
   ]
  },
  {
   "cell_type": "markdown",
   "metadata": {},
   "source": [
    "## Look at the DF properties and contents"
   ]
  },
  {
   "cell_type": "code",
   "execution_count": 8,
   "metadata": {},
   "outputs": [
    {
     "name": "stdout",
     "output_type": "stream",
     "text": [
      "<class 'pandas.core.frame.DataFrame'>\n",
      "Int64Index: 263765 entries, 18520 to 2147476221\n",
      "Data columns (total 17 columns):\n",
      "name                263764 non-null object\n",
      "goal                263765 non-null float64\n",
      "pledged             263765 non-null float64\n",
      "usd_pledged         263765 non-null float64\n",
      "state               263765 non-null object\n",
      "slug                263765 non-null object\n",
      "country             263765 non-null object\n",
      "currency            263765 non-null object\n",
      "deadline            263765 non-null datetime64[ns]\n",
      "state_changed_at    263765 non-null datetime64[ns]\n",
      "created_at          263765 non-null datetime64[ns]\n",
      "launched_at         263765 non-null datetime64[ns]\n",
      "staff_pick          263765 non-null bool\n",
      "backers_count       263765 non-null int64\n",
      "blurb               263750 non-null object\n",
      "spotlight           263765 non-null bool\n",
      "category            263765 non-null object\n",
      "dtypes: bool(2), datetime64[ns](4), float64(3), int64(1), object(7)\n",
      "memory usage: 32.7+ MB\n"
     ]
    }
   ],
   "source": [
    "df.info()"
   ]
  },
  {
   "cell_type": "code",
   "execution_count": 9,
   "metadata": {},
   "outputs": [
    {
     "data": {
      "text/html": [
       "<div>\n",
       "<style>\n",
       "    .dataframe thead tr:only-child th {\n",
       "        text-align: right;\n",
       "    }\n",
       "\n",
       "    .dataframe thead th {\n",
       "        text-align: left;\n",
       "    }\n",
       "\n",
       "    .dataframe tbody tr th {\n",
       "        vertical-align: top;\n",
       "    }\n",
       "</style>\n",
       "<table border=\"1\" class=\"dataframe\">\n",
       "  <thead>\n",
       "    <tr style=\"text-align: right;\">\n",
       "      <th></th>\n",
       "      <th>name</th>\n",
       "      <th>goal</th>\n",
       "      <th>pledged</th>\n",
       "      <th>usd_pledged</th>\n",
       "      <th>state</th>\n",
       "      <th>slug</th>\n",
       "      <th>country</th>\n",
       "      <th>currency</th>\n",
       "      <th>deadline</th>\n",
       "      <th>state_changed_at</th>\n",
       "      <th>created_at</th>\n",
       "      <th>launched_at</th>\n",
       "      <th>staff_pick</th>\n",
       "      <th>backers_count</th>\n",
       "      <th>blurb</th>\n",
       "      <th>spotlight</th>\n",
       "      <th>category</th>\n",
       "    </tr>\n",
       "    <tr>\n",
       "      <th>id</th>\n",
       "      <th></th>\n",
       "      <th></th>\n",
       "      <th></th>\n",
       "      <th></th>\n",
       "      <th></th>\n",
       "      <th></th>\n",
       "      <th></th>\n",
       "      <th></th>\n",
       "      <th></th>\n",
       "      <th></th>\n",
       "      <th></th>\n",
       "      <th></th>\n",
       "      <th></th>\n",
       "      <th></th>\n",
       "      <th></th>\n",
       "      <th></th>\n",
       "      <th></th>\n",
       "    </tr>\n",
       "  </thead>\n",
       "  <tbody>\n",
       "    <tr>\n",
       "      <th>18520</th>\n",
       "      <td>Grandma's are Life</td>\n",
       "      <td>15000.0</td>\n",
       "      <td>62.0</td>\n",
       "      <td>62.000000</td>\n",
       "      <td>failed</td>\n",
       "      <td>grandmas-are-life</td>\n",
       "      <td>US</td>\n",
       "      <td>USD</td>\n",
       "      <td>2016-11-18 09:32:40</td>\n",
       "      <td>2016-11-18 09:32:40</td>\n",
       "      <td>2016-10-19 08:13:18</td>\n",
       "      <td>2016-10-19 09:32:40</td>\n",
       "      <td>False</td>\n",
       "      <td>4</td>\n",
       "      <td>Raising money to help my grandmother recover f...</td>\n",
       "      <td>False</td>\n",
       "      <td>music/world music</td>\n",
       "    </tr>\n",
       "    <tr>\n",
       "      <th>21109</th>\n",
       "      <td>Meta</td>\n",
       "      <td>150.0</td>\n",
       "      <td>173.0</td>\n",
       "      <td>258.036032</td>\n",
       "      <td>successful</td>\n",
       "      <td>meta</td>\n",
       "      <td>GB</td>\n",
       "      <td>GBP</td>\n",
       "      <td>2015-05-06 17:00:00</td>\n",
       "      <td>2015-05-06 17:00:12</td>\n",
       "      <td>2015-04-07 10:07:05</td>\n",
       "      <td>2015-04-07 18:37:44</td>\n",
       "      <td>False</td>\n",
       "      <td>11</td>\n",
       "      <td>My work is performance based but I branch out ...</td>\n",
       "      <td>True</td>\n",
       "      <td>art/performance art</td>\n",
       "    </tr>\n",
       "  </tbody>\n",
       "</table>\n",
       "</div>"
      ],
      "text/plain": [
       "                     name     goal  pledged  usd_pledged       state  \\\n",
       "id                                                                     \n",
       "18520  Grandma's are Life  15000.0     62.0    62.000000      failed   \n",
       "21109                Meta    150.0    173.0   258.036032  successful   \n",
       "\n",
       "                    slug country currency            deadline  \\\n",
       "id                                                              \n",
       "18520  grandmas-are-life      US      USD 2016-11-18 09:32:40   \n",
       "21109               meta      GB      GBP 2015-05-06 17:00:00   \n",
       "\n",
       "         state_changed_at          created_at         launched_at  staff_pick  \\\n",
       "id                                                                              \n",
       "18520 2016-11-18 09:32:40 2016-10-19 08:13:18 2016-10-19 09:32:40       False   \n",
       "21109 2015-05-06 17:00:12 2015-04-07 10:07:05 2015-04-07 18:37:44       False   \n",
       "\n",
       "       backers_count                                              blurb  \\\n",
       "id                                                                        \n",
       "18520              4  Raising money to help my grandmother recover f...   \n",
       "21109             11  My work is performance based but I branch out ...   \n",
       "\n",
       "       spotlight             category  \n",
       "id                                     \n",
       "18520      False    music/world music  \n",
       "21109       True  art/performance art  "
      ]
     },
     "execution_count": 9,
     "metadata": {},
     "output_type": "execute_result"
    }
   ],
   "source": [
    "# Look at the data\n",
    "df.head(2)"
   ]
  },
  {
   "cell_type": "code",
   "execution_count": 27,
   "metadata": {},
   "outputs": [
    {
     "data": {
      "text/plain": [
       "138"
      ]
     },
     "execution_count": 27,
     "metadata": {},
     "output_type": "execute_result"
    }
   ],
   "source": [
    "df['name'].str.contains('Trump ').sum()"
   ]
  },
  {
   "cell_type": "markdown",
   "metadata": {},
   "source": [
    "## 2. Basic statistics for different features (columns)"
   ]
  },
  {
   "cell_type": "code",
   "execution_count": 9,
   "metadata": {},
   "outputs": [
    {
     "name": "stdout",
     "output_type": "stream",
     "text": [
      "successful    111814\n",
      "failed        111621\n",
      "live           24357\n",
      "canceled       15021\n",
      "suspended        952\n",
      "Name: state, dtype: int64\n"
     ]
    },
    {
     "data": {
      "text/plain": [
       "<matplotlib.axes._subplots.AxesSubplot at 0x127f12908>"
      ]
     },
     "execution_count": 9,
     "metadata": {},
     "output_type": "execute_result"
    },
    {
     "data": {
      "image/png": "[encoded data removed]",
      "text/plain": [
       "<matplotlib.figure.Figure at 0x127f12f28>"
      ]
     },
     "metadata": {},
     "output_type": "display_data"
    }
   ],
   "source": [
    "# State of the projects success, fail, ...\n",
    "print(df['state'].value_counts())\n",
    "sns.countplot(x='state', data=df)"
   ]
  },
  {
   "cell_type": "markdown",
   "metadata": {},
   "source": [
    "### Notes\n",
    "* About half the projects were successful (the funding process)\n",
    "* This does not seem to match the info I got before (~34%) - why?\n",
    "* I may have deleted resubmittals during preprocessing ??? - not likely, but look into it"
   ]
  },
  {
   "cell_type": "markdown",
   "metadata": {},
   "source": [
    "### Closer look at the category property"
   ]
  },
  {
   "cell_type": "code",
   "execution_count": 10,
   "metadata": {},
   "outputs": [
    {
     "data": {
      "text/plain": [
       "169"
      ]
     },
     "execution_count": 10,
     "metadata": {},
     "output_type": "execute_result"
    }
   ],
   "source": [
    "# number of different categories\n",
    "df['category'].value_counts().shape[0]"
   ]
  },
  {
   "cell_type": "code",
   "execution_count": 11,
   "metadata": {
    "scrolled": true
   },
   "outputs": [
    {
     "data": {
      "text/plain": [
       "design/product design          12477\n",
       "games/tabletop games            9707\n",
       "games/video games               8869\n",
       "publishing/fiction              8032\n",
       "film & video/documentary        7299\n",
       "publishing/nonfiction           7152\n",
       "film & video/shorts             7120\n",
       "fashion/apparel                 6806\n",
       "technology/apps                 6298\n",
       "publishing/children's books     6289\n",
       "music/rock                      6199\n",
       "music/indie rock                5332\n",
       "film & video/webseries          5205\n",
       "film & video/narrative film     4929\n",
       "music/country & folk            4500\n",
       "music/hip-hop                   3918\n",
       "technology/web                  3914\n",
       "technology/hardware             3703\n",
       "music/pop                       3366\n",
       "fashion/accessories             3345\n",
       "art/painting                    3325\n",
       "art/illustration                3294\n",
       "technology/gadgets              3104\n",
       "art/public art                  3093\n",
       "technology/software             3065\n",
       "comics/comic books              2870\n",
       "food/restaurants                2869\n",
       "art/mixed media                 2783\n",
       "publishing/art books            2718\n",
       "music/classical music           2639\n",
       "                               ...  \n",
       "crafts/stationery                240\n",
       "crafts/printing                  238\n",
       "games/puzzles                    232\n",
       "food/bacon                       219\n",
       "theater/spaces                   215\n",
       "dance/spaces                     205\n",
       "journalism/photo                 198\n",
       "film & video/romance             195\n",
       "art/video art                    194\n",
       "crafts/knitting                  191\n",
       "dance/workshops                  168\n",
       "crafts/crochet                   168\n",
       "comics/events                    166\n",
       "publishing/translations          161\n",
       "music/latin                      149\n",
       "crafts/glass                     147\n",
       "fashion/pet fashion              144\n",
       "crafts/embroidery                119\n",
       "theater/comedy                   109\n",
       "design/typography                107\n",
       "crafts/pottery                   103\n",
       "crafts/weaving                    94\n",
       "publishing/comedy                 83\n",
       "crafts/quilts                     82\n",
       "dance/residencies                 70\n",
       "publishing/literary spaces        54\n",
       "publishing/letterpress            49\n",
       "music/chiptune                    36\n",
       "music/comedy                      22\n",
       "crafts/taxidermy                  13\n",
       "Name: category, Length: 169, dtype: int64"
      ]
     },
     "execution_count": 11,
     "metadata": {},
     "output_type": "execute_result"
    }
   ],
   "source": [
    "df['category'].value_counts()"
   ]
  },
  {
   "cell_type": "markdown",
   "metadata": {},
   "source": [
    "#### Make coarse-grained category types for easier grouping based on the description before '/'"
   ]
  },
  {
   "cell_type": "code",
   "execution_count": 12,
   "metadata": {},
   "outputs": [
    {
     "name": "stdout",
     "output_type": "stream",
     "text": [
      "Lengths of cat_type and category should be the same:  263765 <> 263765\n"
     ]
    }
   ],
   "source": [
    "# make a list of general category types\n",
    "cat_type = [x.split('/')[0] for x in df['category'].values]\n",
    "print('Lengths of cat_type and category should be the same: ', len(cat_type), '<>', df['category'].shape[0])"
   ]
  },
  {
   "cell_type": "markdown",
   "metadata": {},
   "source": [
    "#### Add the category type to the dataframe"
   ]
  },
  {
   "cell_type": "code",
   "execution_count": 13,
   "metadata": {
    "collapsed": true
   },
   "outputs": [],
   "source": [
    "df['cat_type'] = np.array(cat_type)"
   ]
  },
  {
   "cell_type": "markdown",
   "metadata": {},
   "source": [
    "#### Category type statistics"
   ]
  },
  {
   "cell_type": "code",
   "execution_count": 14,
   "metadata": {},
   "outputs": [
    {
     "name": "stdout",
     "output_type": "stream",
     "text": [
      "Number of category types: 15\n",
      "film & video    39441\n",
      "music           36476\n",
      "publishing      31807\n",
      "technology      26736\n",
      "games           25599\n",
      "art             21090\n",
      "design          16558\n",
      "fashion         16024\n",
      "food            15688\n",
      "comics           8078\n",
      "photography      6847\n",
      "theater          6289\n",
      "crafts           5743\n",
      "journalism       4302\n",
      "dance            3087\n",
      "Name: cat_type, dtype: int64\n"
     ]
    }
   ],
   "source": [
    "# Counts of different category types\n",
    "print('Number of category types:', df['cat_type'].value_counts().shape[0])\n",
    "print(df['cat_type'].value_counts())"
   ]
  },
  {
   "cell_type": "markdown",
   "metadata": {},
   "source": [
    "### Money - goals and pledges (promised funding)"
   ]
  },
  {
   "cell_type": "code",
   "execution_count": 15,
   "metadata": {},
   "outputs": [
    {
     "data": {
      "text/plain": [
       "count    2.637650e+05\n",
       "mean     4.671028e+04\n",
       "std      1.139242e+06\n",
       "min      1.000000e-02\n",
       "25%      2.000000e+03\n",
       "50%      5.000000e+03\n",
       "75%      1.500000e+04\n",
       "max      1.000000e+08\n",
       "Name: goal, dtype: float64"
      ]
     },
     "execution_count": 15,
     "metadata": {},
     "output_type": "execute_result"
    }
   ],
   "source": [
    "df['goal'].describe()"
   ]
  },
  {
   "cell_type": "code",
   "execution_count": 16,
   "metadata": {},
   "outputs": [
    {
     "data": {
      "text/plain": [
       "count    2.637650e+05\n",
       "mean     1.085461e+04\n",
       "std      1.029759e+05\n",
       "min      0.000000e+00\n",
       "25%      4.842330e+01\n",
       "50%      9.250000e+02\n",
       "75%      5.125000e+03\n",
       "max      2.033899e+07\n",
       "Name: usd_pledged, dtype: float64"
      ]
     },
     "execution_count": 16,
     "metadata": {},
     "output_type": "execute_result"
    }
   ],
   "source": [
    "df['usd_pledged'].describe()"
   ]
  },
  {
   "cell_type": "code",
   "execution_count": 17,
   "metadata": {},
   "outputs": [
    {
     "name": "stdout",
     "output_type": "stream",
     "text": [
      "Number of maximum goals: 23\n"
     ]
    },
    {
     "data": {
      "text/plain": [
       "journalism/video                2\n",
       "film & video/movie theaters     2\n",
       "film & video/drama              2\n",
       "fashion/apparel                 1\n",
       "art/painting                    1\n",
       "games/video games               1\n",
       "film & video/horror             1\n",
       "film & video/science fiction    1\n",
       "design/architecture             1\n",
       "publishing/young adult          1\n",
       "technology/space exploration    1\n",
       "film & video/animation          1\n",
       "art/illustration                1\n",
       "film & video/fantasy            1\n",
       "film & video/documentary        1\n",
       "technology/software             1\n",
       "technology/web                  1\n",
       "food/restaurants                1\n",
       "games/live games                1\n",
       "film & video/action             1\n",
       "Name: category, dtype: int64"
      ]
     },
     "execution_count": 17,
     "metadata": {},
     "output_type": "execute_result"
    }
   ],
   "source": [
    "n_max = df.loc[df['goal'] == 1e8]['category'].shape[0]\n",
    "print('Number of maximum goals:', n_max)\n",
    "df.loc[df['goal'] == 1e8]['category'].value_counts()"
   ]
  },
  {
   "cell_type": "markdown",
   "metadata": {},
   "source": [
    "### Look at the extreme goals - what are they thinking?"
   ]
  },
  {
   "cell_type": "code",
   "execution_count": 18,
   "metadata": {
    "scrolled": true
   },
   "outputs": [
    {
     "data": {
      "text/html": [
       "<div>\n",
       "<style>\n",
       "    .dataframe thead tr:only-child th {\n",
       "        text-align: right;\n",
       "    }\n",
       "\n",
       "    .dataframe thead th {\n",
       "        text-align: left;\n",
       "    }\n",
       "\n",
       "    .dataframe tbody tr th {\n",
       "        vertical-align: top;\n",
       "    }\n",
       "</style>\n",
       "<table border=\"1\" class=\"dataframe\">\n",
       "  <thead>\n",
       "    <tr style=\"text-align: right;\">\n",
       "      <th></th>\n",
       "      <th>id</th>\n",
       "      <th>name</th>\n",
       "      <th>category</th>\n",
       "      <th>usd_pledged</th>\n",
       "      <th>backers_count</th>\n",
       "      <th>country</th>\n",
       "      <th>blurb</th>\n",
       "    </tr>\n",
       "  </thead>\n",
       "  <tbody>\n",
       "    <tr>\n",
       "      <th>0</th>\n",
       "      <td>1720842777</td>\n",
       "      <td>NAKED FASHION ART</td>\n",
       "      <td>art/illustration</td>\n",
       "      <td>0.000000</td>\n",
       "      <td>0</td>\n",
       "      <td>CA</td>\n",
       "      <td>Fashion illustration as a portrait.</td>\n",
       "    </tr>\n",
       "    <tr>\n",
       "      <th>1</th>\n",
       "      <td>208731425</td>\n",
       "      <td>Animal - The Bear Life Journey</td>\n",
       "      <td>art/painting</td>\n",
       "      <td>10.000000</td>\n",
       "      <td>1</td>\n",
       "      <td>US</td>\n",
       "      <td>Fine Art By Kyle South</td>\n",
       "    </tr>\n",
       "    <tr>\n",
       "      <th>2</th>\n",
       "      <td>601594365</td>\n",
       "      <td>The Multi-Trillion Dollar Dream™ (Canceled)</td>\n",
       "      <td>design/architecture</td>\n",
       "      <td>1.000000</td>\n",
       "      <td>1</td>\n",
       "      <td>US</td>\n",
       "      <td>We are designing The Multi-Trillion Dollar Dre...</td>\n",
       "    </tr>\n",
       "    <tr>\n",
       "      <th>3</th>\n",
       "      <td>388031956</td>\n",
       "      <td>UniqueTrends</td>\n",
       "      <td>fashion/apparel</td>\n",
       "      <td>1.000000</td>\n",
       "      <td>1</td>\n",
       "      <td>US</td>\n",
       "      <td>UniqueTrends.  Lasting memories that never go ...</td>\n",
       "    </tr>\n",
       "    <tr>\n",
       "      <th>4</th>\n",
       "      <td>308045282</td>\n",
       "      <td>Jesus Priest</td>\n",
       "      <td>film &amp; video/action</td>\n",
       "      <td>0.799988</td>\n",
       "      <td>1</td>\n",
       "      <td>CA</td>\n",
       "      <td>This is NOT a religious movie project despite ...</td>\n",
       "    </tr>\n",
       "    <tr>\n",
       "      <th>5</th>\n",
       "      <td>962949560</td>\n",
       "      <td>\"PG\" Reanimated Cartoons Tha Movie</td>\n",
       "      <td>film &amp; video/animation</td>\n",
       "      <td>0.000000</td>\n",
       "      <td>0</td>\n",
       "      <td>US</td>\n",
       "      <td>This cartoon is about the main character \"PG\" ...</td>\n",
       "    </tr>\n",
       "    <tr>\n",
       "      <th>6</th>\n",
       "      <td>843636303</td>\n",
       "      <td>The Exodus, one Ark or many.</td>\n",
       "      <td>film &amp; video/documentary</td>\n",
       "      <td>13.000000</td>\n",
       "      <td>4</td>\n",
       "      <td>US</td>\n",
       "      <td>To purchase cruise ships and redesign them to ...</td>\n",
       "    </tr>\n",
       "    <tr>\n",
       "      <th>7</th>\n",
       "      <td>2000749004</td>\n",
       "      <td>A Celtic Lovestory</td>\n",
       "      <td>film &amp; video/drama</td>\n",
       "      <td>0.000000</td>\n",
       "      <td>0</td>\n",
       "      <td>GB</td>\n",
       "      <td>A 2000 year old \"Romeo &amp; Juliet\" love story, s...</td>\n",
       "    </tr>\n",
       "    <tr>\n",
       "      <th>8</th>\n",
       "      <td>1485385229</td>\n",
       "      <td>This Land Called America</td>\n",
       "      <td>film &amp; video/drama</td>\n",
       "      <td>26.754190</td>\n",
       "      <td>3</td>\n",
       "      <td>SE</td>\n",
       "      <td>A feature film based around the script This La...</td>\n",
       "    </tr>\n",
       "    <tr>\n",
       "      <th>9</th>\n",
       "      <td>1168153740</td>\n",
       "      <td>Sage: Warrior Of The Fallen Gods (Movie)</td>\n",
       "      <td>film &amp; video/fantasy</td>\n",
       "      <td>0.000000</td>\n",
       "      <td>0</td>\n",
       "      <td>US</td>\n",
       "      <td>Sage: Warrior Of The Fallen Gods, The rise and...</td>\n",
       "    </tr>\n",
       "    <tr>\n",
       "      <th>10</th>\n",
       "      <td>499583381</td>\n",
       "      <td>The Scariest Movie Ever Created</td>\n",
       "      <td>film &amp; video/horror</td>\n",
       "      <td>1.000000</td>\n",
       "      <td>1</td>\n",
       "      <td>US</td>\n",
       "      <td>A movie to revolutionize the way people percei...</td>\n",
       "    </tr>\n",
       "    <tr>\n",
       "      <th>11</th>\n",
       "      <td>941328479</td>\n",
       "      <td>The Throne : Fall of Lucifer</td>\n",
       "      <td>film &amp; video/movie theaters</td>\n",
       "      <td>0.000000</td>\n",
       "      <td>0</td>\n",
       "      <td>US</td>\n",
       "      <td>We know the reason Lucifer fell, because he wo...</td>\n",
       "    </tr>\n",
       "    <tr>\n",
       "      <th>12</th>\n",
       "      <td>2132015082</td>\n",
       "      <td>DER NEANDERTALER (Kinofilm mit Starbesetzung i...</td>\n",
       "      <td>film &amp; video/movie theaters</td>\n",
       "      <td>38.159645</td>\n",
       "      <td>2</td>\n",
       "      <td>DE</td>\n",
       "      <td>Erlebe hautnah die Neandertaler. Längst ausges...</td>\n",
       "    </tr>\n",
       "    <tr>\n",
       "      <th>13</th>\n",
       "      <td>2137925650</td>\n",
       "      <td>The Time Jumper (Canceled)</td>\n",
       "      <td>film &amp; video/science fiction</td>\n",
       "      <td>0.000000</td>\n",
       "      <td>0</td>\n",
       "      <td>US</td>\n",
       "      <td>My ambition for this knows no bounds.  Seeing ...</td>\n",
       "    </tr>\n",
       "    <tr>\n",
       "      <th>14</th>\n",
       "      <td>219702078</td>\n",
       "      <td>Kitchen from Austria in Switzerland</td>\n",
       "      <td>food/restaurants</td>\n",
       "      <td>0.000000</td>\n",
       "      <td>0</td>\n",
       "      <td>CH</td>\n",
       "      <td>My wife Andrea and I, Michael Kammerhofer want...</td>\n",
       "    </tr>\n",
       "    <tr>\n",
       "      <th>15</th>\n",
       "      <td>2075450016</td>\n",
       "      <td>Virtual Reality Playground in Buffalo, NY</td>\n",
       "      <td>games/live games</td>\n",
       "      <td>20.000000</td>\n",
       "      <td>1</td>\n",
       "      <td>US</td>\n",
       "      <td>When was the last time you went to an Arcade? ...</td>\n",
       "    </tr>\n",
       "    <tr>\n",
       "      <th>16</th>\n",
       "      <td>1481016469</td>\n",
       "      <td>Survival SandBox Game</td>\n",
       "      <td>games/video games</td>\n",
       "      <td>0.000000</td>\n",
       "      <td>0</td>\n",
       "      <td>NO</td>\n",
       "      <td>an online survivor game, where you start with ...</td>\n",
       "    </tr>\n",
       "    <tr>\n",
       "      <th>17</th>\n",
       "      <td>1741515953</td>\n",
       "      <td>Let's prove the earth is FLAT! (Suspended) (Su...</td>\n",
       "      <td>journalism/video</td>\n",
       "      <td>13.000000</td>\n",
       "      <td>4</td>\n",
       "      <td>US</td>\n",
       "      <td>Help us raise money for an expedition to the A...</td>\n",
       "    </tr>\n",
       "    <tr>\n",
       "      <th>18</th>\n",
       "      <td>1119122774</td>\n",
       "      <td>Help me start a fair media company, Trump Media</td>\n",
       "      <td>journalism/video</td>\n",
       "      <td>1.000000</td>\n",
       "      <td>1</td>\n",
       "      <td>US</td>\n",
       "      <td>You might be asking why I decided to call it \"...</td>\n",
       "    </tr>\n",
       "    <tr>\n",
       "      <th>19</th>\n",
       "      <td>487345242</td>\n",
       "      <td>Billionaire Boy Blog (Canceled)</td>\n",
       "      <td>publishing/young adult</td>\n",
       "      <td>0.000000</td>\n",
       "      <td>0</td>\n",
       "      <td>DK</td>\n",
       "      <td>An exclusive blog about a 18 year old milliona...</td>\n",
       "    </tr>\n",
       "    <tr>\n",
       "      <th>20</th>\n",
       "      <td>953415668</td>\n",
       "      <td>Currency Free System</td>\n",
       "      <td>technology/software</td>\n",
       "      <td>0.502121</td>\n",
       "      <td>1</td>\n",
       "      <td>MX</td>\n",
       "      <td>CF is an independent currency system and a tra...</td>\n",
       "    </tr>\n",
       "    <tr>\n",
       "      <th>21</th>\n",
       "      <td>1601563193</td>\n",
       "      <td>Our future</td>\n",
       "      <td>technology/space exploration</td>\n",
       "      <td>0.928942</td>\n",
       "      <td>1</td>\n",
       "      <td>AU</td>\n",
       "      <td>The new century has begun may our life's get e...</td>\n",
       "    </tr>\n",
       "    <tr>\n",
       "      <th>22</th>\n",
       "      <td>2083255961</td>\n",
       "      <td>A Billion Pixels...</td>\n",
       "      <td>technology/web</td>\n",
       "      <td>56.000000</td>\n",
       "      <td>6</td>\n",
       "      <td>US</td>\n",
       "      <td>A billion pixel website, a billion pixel displ...</td>\n",
       "    </tr>\n",
       "  </tbody>\n",
       "</table>\n",
       "</div>"
      ],
      "text/plain": [
       "            id                                               name  \\\n",
       "0   1720842777                                  NAKED FASHION ART   \n",
       "1    208731425                     Animal - The Bear Life Journey   \n",
       "2    601594365        The Multi-Trillion Dollar Dream™ (Canceled)   \n",
       "3    388031956                                       UniqueTrends   \n",
       "4    308045282                                       Jesus Priest   \n",
       "5    962949560                 \"PG\" Reanimated Cartoons Tha Movie   \n",
       "6    843636303                       The Exodus, one Ark or many.   \n",
       "7   2000749004                                 A Celtic Lovestory   \n",
       "8   1485385229                           This Land Called America   \n",
       "9   1168153740           Sage: Warrior Of The Fallen Gods (Movie)   \n",
       "10   499583381                    The Scariest Movie Ever Created   \n",
       "11   941328479                       The Throne : Fall of Lucifer   \n",
       "12  2132015082  DER NEANDERTALER (Kinofilm mit Starbesetzung i...   \n",
       "13  2137925650                         The Time Jumper (Canceled)   \n",
       "14   219702078                Kitchen from Austria in Switzerland   \n",
       "15  2075450016          Virtual Reality Playground in Buffalo, NY   \n",
       "16  1481016469                              Survival SandBox Game   \n",
       "17  1741515953  Let's prove the earth is FLAT! (Suspended) (Su...   \n",
       "18  1119122774    Help me start a fair media company, Trump Media   \n",
       "19   487345242                    Billionaire Boy Blog (Canceled)   \n",
       "20   953415668                               Currency Free System   \n",
       "21  1601563193                                         Our future   \n",
       "22  2083255961                                A Billion Pixels...   \n",
       "\n",
       "                        category  usd_pledged  backers_count country  \\\n",
       "0               art/illustration     0.000000              0      CA   \n",
       "1                   art/painting    10.000000              1      US   \n",
       "2            design/architecture     1.000000              1      US   \n",
       "3                fashion/apparel     1.000000              1      US   \n",
       "4            film & video/action     0.799988              1      CA   \n",
       "5         film & video/animation     0.000000              0      US   \n",
       "6       film & video/documentary    13.000000              4      US   \n",
       "7             film & video/drama     0.000000              0      GB   \n",
       "8             film & video/drama    26.754190              3      SE   \n",
       "9           film & video/fantasy     0.000000              0      US   \n",
       "10           film & video/horror     1.000000              1      US   \n",
       "11   film & video/movie theaters     0.000000              0      US   \n",
       "12   film & video/movie theaters    38.159645              2      DE   \n",
       "13  film & video/science fiction     0.000000              0      US   \n",
       "14              food/restaurants     0.000000              0      CH   \n",
       "15              games/live games    20.000000              1      US   \n",
       "16             games/video games     0.000000              0      NO   \n",
       "17              journalism/video    13.000000              4      US   \n",
       "18              journalism/video     1.000000              1      US   \n",
       "19        publishing/young adult     0.000000              0      DK   \n",
       "20           technology/software     0.502121              1      MX   \n",
       "21  technology/space exploration     0.928942              1      AU   \n",
       "22                technology/web    56.000000              6      US   \n",
       "\n",
       "                                                blurb  \n",
       "0                 Fashion illustration as a portrait.  \n",
       "1                              Fine Art By Kyle South  \n",
       "2   We are designing The Multi-Trillion Dollar Dre...  \n",
       "3   UniqueTrends.  Lasting memories that never go ...  \n",
       "4   This is NOT a religious movie project despite ...  \n",
       "5   This cartoon is about the main character \"PG\" ...  \n",
       "6   To purchase cruise ships and redesign them to ...  \n",
       "7   A 2000 year old \"Romeo & Juliet\" love story, s...  \n",
       "8   A feature film based around the script This La...  \n",
       "9   Sage: Warrior Of The Fallen Gods, The rise and...  \n",
       "10  A movie to revolutionize the way people percei...  \n",
       "11  We know the reason Lucifer fell, because he wo...  \n",
       "12  Erlebe hautnah die Neandertaler. Längst ausges...  \n",
       "13  My ambition for this knows no bounds.  Seeing ...  \n",
       "14  My wife Andrea and I, Michael Kammerhofer want...  \n",
       "15  When was the last time you went to an Arcade? ...  \n",
       "16  an online survivor game, where you start with ...  \n",
       "17  Help us raise money for an expedition to the A...  \n",
       "18  You might be asking why I decided to call it \"...  \n",
       "19  An exclusive blog about a 18 year old milliona...  \n",
       "20  CF is an independent currency system and a tra...  \n",
       "21  The new century has begun may our life's get e...  \n",
       "22  A billion pixel website, a billion pixel displ...  "
      ]
     },
     "execution_count": 18,
     "metadata": {},
     "output_type": "execute_result"
    }
   ],
   "source": [
    "df_max = df.loc[df['goal'] == 1e8][['name','category','usd_pledged','backers_count','country','blurb']].sort_values(by='category').reset_index()\n",
    "df_max"
   ]
  },
  {
   "cell_type": "markdown",
   "metadata": {},
   "source": [
    "* Flat Earth (17)\n",
    "* Give me millions and let me write about it (19)\n",
    "* New currency (20)\n",
    "* Trump (18)\n",
    "* Higher percentage of the extreme goals seems to come from outside US"
   ]
  },
  {
   "cell_type": "code",
   "execution_count": 19,
   "metadata": {},
   "outputs": [
    {
     "name": "stdout",
     "output_type": "stream",
     "text": [
      "Help us raise money for an expedition to the Antarctic. We will document and study the edge of the Earth. Let's finally prove its flat!\n"
     ]
    }
   ],
   "source": [
    "# Flat Earth\n",
    "print(df_max.loc[17][6])"
   ]
  },
  {
   "cell_type": "code",
   "execution_count": 20,
   "metadata": {},
   "outputs": [
    {
     "name": "stdout",
     "output_type": "stream",
     "text": [
      "An exclusive blog about a 18 year old millionaire.\n",
      "The blod will consist of fashion, cars, sport, travelling and much more.\n"
     ]
    }
   ],
   "source": [
    "# Billionaire boy\n",
    "print(df_max.loc[19][6])"
   ]
  },
  {
   "cell_type": "code",
   "execution_count": 21,
   "metadata": {},
   "outputs": [
    {
     "name": "stdout",
     "output_type": "stream",
     "text": [
      "CF is an independent currency system and a trading tool that runs parallel to all existing currency systems.\n"
     ]
    }
   ],
   "source": [
    "# New currency\n",
    "print(df_max.loc[20][6])"
   ]
  },
  {
   "cell_type": "code",
   "execution_count": 22,
   "metadata": {},
   "outputs": [
    {
     "name": "stdout",
     "output_type": "stream",
     "text": [
      "You might be asking why I decided to call it \"Trump Media,\" well its simple. Our media will \"trump\" the lame stream media\n"
     ]
    }
   ],
   "source": [
    "# Trump\n",
    "print(df_max.loc[18][6])"
   ]
  },
  {
   "cell_type": "code",
   "execution_count": 23,
   "metadata": {},
   "outputs": [
    {
     "name": "stdout",
     "output_type": "stream",
     "text": [
      "All goals - US/World: 0.7719674710443007\n",
      "Max goals - US/World: 0.5652173913043478\n"
     ]
    }
   ],
   "source": [
    "# US vs WORLD\n",
    "us_max  = df.loc[(df['goal'] == 1e8) & (df['country'] == 'US')].shape[0]\n",
    "world_max = df.loc[(df['goal'] == 1e8)].shape[0]\n",
    "us_all  = df.loc[df['country'] == 'US'].shape[0]\n",
    "world_all = df.shape[0]\n",
    "\n",
    "print('All goals - US/World:', us_all/world_all)\n",
    "print('Max goals - US/World:', us_max/world_max)"
   ]
  },
  {
   "cell_type": "markdown",
   "metadata": {},
   "source": [
    "### Some other count statistics"
   ]
  },
  {
   "cell_type": "code",
   "execution_count": 24,
   "metadata": {},
   "outputs": [
    {
     "name": "stdout",
     "output_type": "stream",
     "text": [
      "Number of countries: 22\n"
     ]
    },
    {
     "data": {
      "text/plain": [
       "<matplotlib.axes._subplots.AxesSubplot at 0x1203eec88>"
      ]
     },
     "execution_count": 24,
     "metadata": {},
     "output_type": "execute_result"
    },
    {
     "data": {
      "image/png": "[encoded data removed]",
      "text/plain": [
       "<matplotlib.figure.Figure at 0x1203eeb70>"
      ]
     },
     "metadata": {},
     "output_type": "display_data"
    }
   ],
   "source": [
    "# Number of projects from different countries\n",
    "print('Number of countries:', df['country'].value_counts().shape[0])\n",
    "a = df['country'].value_counts()\n",
    "sns.barplot(a.index, a.values)"
   ]
  },
  {
   "cell_type": "code",
   "execution_count": 25,
   "metadata": {},
   "outputs": [
    {
     "data": {
      "text/plain": [
       "False    234750\n",
       "True      29015\n",
       "Name: staff_pick, dtype: int64"
      ]
     },
     "execution_count": 25,
     "metadata": {},
     "output_type": "execute_result"
    }
   ],
   "source": [
    "# How often staff picks a project?\n",
    "df['staff_pick'].value_counts()"
   ]
  },
  {
   "cell_type": "code",
   "execution_count": 26,
   "metadata": {},
   "outputs": [
    {
     "data": {
      "text/plain": [
       "False    151951\n",
       "True     111814\n",
       "Name: spotlight, dtype: int64"
      ]
     },
     "execution_count": 26,
     "metadata": {},
     "output_type": "execute_result"
    }
   ],
   "source": [
    "# How often is a project highlighted\n",
    "df['spotlight'].value_counts()"
   ]
  },
  {
   "cell_type": "markdown",
   "metadata": {},
   "source": [
    "## 3. Relations and correlations in the data"
   ]
  },
  {
   "cell_type": "markdown",
   "metadata": {},
   "source": [
    "### Goals vs. pledged"
   ]
  },
  {
   "cell_type": "code",
   "execution_count": 27,
   "metadata": {},
   "outputs": [
    {
     "data": {
      "text/plain": [
       "<seaborn.axisgrid.FacetGrid at 0x120ed9470>"
      ]
     },
     "execution_count": 27,
     "metadata": {},
     "output_type": "execute_result"
    },
    {
     "data": {
      "image/png": "[encoded data removed]",
      "text/plain": [
       "<matplotlib.figure.Figure at 0x120ec69b0>"
      ]
     },
     "metadata": {},
     "output_type": "display_data"
    }
   ],
   "source": [
    "sns.lmplot(x='goal', y='usd_pledged', hue='state', data=df, fit_reg=False, palette='Set1')"
   ]
  },
  {
   "cell_type": "markdown",
   "metadata": {},
   "source": [
    "* There seems to be inverse relationship between the goal and amount pledged\n",
    "* Successful funding campain should be easier with lower target, but asking less also helps to get more money\n",
    "* Lowballing a good strategy?\n",
    "    * May get staff endorsment\n",
    "    * Better perception of achievability\n",
    "    * Large funding goals scare people away\n",
    "    * Large funding goals may be correlate with poor planning or crackpot ideas?"
   ]
  },
  {
   "cell_type": "markdown",
   "metadata": {},
   "source": [
    "## Staff picks, highlight - are they predictive?"
   ]
  },
  {
   "cell_type": "code",
   "execution_count": 28,
   "metadata": {},
   "outputs": [
    {
     "name": "stdout",
     "output_type": "stream",
     "text": [
      "Success rate of a random project:       0.5004318929442567\n",
      "Success rate of a staff-picked project: 0.8619829862129657\n",
      "Success rate of a non-picked project:   0.4501664432130422\n"
     ]
    }
   ],
   "source": [
    "n_SxP = df.loc[(df['state'] == 'successful') & (df['staff_pick'] == True)].shape[0]\n",
    "n_FxP = df.loc[(df['state'] == 'failed') & (df['staff_pick'] == True)].shape[0]\n",
    "n_SxN = df.loc[(df['state'] == 'successful') & (df['staff_pick'] == False)].shape[0]\n",
    "n_FxN = df.loc[(df['state'] == 'failed') & (df['staff_pick'] == False)].shape[0]\n",
    "n_S = df.loc[(df['state'] == 'successful')].shape[0]\n",
    "n_F = df.loc[(df['state'] == 'failed')].shape[0]\n",
    "print(\"Success rate of a random project:      \", n_S/(n_S+n_F))\n",
    "print(\"Success rate of a staff-picked project:\",n_SxP/(n_SxP + n_FxP))\n",
    "print(\"Success rate of a non-picked project:  \",n_SxN/(n_SxN + n_FxN))"
   ]
  },
  {
   "cell_type": "markdown",
   "metadata": {},
   "source": [
    "* Can a predictive model beat that?\n",
    "* Can a model predict a staff pick?"
   ]
  },
  {
   "cell_type": "code",
   "execution_count": 29,
   "metadata": {},
   "outputs": [
    {
     "name": "stdout",
     "output_type": "stream",
     "text": [
      "Success rate of a spotlighted project    : 1.0\n",
      "Success rate of a non-spotlighted project: 0.0\n"
     ]
    }
   ],
   "source": [
    "n_SxS = df.loc[(df['state'] == 'successful') & (df['spotlight'] == True)].shape[0]\n",
    "n_FxS = df.loc[(df['state'] == 'failed') & (df['spotlight'] == True)].shape[0]\n",
    "n_SxN = df.loc[(df['state'] == 'successful') & (df['spotlight'] == False)].shape[0]\n",
    "n_FxN = df.loc[(df['state'] == 'failed') & (df['spotlight'] == False)].shape[0]\n",
    "print(\"Success rate of a spotlighted project    :\",n_SxS/(n_SxS + n_FxS))\n",
    "print(\"Success rate of a non-spotlighted project:\",n_SxN/(n_SxN + n_FxN))"
   ]
  },
  {
   "cell_type": "markdown",
   "metadata": {},
   "source": [
    "* Looks like projects are spotlighted only after they have succeeded"
   ]
  },
  {
   "cell_type": "markdown",
   "metadata": {},
   "source": [
    "### Fun with countries - any general characteristics?"
   ]
  },
  {
   "cell_type": "code",
   "execution_count": 30,
   "metadata": {
    "scrolled": true
   },
   "outputs": [
    {
     "data": {
      "text/plain": [
       "(0, 1000000.0)"
      ]
     },
     "execution_count": 30,
     "metadata": {},
     "output_type": "execute_result"
    },
    {
     "data": {
      "image/png": "[encoded data removed]",
      "text/plain": [
       "<matplotlib.figure.Figure at 0x120aa13c8>"
      ]
     },
     "metadata": {},
     "output_type": "display_data"
    }
   ],
   "source": [
    "sns.boxplot(x='country', y='goal', data=df, palette='Set1', fliersize=0)\n",
    "plt.ylim(0,1e6)"
   ]
  },
  {
   "cell_type": "code",
   "execution_count": 31,
   "metadata": {},
   "outputs": [
    {
     "data": {
      "text/plain": [
       "(0, 20000.0)"
      ]
     },
     "execution_count": 31,
     "metadata": {},
     "output_type": "execute_result"
    },
    {
     "data": {
      "image/png": "[encoded data removed]",
      "text/plain": [
       "<matplotlib.figure.Figure at 0x11aaa1630>"
      ]
     },
     "metadata": {},
     "output_type": "display_data"
    }
   ],
   "source": [
    "sns.boxplot(x='country', y='usd_pledged', data=df, palette='Set1', fliersize=0)\n",
    "plt.ylim(0,2e4)"
   ]
  },
  {
   "cell_type": "markdown",
   "metadata": {},
   "source": [
    "* 22 countries \n",
    "* Asian countries (HK, SG, JP) get a lot, no matter how much they ask\n",
    "* Hong Kong asks a lot and gets a lot\n",
    "* Japanese ask the most, get good funding (could there be some currency mess-up with Japanese Yen?)\n",
    "* Singapore (SG) and Swiss (CH) don't ask much, but get a lot \n",
    "* Scandinavian countries ask a lot - get same as other Europeans\n",
    "* Mexicans ask a lot, get the least\n",
    "* Americans don't ask much, but still are funded well\n",
    "\n",
    "Can unsupervised methods group countries by their geography?\n",
    "* What decides? - culture, GDP, types of popular projects"
   ]
  },
  {
   "cell_type": "markdown",
   "metadata": {},
   "source": [
    "#### Other notes\n",
    "* Find a function that may describe positive feedback - the more you have been funded, the more likely you will get more\n",
    "* May need to collect funding of the same project over time to see the rise in funding"
   ]
  },
  {
   "cell_type": "code",
   "execution_count": 32,
   "metadata": {},
   "outputs": [
    {
     "data": {
      "text/plain": [
       "design          19\n",
       "games           16\n",
       "technology      11\n",
       "fashion          9\n",
       "music            8\n",
       "film & video     8\n",
       "photography      2\n",
       "theater          1\n",
       "publishing       1\n",
       "crafts           1\n",
       "art              1\n",
       "Name: cat_type, dtype: int64"
      ]
     },
     "execution_count": 32,
     "metadata": {},
     "output_type": "execute_result"
    }
   ],
   "source": [
    "df.loc[(df['country'] == 'JP')]['cat_type'].value_counts()"
   ]
  },
  {
   "cell_type": "code",
   "execution_count": 33,
   "metadata": {},
   "outputs": [
    {
     "data": {
      "text/plain": [
       "technology      177\n",
       "design          106\n",
       "film & video     86\n",
       "music            79\n",
       "art              74\n",
       "publishing       73\n",
       "games            71\n",
       "fashion          65\n",
       "food             39\n",
       "crafts           25\n",
       "photography      24\n",
       "journalism       20\n",
       "theater          13\n",
       "comics           11\n",
       "dance             3\n",
       "Name: cat_type, dtype: int64"
      ]
     },
     "execution_count": 33,
     "metadata": {},
     "output_type": "execute_result"
    }
   ],
   "source": [
    "df.loc[(df['country'] == 'DK')]['cat_type'].value_counts()"
   ]
  },
  {
   "cell_type": "code",
   "execution_count": 34,
   "metadata": {},
   "outputs": [
    {
     "data": {
      "text/plain": [
       "film & video    285\n",
       "technology      190\n",
       "music           186\n",
       "publishing      145\n",
       "art             136\n",
       "games           126\n",
       "design           84\n",
       "food             81\n",
       "fashion          67\n",
       "theater          63\n",
       "crafts           46\n",
       "journalism       33\n",
       "comics           31\n",
       "photography      24\n",
       "dance            21\n",
       "Name: cat_type, dtype: int64"
      ]
     },
     "execution_count": 34,
     "metadata": {},
     "output_type": "execute_result"
    }
   ],
   "source": [
    "df.loc[(df['country'] == 'MX')]['cat_type'].value_counts()"
   ]
  },
  {
   "cell_type": "markdown",
   "metadata": {},
   "source": [
    "* Japan - heavily in tehcnology may correlated with higher financial cost\n",
    "* Denmark - typical?\n",
    "* Mexico - relatively more in art/craft/dance\n",
    "* Plot these as a barchart for select countries"
   ]
  },
  {
   "cell_type": "code",
   "execution_count": 63,
   "metadata": {},
   "outputs": [
    {
     "data": {
      "text/html": [
       "<div>\n",
       "<style>\n",
       "    .dataframe thead tr:only-child th {\n",
       "        text-align: right;\n",
       "    }\n",
       "\n",
       "    .dataframe thead th {\n",
       "        text-align: left;\n",
       "    }\n",
       "\n",
       "    .dataframe tbody tr th {\n",
       "        vertical-align: top;\n",
       "    }\n",
       "</style>\n",
       "<table border=\"1\" class=\"dataframe\">\n",
       "  <thead>\n",
       "    <tr style=\"text-align: right;\">\n",
       "      <th></th>\n",
       "      <th>jp</th>\n",
       "      <th>hk</th>\n",
       "      <th>sg</th>\n",
       "      <th>dk</th>\n",
       "      <th>se</th>\n",
       "      <th>no</th>\n",
       "      <th>mx</th>\n",
       "    </tr>\n",
       "  </thead>\n",
       "  <tbody>\n",
       "    <tr>\n",
       "      <th>design</th>\n",
       "      <td>0.246753</td>\n",
       "      <td>0.395390</td>\n",
       "      <td>0.282051</td>\n",
       "      <td>0.133670</td>\n",
       "      <td>0.095638</td>\n",
       "      <td>0.095339</td>\n",
       "      <td>0.062130</td>\n",
       "    </tr>\n",
       "    <tr>\n",
       "      <th>games</th>\n",
       "      <td>0.207792</td>\n",
       "      <td>0.131206</td>\n",
       "      <td>0.121212</td>\n",
       "      <td>0.089533</td>\n",
       "      <td>0.166107</td>\n",
       "      <td>0.122881</td>\n",
       "      <td>0.093195</td>\n",
       "    </tr>\n",
       "    <tr>\n",
       "      <th>technology</th>\n",
       "      <td>0.142857</td>\n",
       "      <td>0.278369</td>\n",
       "      <td>0.160839</td>\n",
       "      <td>0.223203</td>\n",
       "      <td>0.129195</td>\n",
       "      <td>0.216102</td>\n",
       "      <td>0.140533</td>\n",
       "    </tr>\n",
       "    <tr>\n",
       "      <th>fashion</th>\n",
       "      <td>0.116883</td>\n",
       "      <td>0.062057</td>\n",
       "      <td>0.181818</td>\n",
       "      <td>0.081967</td>\n",
       "      <td>0.089765</td>\n",
       "      <td>0.072034</td>\n",
       "      <td>0.049556</td>\n",
       "    </tr>\n",
       "    <tr>\n",
       "      <th>music</th>\n",
       "      <td>0.103896</td>\n",
       "      <td>0.008865</td>\n",
       "      <td>0.018648</td>\n",
       "      <td>0.099622</td>\n",
       "      <td>0.109060</td>\n",
       "      <td>0.135593</td>\n",
       "      <td>0.137574</td>\n",
       "    </tr>\n",
       "    <tr>\n",
       "      <th>film &amp; video</th>\n",
       "      <td>0.103896</td>\n",
       "      <td>0.023050</td>\n",
       "      <td>0.034965</td>\n",
       "      <td>0.108449</td>\n",
       "      <td>0.127517</td>\n",
       "      <td>0.116525</td>\n",
       "      <td>0.210799</td>\n",
       "    </tr>\n",
       "    <tr>\n",
       "      <th>photography</th>\n",
       "      <td>0.025974</td>\n",
       "      <td>0.007092</td>\n",
       "      <td>0.013986</td>\n",
       "      <td>0.030265</td>\n",
       "      <td>0.039430</td>\n",
       "      <td>0.031780</td>\n",
       "      <td>0.017751</td>\n",
       "    </tr>\n",
       "    <tr>\n",
       "      <th>theater</th>\n",
       "      <td>0.012987</td>\n",
       "      <td>NaN</td>\n",
       "      <td>0.025641</td>\n",
       "      <td>0.016393</td>\n",
       "      <td>0.015101</td>\n",
       "      <td>0.019068</td>\n",
       "      <td>0.046598</td>\n",
       "    </tr>\n",
       "    <tr>\n",
       "      <th>publishing</th>\n",
       "      <td>0.012987</td>\n",
       "      <td>0.026596</td>\n",
       "      <td>0.062937</td>\n",
       "      <td>0.092055</td>\n",
       "      <td>0.134228</td>\n",
       "      <td>0.116525</td>\n",
       "      <td>0.107249</td>\n",
       "    </tr>\n",
       "    <tr>\n",
       "      <th>crafts</th>\n",
       "      <td>0.012987</td>\n",
       "      <td>0.024823</td>\n",
       "      <td>0.046620</td>\n",
       "      <td>0.031526</td>\n",
       "      <td>0.019295</td>\n",
       "      <td>0.023305</td>\n",
       "      <td>0.034024</td>\n",
       "    </tr>\n",
       "    <tr>\n",
       "      <th>art</th>\n",
       "      <td>0.012987</td>\n",
       "      <td>0.042553</td>\n",
       "      <td>0.051282</td>\n",
       "      <td>0.093317</td>\n",
       "      <td>0.074664</td>\n",
       "      <td>0.050847</td>\n",
       "      <td>0.100592</td>\n",
       "    </tr>\n",
       "  </tbody>\n",
       "</table>\n",
       "</div>"
      ],
      "text/plain": [
       "                    jp        hk        sg        dk        se        no  \\\n",
       "design        0.246753  0.395390  0.282051  0.133670  0.095638  0.095339   \n",
       "games         0.207792  0.131206  0.121212  0.089533  0.166107  0.122881   \n",
       "technology    0.142857  0.278369  0.160839  0.223203  0.129195  0.216102   \n",
       "fashion       0.116883  0.062057  0.181818  0.081967  0.089765  0.072034   \n",
       "music         0.103896  0.008865  0.018648  0.099622  0.109060  0.135593   \n",
       "film & video  0.103896  0.023050  0.034965  0.108449  0.127517  0.116525   \n",
       "photography   0.025974  0.007092  0.013986  0.030265  0.039430  0.031780   \n",
       "theater       0.012987       NaN  0.025641  0.016393  0.015101  0.019068   \n",
       "publishing    0.012987  0.026596  0.062937  0.092055  0.134228  0.116525   \n",
       "crafts        0.012987  0.024823  0.046620  0.031526  0.019295  0.023305   \n",
       "art           0.012987  0.042553  0.051282  0.093317  0.074664  0.050847   \n",
       "\n",
       "                    mx  \n",
       "design        0.062130  \n",
       "games         0.093195  \n",
       "technology    0.140533  \n",
       "fashion       0.049556  \n",
       "music         0.137574  \n",
       "film & video  0.210799  \n",
       "photography   0.017751  \n",
       "theater       0.046598  \n",
       "publishing    0.107249  \n",
       "crafts        0.034024  \n",
       "art           0.100592  "
      ]
     },
     "execution_count": 63,
     "metadata": {},
     "output_type": "execute_result"
    }
   ],
   "source": [
    "ct_jp = df.loc[(df['country'] == 'JP')]['cat_type'].value_counts()\n",
    "ct_hk = df.loc[(df['country'] == 'HK')]['cat_type'].value_counts()\n",
    "ct_sg = df.loc[(df['country'] == 'SG')]['cat_type'].value_counts()\n",
    "ct_mx = df.loc[(df['country'] == 'MX')]['cat_type'].value_counts()\n",
    "ct_dk = df.loc[(df['country'] == 'DK')]['cat_type'].value_counts()\n",
    "ct_se = df.loc[(df['country'] == 'SE')]['cat_type'].value_counts()\n",
    "ct_no = df.loc[(df['country'] == 'NO')]['cat_type'].value_counts()\n",
    "df_ct = pd.DataFrame()\n",
    "df_ct['jp'] = ct_jp\n",
    "df_ct['hk'] = ct_hk\n",
    "df_ct['sg'] = ct_sg\n",
    "df_ct['mx'] = ct_mx\n",
    "df_ct['dk'] = ct_dk\n",
    "df_ct['se'] = ct_se\n",
    "df_ct['no'] = ct_no\n",
    "df_ct = df_ct[['jp','hk','sg','dk','se','no','mx']].transform(lambda x: x / x.sum())\n",
    "df_ct"
   ]
  },
  {
   "cell_type": "code",
   "execution_count": 65,
   "metadata": {},
   "outputs": [
    {
     "data": {
      "text/plain": [
       "<matplotlib.axes._subplots.AxesSubplot at 0x126edfe10>"
      ]
     },
     "execution_count": 65,
     "metadata": {},
     "output_type": "execute_result"
    },
    {
     "data": {
      "image/png": "[encoded data removed]",
      "text/plain": [
       "<matplotlib.figure.Figure at 0x125a90748>"
      ]
     },
     "metadata": {},
     "output_type": "display_data"
    },
    {
     "data": {
      "image/png": "[encoded data removed]",
      "text/plain": [
       "<matplotlib.figure.Figure at 0x121afc630>"
      ]
     },
     "metadata": {},
     "output_type": "display_data"
    },
    {
     "data": {
      "image/png": "[encoded data removed]",
      "text/plain": [
       "<matplotlib.figure.Figure at 0x125f21710>"
      ]
     },
     "metadata": {},
     "output_type": "display_data"
    }
   ],
   "source": [
    "df_ct.plot(y=['hk','no','mx'], kind='bar')\n",
    "df_ct.plot(y=['jp','hk','sg'], kind='bar')\n",
    "df_ct.plot(y=['dk','se','no'], kind='bar')"
   ]
  },
  {
   "cell_type": "code",
   "execution_count": 36,
   "metadata": {
    "collapsed": true
   },
   "outputs": [],
   "source": [
    "#plt.figure(1, (15,10))\n",
    "#plt.subplot(1, 2, 1)\n",
    "#sns.barplot(ct_jp.index, ct_jp.values/np.sum(ct_jp.values), color='purple', alpha=0.5)\n",
    "#sns.barplot(ct_dk.index, ct_dk.values/np.sum(ct_dk.values), color='blue', alpha=0.5)\n",
    "#plt.title(\"Denmark (blue) vs  Japan (purple)\")\n",
    "#plt.xticks(rotation=90)\n",
    "#plt.subplot(1, 2, 2)\n",
    "#sns.barplot(ct_mx.index, ct_mx.values/np.sum(ct_mx.values), color='green', alpha=0.5)\n",
    "#sns.barplot(ct_dk.index, ct_dk.values/np.sum(ct_dk.values), color='blue', alpha=0.5)\n",
    "#plt.title(\"Denmark (blue) vs Mexico (green)\")\n",
    "#plt.xticks(rotation=90)"
   ]
  },
  {
   "cell_type": "code",
   "execution_count": null,
   "metadata": {
    "collapsed": true
   },
   "outputs": [],
   "source": []
  }
 ],
 "metadata": {
  "kernelspec": {
   "display_name": "Python 3",
   "language": "python",
   "name": "python3"
  },
  "language_info": {
   "codemirror_mode": {
    "name": "ipython",
    "version": 3
   },
   "file_extension": ".py",
   "mimetype": "text/x-python",
   "name": "python",
   "nbconvert_exporter": "python",
   "pygments_lexer": "ipython3",
   "version": "3.6.1"
  }
 },
 "nbformat": 4,
 "nbformat_minor": 2
}
