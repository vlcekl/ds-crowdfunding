{
 "cells": [
  {
   "cell_type": "markdown",
   "metadata": {},
   "source": [
    "# Simple predictions of successful funding - logistic regression\n",
    "\n",
    "### _Lukas Vlcek_\n",
    "\n",
    "\n",
    "## Table of Contents\n",
    "\n",
    "* [1. Introduction](#1.-Introduction)\n",
    "* [2. Data setup](#2.-Data-setup)\n",
    "    * [2.1 Filter out unneeded data](#2.1-Filter-out-unneeded-data)\n",
    "    * [2.2 Create special features](#2.2-Create-special-features)\n",
    "* [3. Modeling](#3.-Modeling)\n",
    "    * [3.1 Select predictor and target features](#3.1-Select-predictor-and-target-features)\n",
    "    * [3.2 Train-test split pandas dataframe](#3.2-Train-test-split-pandas-dataframe)\n",
    "    * [3.3 Create a pipeline](#3.3-Create-a-pipeline)\n",
    "        * [3.3.1 Define special classes](#3.3.1-Define-special-classes)\n",
    "        * [3.3.2 Define pipeline structure](#3.3.2-Define-pipeline-structure)\n",
    "    * [3.4 Define grid search](#3.4-Define-grid-search)\n",
    "    * [3.5 Fit pipeline with best hyperparameters](#3.5-Fit-pipeline-with-best-hyperparameters)\n",
    "    * [3.6 Predictions of project success](#3.6-Predictions-of-project-success)\n",
    "    * [3.7 Model evaluation](#3.7-Model-evaluation)\n",
    "    * [3.8 Compare predictions with staff picks](#3.8-Compare-predictions-with-staff-picks)\n",
    "    * [3.9 Informative words in project names and blurbs](#3.9-Informative-words-in-project-names-and-blurbs)\n",
    "* [4. Conclusions](#4.-Conclusions)"
   ]
  },
  {
   "cell_type": "markdown",
   "metadata": {},
   "source": [
    "## 1. Introduction\n",
    "\n",
    "\n",
    "Our task is to classify crowdfunding projects into 'successful' or 'failed' categories, with the ultimate goal of providing the predictions of success and failure that can compete with human assessment at negligible cost. A rough guidance of the model prediction limits is comparison with staff picks, i.e., the suggestions of the Kickstarter staff for promising projects. These picks are received by about 10% of the proposed projects after careful evaluation of the project content. Clearly, staff pick information is not available to the proposers. The model can be used by proposers to test different parameters of their proposal, such as goal amount or project naming and description.\n",
    "\n",
    "Out of a number of available classification algorithms we chose the simple logistic regression for its speed, ease of interpretation, and flexibility. This flexibility is needed since we combine features of diverse datat types, including project category, country of origin, numerical goal amount, project name, and its description.\n",
    "\n",
    "The model hyperparameters are optimized by cross-validation grid search, and the resulting model is evaluated in terms of accuracy, precision, recall, and the area under the receiver operating characteristic (ROC) curve. Direct comparison is also made with staff picks success rates."
   ]
  },
  {
   "cell_type": "markdown",
   "metadata": {},
   "source": [
    "## 2. Data setup"
   ]
  },
  {
   "cell_type": "markdown",
   "metadata": {},
   "source": [
    "Notebook configuration"
   ]
  },
  {
   "cell_type": "code",
   "execution_count": 1,
   "metadata": {
    "collapsed": true
   },
   "outputs": [],
   "source": [
    "%matplotlib inline\n",
    "import os\n",
    "import numpy as np\n",
    "import pandas as pd\n",
    "import matplotlib.pyplot as plt\n",
    "import seaborn as sns\n",
    "import datetime"
   ]
  },
  {
   "cell_type": "markdown",
   "metadata": {},
   "source": [
    "Create a dataframe from a pre-processed CSV file and filter out uninformative features"
   ]
  },
  {
   "cell_type": "code",
   "execution_count": 2,
   "metadata": {
    "collapsed": true
   },
   "outputs": [],
   "source": [
    "target_path = '../data/processed'\n",
    "report_path = '../reports'\n",
    "filename = 'kick_id.csv'\n",
    "datecols = ['created_at', 'deadline', 'state_changed_at', 'launched_at']\n",
    "fdatpars = lambda x: datetime.datetime.fromtimestamp(int(x)).strftime('%Y-%m-%d %H:%M:%S')\n",
    "df = pd.read_csv(os.path.join(target_path, filename), index_col='id', parse_dates=datecols, date_parser=fdatpars)"
   ]
  },
  {
   "cell_type": "markdown",
   "metadata": {},
   "source": [
    "### 2.1 Filter out unneeded data"
   ]
  },
  {
   "cell_type": "code",
   "execution_count": 3,
   "metadata": {
    "collapsed": true
   },
   "outputs": [],
   "source": [
    "df = df.drop(['disable_communication'], axis='columns')\n",
    "df = df.loc[(df['state'] != 'live') & (df['state'] != 'suspended')]\n",
    "cat_type = [x.split('/')[0] for x in df['category'].values]\n",
    "df['cat_type'] = np.array(cat_type)\n",
    "#df['dummy'] = 1\n",
    "df['period'] = (df['launched_at'] >= '2014-06-01') & (df['launched_at'] < '2018-01-01')\n",
    "df['succeeded'] = np.int_(df['state'] == 'successful')\n",
    "df['staff_pick'] = np.int_(df['staff_pick'])\n",
    "#df.sort_values('launched_at').loc[df.period]['launched_at'].shape"
   ]
  },
  {
   "cell_type": "code",
   "execution_count": 4,
   "metadata": {
    "collapsed": true
   },
   "outputs": [],
   "source": [
    "# counting words in project names and blurbs\n",
    "df.loc[df['blurb'].isnull(), 'blurb'] = ''\n",
    "df.loc[df['name'].isnull(), 'name'] = ''\n",
    "df['blurb_wlen'] = df['blurb'].str.split().apply(len)\n",
    "df['name_wlen'] = df['name'].str.split().apply(len)"
   ]
  },
  {
   "cell_type": "code",
   "execution_count": 5,
   "metadata": {},
   "outputs": [
    {
     "data": {
      "text/plain": [
       "((149007, 22), (89449, 22))"
      ]
     },
     "execution_count": 5,
     "metadata": {},
     "output_type": "execute_result"
    }
   ],
   "source": [
    "# make new dataframes with new and old data\n",
    "dfn = df.loc[df.period].copy()\n",
    "dfo = df.loc[~df.period].copy()\n",
    "dfn.shape, dfo.shape"
   ]
  },
  {
   "cell_type": "code",
   "execution_count": 6,
   "metadata": {
    "collapsed": true
   },
   "outputs": [],
   "source": [
    "# take logarithm of goals\n",
    "dfn['goal_log'] = np.log10(dfn['goal'].values)"
   ]
  },
  {
   "cell_type": "code",
   "execution_count": 7,
   "metadata": {
    "collapsed": true
   },
   "outputs": [],
   "source": [
    "# drop unwanted columns\n",
    "dfm = dfn.drop(['usd_pledged','goal','state','slug','currency','deadline','state_changed_at','created_at','backers_count','spotlight','period'], axis=1).copy()"
   ]
  },
  {
   "cell_type": "markdown",
   "metadata": {},
   "source": [
    "### 2.2 Create special features"
   ]
  },
  {
   "cell_type": "code",
   "execution_count": 8,
   "metadata": {
    "collapsed": true
   },
   "outputs": [],
   "source": [
    "# Divide goal_log feature into category-specific goals\n",
    "for cat in dfm['cat_type'].unique():\n",
    "    dfm['goal_'+cat] = dfm['goal_log']\n",
    "    dfm.loc[dfm.cat_type != cat, 'goal_'+cat] = 0.0\n",
    "\n",
    "dfm = dfm.drop('goal_log', axis=1)"
   ]
  },
  {
   "cell_type": "code",
   "execution_count": 9,
   "metadata": {
    "collapsed": true
   },
   "outputs": [],
   "source": [
    "# get dummies for country and category type\n",
    "dfd = pd.get_dummies(dfm, columns=['country'], drop_first=True)\n",
    "dfd = pd.get_dummies(dfd, columns=['cat_type'], drop_first=True)"
   ]
  },
  {
   "cell_type": "markdown",
   "metadata": {},
   "source": [
    "## 3. Modeling"
   ]
  },
  {
   "cell_type": "code",
   "execution_count": 10,
   "metadata": {
    "collapsed": true
   },
   "outputs": [],
   "source": [
    "# ML imports\n",
    "from sklearn.feature_extraction.text import CountVectorizer, TfidfVectorizer\n",
    "from sklearn.model_selection import train_test_split, GridSearchCV, cross_val_score, cross_val_predict\n",
    "from sklearn.feature_selection import SelectKBest, chi2, mutual_info_classif\n",
    "from sklearn.linear_model import LogisticRegression, LogisticRegressionCV\n",
    "from sklearn.metrics import roc_curve, roc_auc_score, classification_report\n",
    "from sklearn.base import TransformerMixin, BaseEstimator\n",
    "from sklearn.pipeline import Pipeline, FeatureUnion\n",
    "from sklearn.svm import SVC"
   ]
  },
  {
   "cell_type": "markdown",
   "metadata": {},
   "source": [
    "### 3.1 Select predictor and target features"
   ]
  },
  {
   "cell_type": "code",
   "execution_count": 11,
   "metadata": {
    "collapsed": true
   },
   "outputs": [],
   "source": [
    "# non-textual predictors\n",
    "predictors_nt = []\n",
    "predictors_nt.extend([c for c in dfd.columns if c[0:5] == 'cat_t' ]) # category types (dummy)\n",
    "predictors_nt.extend([c for c in dfd.columns if c[0:5] == 'count' ]) # countries (dummy)\n",
    "predictors_nt.extend([c for c in dfd.columns if c[0:5] == 'goal_' ]) # goals per category\n",
    "predictors_nt.extend(['name_wlen']) # length of the project name\n",
    "\n",
    "# textual predictors\n",
    "predictors_text = []\n",
    "predictors_text.extend(['name', 'blurb']) # words in name and blurb\n",
    "\n",
    "# all predictors\n",
    "predictors = predictors_nt + predictors_text\n",
    "\n",
    "# target feature\n",
    "target = ['succeeded']"
   ]
  },
  {
   "cell_type": "markdown",
   "metadata": {},
   "source": [
    "### 3.2 Train-test split pandas dataframe"
   ]
  },
  {
   "cell_type": "code",
   "execution_count": 12,
   "metadata": {
    "collapsed": true
   },
   "outputs": [],
   "source": [
    "df_train=dfd.sample(frac=0.8,random_state=200)\n",
    "df_test=dfd.drop(df_train.index)"
   ]
  },
  {
   "cell_type": "code",
   "execution_count": 13,
   "metadata": {
    "collapsed": true
   },
   "outputs": [],
   "source": [
    "# Training dataset\n",
    "Xtrain = df_train[predictors]\n",
    "ytrain = df_train[target].values.astype(np.int).flatten() \n",
    "\n",
    "# Testing dataset\n",
    "Xtest = df_test[predictors]\n",
    "ytest = df_test[target].values.astype(np.int).flatten() "
   ]
  },
  {
   "cell_type": "markdown",
   "metadata": {},
   "source": [
    "### 3.3 Create a pipeline\n",
    "\n",
    "1. Textual features (name, blurb) will be separated for their individual treatment\n",
    "2. Textual features will be individually vectorized\n",
    "3. $\\chi^2$ feature selection will be performed on the vectorized features.\n",
    "4. The selected textual features will be combined with other features\n",
    "5. Logistic regression will be applied. (LASSO regularization will further reduce the number of relevant features).\n",
    "\n",
    "\n",
    "\n",
    "#### 3.3.1 Define special classes\n",
    "\n",
    "Special classes are needed to separate, process, and join selected features from pandas dataframes."
   ]
  },
  {
   "cell_type": "code",
   "execution_count": 14,
   "metadata": {
    "collapsed": true
   },
   "outputs": [],
   "source": [
    "# Define a selector class to be used in the main pipeline\n",
    "class ColumnSelector(BaseEstimator, TransformerMixin):\n",
    "    \"\"\"Select a column from pandas dataframe.\n",
    "    Transfrom returns pandas Series \"\"\"\n",
    "    \n",
    "    def __init__(self, column=''):\n",
    "        self.column = column\n",
    "\n",
    "    def fit(self, dataframe, y=None):\n",
    "        return self\n",
    "\n",
    "    def transform(self, dataframe):\n",
    "        return dataframe[self.column]"
   ]
  },
  {
   "cell_type": "code",
   "execution_count": 15,
   "metadata": {
    "collapsed": true
   },
   "outputs": [],
   "source": [
    "class FeaturesSelector(BaseEstimator, TransformerMixin):\n",
    "    \"\"\"Select columns from pandas dataframe.\n",
    "    Transform returns numpy array with one or more features\"\"\"\n",
    "    \n",
    "    def __init__(self, columns=[]):\n",
    "        self.columns = columns\n",
    "\n",
    "    def fit(self, dataframe, y=None):\n",
    "        return self\n",
    "\n",
    "    def transform(self, dataframe):\n",
    "        return dataframe[self.columns].values"
   ]
  },
  {
   "cell_type": "markdown",
   "metadata": {},
   "source": [
    "#### 3.3.2 Define pipeline structure"
   ]
  },
  {
   "cell_type": "code",
   "execution_count": 16,
   "metadata": {
    "collapsed": true
   },
   "outputs": [],
   "source": [
    "# Define the main pipeline (contains sub-pipelenes for text processing and feature selection)\n",
    "pipeline = Pipeline([\n",
    "    #('categories', FeatureUnion()) FeatureUnion based on catogories, make separate dataframes for each category\n",
    "    ('union', FeatureUnion(\n",
    "        transformer_list=[\n",
    "            ('name', Pipeline([\n",
    "                ('selector', ColumnSelector('name')),\n",
    "                ('vectorizer', CountVectorizer()),\n",
    "                ('reduce_dim', SelectKBest(score_func=chi2, k=2000))\n",
    "            ])),\n",
    "            ('blurb', Pipeline([\n",
    "                ('selector', ColumnSelector('blurb')),\n",
    "                ('vectorizer', CountVectorizer()),\n",
    "                ('reduce_dim', SelectKBest(score_func=chi2, k=2000))\n",
    "            ])),\n",
    "            ('rest', Pipeline([\n",
    "                ('selector', FeaturesSelector(predictors_nt)),\n",
    "            ]))\n",
    "        ])),\n",
    "    ('logreg', LogisticRegression(penalty='l2', C=0.2))\n",
    "])"
   ]
  },
  {
   "cell_type": "markdown",
   "metadata": {},
   "source": [
    "### 3.4 Define grid search\n",
    "\n",
    "Find optimal hyperparameters"
   ]
  },
  {
   "cell_type": "code",
   "execution_count": 22,
   "metadata": {
    "collapsed": true
   },
   "outputs": [],
   "source": [
    "# parameter grid to explore\n",
    "param_grid = {\n",
    "        'logreg__C': [0.1, 0.2, 0.3, 0.4, 0.5],\n",
    "        #'logreg__penalty': ['l1', 'l2'],\n",
    "        'union__name__reduce_dim__k' : [1000, 2000],\n",
    "        'union__blurb__reduce_dim__k' : [1000, 2000],\n",
    "        #'union__name__reduce_dim__score_func' : [chi2, mutual_info_classif]\n",
    "}\n",
    "# alphabetically sorted parameters\n",
    "grid_list = sorted(param_grid)"
   ]
  },
  {
   "cell_type": "code",
   "execution_count": 23,
   "metadata": {
    "collapsed": true
   },
   "outputs": [],
   "source": [
    "# Define grid search object\n",
    "grid = GridSearchCV(pipeline, cv=3, param_grid=param_grid)"
   ]
  },
  {
   "cell_type": "markdown",
   "metadata": {},
   "source": [
    "### 3.5 Fit pipeline with best hyperparameters"
   ]
  },
  {
   "cell_type": "code",
   "execution_count": 24,
   "metadata": {},
   "outputs": [
    {
     "data": {
      "text/plain": [
       "GridSearchCV(cv=3, error_score='raise',\n",
       "       estimator=Pipeline(steps=[('union', FeatureUnion(n_jobs=1,\n",
       "       transformer_list=[('name', Pipeline(steps=[('selector', ColumnSelector(column='name')), ('vectorizer', CountVectorizer(analyzer='word', binary=False, decode_error='strict',\n",
       "        dtype=<class 'numpy.int64'>, encoding='utf-8', input='content',\n",
       "        ...ty='l2', random_state=None, solver='liblinear', tol=0.0001,\n",
       "          verbose=0, warm_start=False))]),\n",
       "       fit_params={}, iid=True, n_jobs=1,\n",
       "       param_grid={'logreg__C': [0.1, 0.2, 0.3, 0.4, 0.5], 'union__name__reduce_dim__k': [1000, 2000], 'union__blurb__reduce_dim__k': [1000, 2000]},\n",
       "       pre_dispatch='2*n_jobs', refit=True, return_train_score=True,\n",
       "       scoring=None, verbose=0)"
      ]
     },
     "execution_count": 24,
     "metadata": {},
     "output_type": "execute_result"
    }
   ],
   "source": [
    "# perform fit\n",
    "grid.fit(Xtrain, ytrain)"
   ]
  },
  {
   "cell_type": "code",
   "execution_count": 25,
   "metadata": {},
   "outputs": [
    {
     "name": "stdout",
     "output_type": "stream",
     "text": [
      "Maximum score: 0.751237353824\n",
      "Best hyperparameters:\n",
      "  logreg__C : 0.2\n",
      "  union__blurb__reduce_dim__k : 2000\n",
      "  union__name__reduce_dim__k : 2000\n"
     ]
    }
   ],
   "source": [
    "# Identify optimal parameters\n",
    "mean_scores = np.array(grid.cv_results_['mean_test_score']).reshape(5,2,2)\n",
    "print('Maximum score:', mean_scores.max())\n",
    "best_index = np.unravel_index(np.argmax(mean_scores, axis=None), mean_scores.shape)\n",
    "print('Best hyperparameters:')\n",
    "for i, j in enumerate(best_index):\n",
    "    print(' ', grid_list[i],':', param_grid[grid_list[i]][j])"
   ]
  },
  {
   "cell_type": "markdown",
   "metadata": {},
   "source": [
    "### 3.6 Predictions of project success"
   ]
  },
  {
   "cell_type": "code",
   "execution_count": 26,
   "metadata": {
    "collapsed": true
   },
   "outputs": [],
   "source": [
    "y_pred = grid.predict(Xtest)\n",
    "y_pred_prob = grid.predict_proba(Xtest)"
   ]
  },
  {
   "cell_type": "markdown",
   "metadata": {},
   "source": [
    "### 3.7 Model evaluation"
   ]
  },
  {
   "cell_type": "code",
   "execution_count": 27,
   "metadata": {},
   "outputs": [
    {
     "name": "stdout",
     "output_type": "stream",
     "text": [
      "Accuracy on the training data: 0.776395483449\n",
      "Accuracy on the testing data: 0.751518405423\n"
     ]
    }
   ],
   "source": [
    "print('Accuracy on the training data:', grid.score(Xtrain, ytrain))\n",
    "print('Accuracy on the testing data:', grid.score(Xtest, ytest))"
   ]
  },
  {
   "cell_type": "code",
   "execution_count": 28,
   "metadata": {},
   "outputs": [
    {
     "name": "stdout",
     "output_type": "stream",
     "text": [
      "Classification report\n",
      "---------------------\n",
      "             precision    recall  f1-score   support\n",
      "\n",
      "          0       0.77      0.84      0.81     18386\n",
      "          1       0.70      0.60      0.65     11415\n",
      "\n",
      "avg / total       0.75      0.75      0.75     29801\n",
      "\n"
     ]
    }
   ],
   "source": [
    "print(\"Classification report\\n---------------------\")\n",
    "print(classification_report(ytest, y_pred))"
   ]
  },
  {
   "cell_type": "code",
   "execution_count": 29,
   "metadata": {},
   "outputs": [
    {
     "name": "stdout",
     "output_type": "stream",
     "text": [
      "AUC: 0.82710372482\n"
     ]
    },
    {
     "data": {
      "image/png": "[encoded data removed]",
      "text/plain": [
       "<matplotlib.figure.Figure at 0x18a45eeb8>"
      ]
     },
     "metadata": {},
     "output_type": "display_data"
    }
   ],
   "source": [
    "fpr, tpr, thresholds = roc_curve(ytest, y_pred_prob[:,1])\n",
    "plt.plot(fpr, tpr)\n",
    "plt.plot([0,1],[0,1])\n",
    "plt.axis([0,1,0,1])\n",
    "plt.xlabel('False positive rate')\n",
    "plt.ylabel('True postitive rate')\n",
    "plt.title(\"Receiver Operating Characteristic (ROC)\")\n",
    "print('AUC:', roc_auc_score(ytest, y_pred_prob[:,1]))\n",
    "plt.savefig('../reports/figures/roc.png')"
   ]
  },
  {
   "cell_type": "markdown",
   "metadata": {},
   "source": [
    "### 3.8 Compare predictions with staff picks\n",
    "\n",
    "Staff picks can be considered as optimizing precision. The data shows precision of 0.86, with recall of 0.21.\n",
    "\n",
    "Setting the threshold to 10% selected projects, we can predict precision and recall of staff picks from our model."
   ]
  },
  {
   "cell_type": "code",
   "execution_count": 30,
   "metadata": {},
   "outputs": [
    {
     "name": "stdout",
     "output_type": "stream",
     "text": [
      "Fraction of picked projects at threshold 0.785: 0.100902654273\n"
     ]
    }
   ],
   "source": [
    "# Find threshold for 10% selection rate\n",
    "#thresh = np.linspace(0.0, 1.0, 101)\n",
    "#for t in thresh:\n",
    "#    print(t, np.sum(y_pred_prob[:,1] > t)/y_pred_prob.shape[0])\n",
    "\n",
    "y_predx = np.int_(y_pred_prob[:,1] > 0.785)\n",
    "print('Fraction of picked projects at threshold 0.785:', np.sum(y_predx)/y_predx.shape[0])"
   ]
  },
  {
   "cell_type": "code",
   "execution_count": 31,
   "metadata": {},
   "outputs": [
    {
     "name": "stdout",
     "output_type": "stream",
     "text": [
      "             precision    recall  f1-score   support\n",
      "\n",
      "          0       0.67      0.98      0.80     18386\n",
      "          1       0.86      0.23      0.36     11415\n",
      "\n",
      "avg / total       0.74      0.69      0.63     29801\n",
      "\n"
     ]
    }
   ],
   "source": [
    "print(classification_report(ytest, y_predx))"
   ]
  },
  {
   "cell_type": "markdown",
   "metadata": {},
   "source": [
    "Our model picks based on historical data match almost exactly the precision (0.86) with higher recall (0.23) of real staff picks, which are not available to proposers."
   ]
  },
  {
   "cell_type": "markdown",
   "metadata": {},
   "source": [
    "### 3.9 Informative words in project names and blurbs\n",
    "\n",
    "Identify 100 words that result in the highest chi2 score in feature selection. (More words are usually needed for better classification.)"
   ]
  },
  {
   "cell_type": "code",
   "execution_count": 32,
   "metadata": {
    "collapsed": true
   },
   "outputs": [],
   "source": [
    "word_pipe = {}\n",
    "cols = ['name','blurb']\n",
    "for col in cols:\n",
    "    word_pipe[col]  = Pipeline([('selector', ColumnSelector(col)),\n",
    "                                ('vectorizer', CountVectorizer()),\n",
    "                                ('reduce_dim', SelectKBest(score_func=chi2, k=100))\n",
    "                      ])"
   ]
  },
  {
   "cell_type": "code",
   "execution_count": 33,
   "metadata": {},
   "outputs": [
    {
     "name": "stdout",
     "output_type": "stream",
     "text": [
      "\n",
      "100 most informative words from project names\n",
      "\n",
      "['terrain', 'the', 'by', 'album', 'playing', 'cards', 'presents', 'board', 'game', 'mobile', 'comic', 'book', 'vol', 'canceled', 'app', 'new', 'of', 'film', 'short', 'com', 'dance', 'enamel', 'pins', 'restaurant', 'business', 'my', 'most', 'burning', '2014', 'novel', 'debut', 'ep', 'watch', 'youtube', 'brand', 'steampunk', 'about', 'minimalist', '2016', 'record', 'roleplaying', 'social', 'apparel', 'volume', 'watches', 'food', 'miniatures', 'bike', 'bag', 'edinburgh', 'edition', 'tarot', 'full', 'length', 'fantasy', 'rpg', 'issue', 'pin', '2017', 'network', 'fashion', 'tabletop', 'coloring', 'dice', 'clothing', 'sci', 'fi', 'season', 'nudes', 'documentary', 'dungeon', 'wallet', 'truck', 'set', 'pens', 'backpack', 'card', '5e', 'online', 'website', 'titanium', 'anthology', 'media', 'vinyl', 'pen', 'carbon', 'sports', 'miniature', 'thesis', 'plush', 'fringe', 'zine', '28mm', 'residency', 'news', 'cthulhu', 'bbq', 'carry', 'edc', 'pathfinder']\n",
      "\n",
      "100 most informative words from project blurbs\n",
      "\n",
      "['the', 'to', 'be', 'of', 'that', 'new', 'album', 'my', 'deck', 'cards', 'featuring', 'illustrated', 'pen', 'by', '28mm', 'miniatures', 'like', 'app', 'have', 'money', 'can', 'restaurant', 'first', 'want', 'board', 'mobile', 'will', 'would', 'create', 'set', 'am', 'comic', 'about', 'two', 'film', 'trying', 'short', 'social', 'site', 'people', 'dance', 'food', 'inspired', 'enamel', 'pins', 'business', 'theatre', 'comics', 'media', 'release', 'documentary', 'his', 'network', 'creating', 'fantasy', 'her', 'rpg', 'dice', 'anthology', 'ep', 'length', 'songs', 'website', 'users', 'truck', 'sell', 'start', 'players', 'issue', 'online', 'platform', 'folk', 'playing', 'debut', 'looking', 'award', 'youtube', 'recording', 'stretch', 'clothing', 'edition', 'fashion', 'provide', 'application', 'com', 'sports', 'exploring', 'monsters', 'service', 'card', 'pin', 'second', 'wallet', 'performance', 'limited', 'im', 'news', 'titanium', 'fringe', 'tabletop']\n"
     ]
    }
   ],
   "source": [
    "for col in cols:\n",
    "    word_pipe[col].fit(Xtrain, ytrain)\n",
    "    indices = np.nonzero(word_pipe[col].named_steps['reduce_dim'].get_support())\n",
    "    voca = word_pipe[col].named_steps['vectorizer'].vocabulary_\n",
    "    print(f'\\n{len(indices[0])} most informative words from project {col}s\\n')\n",
    "    print([key for key, value in voca.items() if value in indices[0]])"
   ]
  },
  {
   "cell_type": "markdown",
   "metadata": {},
   "source": [
    "The most important words are highly indicative of the category, so conditioning on category (have predictors for each category), may select a smaller number of words adding truly new information. Interestingly, there are many usual stop-words selected."
   ]
  },
  {
   "cell_type": "markdown",
   "metadata": {
    "collapsed": true
   },
   "source": [
    "## 4. Conclusions"
   ]
  },
  {
   "cell_type": "markdown",
   "metadata": {},
   "source": [
    "The resulting model achieves around 75% accuracy on the testing data and value of ~0.83 for the area under ROC curve. The latter characteristic is often considered 'good'. Also, this simple model can match or exceed the precision and recall characteristics of staff picks, which are based on evaluation of the proposal content.\n",
    "\n",
    "If needed, the model could be further improved by accounting for correlations between category and project name/description. A look at the most informative words in the project name/description suggest that they are highly correlated with the category, and also contain many common words, such as 'the', be', etc., which by themselves do not contain information about the underlying project. A more complete natural language analysis could be expected to improve the current model predictions."
   ]
  }
 ],
 "metadata": {
  "kernelspec": {
   "display_name": "Python 3",
   "language": "python",
   "name": "python3"
  },
  "language_info": {
   "codemirror_mode": {
    "name": "ipython",
    "version": 3
   },
   "file_extension": ".py",
   "mimetype": "text/x-python",
   "name": "python",
   "nbconvert_exporter": "python",
   "pygments_lexer": "ipython3",
   "version": "3.6.1"
  }
 },
 "nbformat": 4,
 "nbformat_minor": 2
}
