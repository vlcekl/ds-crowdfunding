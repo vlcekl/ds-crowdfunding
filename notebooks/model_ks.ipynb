{
 "cells": [
  {
   "cell_type": "markdown",
   "metadata": {},
   "source": [
    "# Simple predictions of successful funding - logistic regression\n",
    "\n",
    "### _Lukas Vlcek_\n",
    "\n",
    "## 1. Introduction\n",
    "\n",
    "Kickstarter records contain more than 200,000 projects, with information about the ultimate success or failure of their funding campaign, the type of the proposed work, country of origin, or amounts of money asked and pledged by funders."
   ]
  },
  {
   "cell_type": "markdown",
   "metadata": {},
   "source": [
    "## 2. Data setup"
   ]
  },
  {
   "cell_type": "markdown",
   "metadata": {},
   "source": [
    "Notebook configuration"
   ]
  },
  {
   "cell_type": "code",
   "execution_count": 1,
   "metadata": {
    "collapsed": true
   },
   "outputs": [],
   "source": [
    "%matplotlib inline\n",
    "import os\n",
    "import numpy as np\n",
    "import pandas as pd\n",
    "import matplotlib.pyplot as plt\n",
    "import seaborn as sns\n",
    "import datetime"
   ]
  },
  {
   "cell_type": "markdown",
   "metadata": {},
   "source": [
    "Create a dataframe from a pre-processed CSV file and filter out uninformative features"
   ]
  },
  {
   "cell_type": "code",
   "execution_count": 2,
   "metadata": {
    "collapsed": true
   },
   "outputs": [],
   "source": [
    "target_path = '../data/processed'\n",
    "report_path = '../reports'\n",
    "filename = 'kick_id.csv'\n",
    "datecols = ['created_at', 'deadline', 'state_changed_at', 'launched_at']\n",
    "fdatpars = lambda x: datetime.datetime.fromtimestamp(int(x)).strftime('%Y-%m-%d %H:%M:%S')\n",
    "df = pd.read_csv(os.path.join(target_path, filename), index_col='id', parse_dates=datecols, date_parser=fdatpars)"
   ]
  },
  {
   "cell_type": "markdown",
   "metadata": {},
   "source": [
    "Filter out unneeded data and add some indicator features"
   ]
  },
  {
   "cell_type": "code",
   "execution_count": 3,
   "metadata": {},
   "outputs": [
    {
     "data": {
      "text/plain": [
       "(149007,)"
      ]
     },
     "execution_count": 3,
     "metadata": {},
     "output_type": "execute_result"
    }
   ],
   "source": [
    "df = df.drop(['disable_communication'], axis='columns')\n",
    "df = df.loc[(df['state'] != 'live') & (df['state'] != 'suspended')]\n",
    "cat_type = [x.split('/')[0] for x in df['category'].values]\n",
    "df['cat_type'] = np.array(cat_type)\n",
    "df['dummy'] = 1\n",
    "df['period'] = (df['launched_at'] >= '2014-06-01') & (df['launched_at'] < '2018-01-01')\n",
    "df['succeeded'] = np.int_(df['state'] == 'successful')\n",
    "df['staff_pick'] = np.int_(df['staff_pick'])\n",
    "df.sort_values('launched_at').loc[df.period]['launched_at'].shape"
   ]
  },
  {
   "cell_type": "code",
   "execution_count": 4,
   "metadata": {},
   "outputs": [
    {
     "data": {
      "text/html": [
       "<div>\n",
       "<style>\n",
       "    .dataframe thead tr:only-child th {\n",
       "        text-align: right;\n",
       "    }\n",
       "\n",
       "    .dataframe thead th {\n",
       "        text-align: left;\n",
       "    }\n",
       "\n",
       "    .dataframe tbody tr th {\n",
       "        vertical-align: top;\n",
       "    }\n",
       "</style>\n",
       "<table border=\"1\" class=\"dataframe\">\n",
       "  <thead>\n",
       "    <tr style=\"text-align: right;\">\n",
       "      <th></th>\n",
       "      <th>name</th>\n",
       "      <th>goal</th>\n",
       "      <th>pledged</th>\n",
       "      <th>usd_pledged</th>\n",
       "      <th>state</th>\n",
       "      <th>slug</th>\n",
       "      <th>country</th>\n",
       "      <th>currency</th>\n",
       "      <th>deadline</th>\n",
       "      <th>state_changed_at</th>\n",
       "      <th>...</th>\n",
       "      <th>backers_count</th>\n",
       "      <th>blurb</th>\n",
       "      <th>spotlight</th>\n",
       "      <th>category</th>\n",
       "      <th>cat_type</th>\n",
       "      <th>dummy</th>\n",
       "      <th>period</th>\n",
       "      <th>succeeded</th>\n",
       "      <th>blurb_wlen</th>\n",
       "      <th>name_wlen</th>\n",
       "    </tr>\n",
       "    <tr>\n",
       "      <th>id</th>\n",
       "      <th></th>\n",
       "      <th></th>\n",
       "      <th></th>\n",
       "      <th></th>\n",
       "      <th></th>\n",
       "      <th></th>\n",
       "      <th></th>\n",
       "      <th></th>\n",
       "      <th></th>\n",
       "      <th></th>\n",
       "      <th></th>\n",
       "      <th></th>\n",
       "      <th></th>\n",
       "      <th></th>\n",
       "      <th></th>\n",
       "      <th></th>\n",
       "      <th></th>\n",
       "      <th></th>\n",
       "      <th></th>\n",
       "      <th></th>\n",
       "      <th></th>\n",
       "    </tr>\n",
       "  </thead>\n",
       "  <tbody>\n",
       "    <tr>\n",
       "      <th>796533179</th>\n",
       "      <td></td>\n",
       "      <td>35000.0</td>\n",
       "      <td>220.0</td>\n",
       "      <td>220.0</td>\n",
       "      <td>failed</td>\n",
       "      <td>you-have-the-power-to-put-our-film-in-theaters</td>\n",
       "      <td>US</td>\n",
       "      <td>USD</td>\n",
       "      <td>2011-12-04 23:59:00</td>\n",
       "      <td>2011-12-04 23:59:02</td>\n",
       "      <td>...</td>\n",
       "      <td>5</td>\n",
       "      <td></td>\n",
       "      <td>False</td>\n",
       "      <td>art/painting</td>\n",
       "      <td>art</td>\n",
       "      <td>1</td>\n",
       "      <td>False</td>\n",
       "      <td>0</td>\n",
       "      <td>0</td>\n",
       "      <td>0</td>\n",
       "    </tr>\n",
       "  </tbody>\n",
       "</table>\n",
       "<p>1 rows × 23 columns</p>\n",
       "</div>"
      ],
      "text/plain": [
       "          name     goal  pledged  usd_pledged   state  \\\n",
       "id                                                      \n",
       "796533179       35000.0    220.0        220.0  failed   \n",
       "\n",
       "                                                     slug country currency  \\\n",
       "id                                                                           \n",
       "796533179  you-have-the-power-to-put-our-film-in-theaters      US      USD   \n",
       "\n",
       "                     deadline    state_changed_at    ...     backers_count  \\\n",
       "id                                                   ...                     \n",
       "796533179 2011-12-04 23:59:00 2011-12-04 23:59:02    ...                 5   \n",
       "\n",
       "          blurb  spotlight      category cat_type  dummy period succeeded  \\\n",
       "id                                                                          \n",
       "796533179            False  art/painting      art      1  False         0   \n",
       "\n",
       "           blurb_wlen  name_wlen  \n",
       "id                                \n",
       "796533179           0          0  \n",
       "\n",
       "[1 rows x 23 columns]"
      ]
     },
     "execution_count": 4,
     "metadata": {},
     "output_type": "execute_result"
    }
   ],
   "source": [
    "#df['yes_blurb'] = df['blurb'].notnull()\n",
    "#df = df.copy()\n",
    "df.loc[df['blurb'].isnull(), 'blurb'] = ''\n",
    "df.loc[df['name'].isnull(), 'name'] = ''\n",
    "#df['blurb_len'] = df['blurb'].str.len()\n",
    "#df['name_len'] = np.int_(df['name'].str.len())\n",
    "df['blurb_wlen'] = df['blurb'].str.split().apply(len)\n",
    "df['name_wlen'] = df['name'].str.split().apply(len)\n",
    "#df['name_wlen'].apply(len)\n",
    "df.loc[df['name_wlen'] == 0]"
   ]
  },
  {
   "cell_type": "code",
   "execution_count": 5,
   "metadata": {},
   "outputs": [
    {
     "data": {
      "text/plain": [
       "((149007, 23), (89449, 23))"
      ]
     },
     "execution_count": 5,
     "metadata": {},
     "output_type": "execute_result"
    }
   ],
   "source": [
    "# make new dataframes with new and old data\n",
    "dfn = df.loc[df.period].copy()\n",
    "dfo = df.loc[~df.period].copy()\n",
    "dfn.shape, dfo.shape"
   ]
  },
  {
   "cell_type": "code",
   "execution_count": 6,
   "metadata": {},
   "outputs": [],
   "source": [
    "dfn['goal_log'] = np.log10(dfn['goal'].values)"
   ]
  },
  {
   "cell_type": "code",
   "execution_count": 7,
   "metadata": {},
   "outputs": [],
   "source": [
    "dfm = dfn.drop(['usd_pledged','goal','state','slug','currency','deadline','state_changed_at','created_at','backers_count','spotlight','period'], axis=1).copy()"
   ]
  },
  {
   "cell_type": "code",
   "execution_count": 8,
   "metadata": {},
   "outputs": [
    {
     "data": {
      "text/html": [
       "<div>\n",
       "<style>\n",
       "    .dataframe thead tr:only-child th {\n",
       "        text-align: right;\n",
       "    }\n",
       "\n",
       "    .dataframe thead th {\n",
       "        text-align: left;\n",
       "    }\n",
       "\n",
       "    .dataframe tbody tr th {\n",
       "        vertical-align: top;\n",
       "    }\n",
       "</style>\n",
       "<table border=\"1\" class=\"dataframe\">\n",
       "  <thead>\n",
       "    <tr style=\"text-align: right;\">\n",
       "      <th></th>\n",
       "      <th>name</th>\n",
       "      <th>pledged</th>\n",
       "      <th>country</th>\n",
       "      <th>launched_at</th>\n",
       "      <th>staff_pick</th>\n",
       "      <th>blurb</th>\n",
       "      <th>category</th>\n",
       "      <th>cat_type</th>\n",
       "      <th>dummy</th>\n",
       "      <th>succeeded</th>\n",
       "      <th>blurb_wlen</th>\n",
       "      <th>name_wlen</th>\n",
       "      <th>goal_log</th>\n",
       "    </tr>\n",
       "    <tr>\n",
       "      <th>id</th>\n",
       "      <th></th>\n",
       "      <th></th>\n",
       "      <th></th>\n",
       "      <th></th>\n",
       "      <th></th>\n",
       "      <th></th>\n",
       "      <th></th>\n",
       "      <th></th>\n",
       "      <th></th>\n",
       "      <th></th>\n",
       "      <th></th>\n",
       "      <th></th>\n",
       "      <th></th>\n",
       "    </tr>\n",
       "  </thead>\n",
       "  <tbody>\n",
       "    <tr>\n",
       "      <th>18520</th>\n",
       "      <td>Grandma's are Life</td>\n",
       "      <td>62.0</td>\n",
       "      <td>US</td>\n",
       "      <td>2016-10-19 09:32:40</td>\n",
       "      <td>0</td>\n",
       "      <td>Raising money to help my grandmother recover f...</td>\n",
       "      <td>music/world music</td>\n",
       "      <td>music</td>\n",
       "      <td>1</td>\n",
       "      <td>0</td>\n",
       "      <td>24</td>\n",
       "      <td>3</td>\n",
       "      <td>4.176091</td>\n",
       "    </tr>\n",
       "    <tr>\n",
       "      <th>21109</th>\n",
       "      <td>Meta</td>\n",
       "      <td>173.0</td>\n",
       "      <td>GB</td>\n",
       "      <td>2015-04-07 18:37:44</td>\n",
       "      <td>0</td>\n",
       "      <td>My work is performance based but I branch out ...</td>\n",
       "      <td>art/performance art</td>\n",
       "      <td>art</td>\n",
       "      <td>1</td>\n",
       "      <td>1</td>\n",
       "      <td>24</td>\n",
       "      <td>1</td>\n",
       "      <td>2.176091</td>\n",
       "    </tr>\n",
       "    <tr>\n",
       "      <th>24380</th>\n",
       "      <td>Puss N' Books: A relaxing cat cafe and bookstore.</td>\n",
       "      <td>776.0</td>\n",
       "      <td>US</td>\n",
       "      <td>2015-10-27 11:25:33</td>\n",
       "      <td>0</td>\n",
       "      <td>A sanctuary for humans and felines alike! Come...</td>\n",
       "      <td>food/spaces</td>\n",
       "      <td>food</td>\n",
       "      <td>1</td>\n",
       "      <td>0</td>\n",
       "      <td>24</td>\n",
       "      <td>9</td>\n",
       "      <td>4.301030</td>\n",
       "    </tr>\n",
       "    <tr>\n",
       "      <th>33867</th>\n",
       "      <td>TASTE MAKERS BY TRISH P</td>\n",
       "      <td>2798.0</td>\n",
       "      <td>CA</td>\n",
       "      <td>2015-06-15 14:28:11</td>\n",
       "      <td>1</td>\n",
       "      <td>Taste Makers is a socially conscious brand tha...</td>\n",
       "      <td>fashion/ready-to-wear</td>\n",
       "      <td>fashion</td>\n",
       "      <td>1</td>\n",
       "      <td>0</td>\n",
       "      <td>23</td>\n",
       "      <td>5</td>\n",
       "      <td>4.255273</td>\n",
       "    </tr>\n",
       "    <tr>\n",
       "      <th>39036</th>\n",
       "      <td>The Meat Candy Experience</td>\n",
       "      <td>3239.0</td>\n",
       "      <td>US</td>\n",
       "      <td>2016-05-16 18:34:18</td>\n",
       "      <td>0</td>\n",
       "      <td>The BEST beef sticks, beef jerky and signature...</td>\n",
       "      <td>food/small batch</td>\n",
       "      <td>food</td>\n",
       "      <td>1</td>\n",
       "      <td>1</td>\n",
       "      <td>13</td>\n",
       "      <td>4</td>\n",
       "      <td>3.397940</td>\n",
       "    </tr>\n",
       "  </tbody>\n",
       "</table>\n",
       "</div>"
      ],
      "text/plain": [
       "                                                    name  pledged country  \\\n",
       "id                                                                          \n",
       "18520                                 Grandma's are Life     62.0      US   \n",
       "21109                                               Meta    173.0      GB   \n",
       "24380  Puss N' Books: A relaxing cat cafe and bookstore.    776.0      US   \n",
       "33867                            TASTE MAKERS BY TRISH P   2798.0      CA   \n",
       "39036                          The Meat Candy Experience   3239.0      US   \n",
       "\n",
       "              launched_at  staff_pick  \\\n",
       "id                                      \n",
       "18520 2016-10-19 09:32:40           0   \n",
       "21109 2015-04-07 18:37:44           0   \n",
       "24380 2015-10-27 11:25:33           0   \n",
       "33867 2015-06-15 14:28:11           1   \n",
       "39036 2016-05-16 18:34:18           0   \n",
       "\n",
       "                                                   blurb  \\\n",
       "id                                                         \n",
       "18520  Raising money to help my grandmother recover f...   \n",
       "21109  My work is performance based but I branch out ...   \n",
       "24380  A sanctuary for humans and felines alike! Come...   \n",
       "33867  Taste Makers is a socially conscious brand tha...   \n",
       "39036  The BEST beef sticks, beef jerky and signature...   \n",
       "\n",
       "                    category cat_type  dummy  succeeded  blurb_wlen  \\\n",
       "id                                                                    \n",
       "18520      music/world music    music      1          0          24   \n",
       "21109    art/performance art      art      1          1          24   \n",
       "24380            food/spaces     food      1          0          24   \n",
       "33867  fashion/ready-to-wear  fashion      1          0          23   \n",
       "39036       food/small batch     food      1          1          13   \n",
       "\n",
       "       name_wlen  goal_log  \n",
       "id                          \n",
       "18520          3  4.176091  \n",
       "21109          1  2.176091  \n",
       "24380          9  4.301030  \n",
       "33867          5  4.255273  \n",
       "39036          4  3.397940  "
      ]
     },
     "execution_count": 8,
     "metadata": {},
     "output_type": "execute_result"
    }
   ],
   "source": [
    "dfm.head()"
   ]
  },
  {
   "cell_type": "markdown",
   "metadata": {},
   "source": [
    "## 3. Modeling"
   ]
  },
  {
   "cell_type": "code",
   "execution_count": 9,
   "metadata": {},
   "outputs": [],
   "source": [
    "# get dummies\n",
    "dfd = pd.get_dummies(dfm, columns=['country','cat_type'])"
   ]
  },
  {
   "cell_type": "code",
   "execution_count": 10,
   "metadata": {
    "collapsed": true
   },
   "outputs": [],
   "source": [
    "# ML imports\n",
    "from sklearn.feature_extraction.text import CountVectorizer, TfidfVectorizer\n",
    "from sklearn.model_selection import train_test_split, GridSearchCV, cross_val_score, cross_val_predict\n",
    "from sklearn.naive_bayes import MultinomialNB\n",
    "from sklearn.linear_model import LogisticRegression, LogisticRegressionCV\n",
    "from sklearn.metrics import roc_curve, roc_auc_score"
   ]
  },
  {
   "cell_type": "markdown",
   "metadata": {},
   "source": [
    "### 3.1 Logistic regression"
   ]
  },
  {
   "cell_type": "code",
   "execution_count": 11,
   "metadata": {},
   "outputs": [],
   "source": [
    "predictors = []\n",
    "predictors.extend([c for c in dfd.columns if c[0:5] == 'cat_t' ])\n",
    "predictors.extend([c for c in dfd.columns if c[0:5] == 'count' ])\n",
    "\n",
    "predictors.extend(['goal_log', 'staff_pick','name_wlen'])\n",
    "#print(predictors)"
   ]
  },
  {
   "cell_type": "code",
   "execution_count": 12,
   "metadata": {},
   "outputs": [
    {
     "name": "stdout",
     "output_type": "stream",
     "text": [
      "(149007, 40) (111755, 40) (37252, 40) (149007,) (111755,) (37252,)\n"
     ]
    }
   ],
   "source": [
    "X = dfd[predictors]\n",
    "y = dfd.succeeded.values.astype(np.int)\n",
    "\n",
    "Xtrain, Xtest, ytrain, ytest = train_test_split(X, y)\n",
    "print(X.shape, Xtrain.shape, Xtest.shape, y.shape, ytrain.shape, ytest.shape)"
   ]
  },
  {
   "cell_type": "code",
   "execution_count": 13,
   "metadata": {},
   "outputs": [
    {
     "name": "stdout",
     "output_type": "stream",
     "text": [
      "[LibLinear][ 1.70256907] [[-0.14131176  0.63918875 -0.41930081  0.84738632  1.64852924 -0.31959442\n",
      "   0.47929413 -0.68490123  0.63698745 -0.92432329  0.28292739 -0.44558999\n",
      "  -0.13701522 -0.51646123  0.75675375 -0.68471718 -0.25880743 -0.53139156\n",
      "  -0.19628877 -0.03090975 -0.56146284  0.58880004 -0.44758112  0.01932268\n",
      "  -0.15325042  1.28240479 -0.28440124 -0.94489315  1.92376638  0.74307159\n",
      "   0.3515177  -0.51604841  0.35604433  0.0119652   0.66974237  0.41066826\n",
      "  -0.0449824  -0.84030055  2.52711431  0.11695411]]\n"
     ]
    }
   ],
   "source": [
    "logreg = LogisticRegression(verbose=1, C=1e6)#, warm_start=True)\n",
    "\n",
    "#print(logreg.intercept_, logreg.coef_)\n",
    "logreg.fit(Xtrain, ytrain)\n",
    "#logreg.intercept_ = 2.299\n",
    "#logreg.coef_ = np.reshape(np.array([-0.6687]), (1,-1))\n",
    "print(logreg.intercept_, logreg.coef_)"
   ]
  },
  {
   "cell_type": "code",
   "execution_count": 14,
   "metadata": {},
   "outputs": [
    {
     "name": "stdout",
     "output_type": "stream",
     "text": [
      "Score: 0.727048212177\n"
     ]
    }
   ],
   "source": [
    "y_pred = logreg.predict(Xtest)\n",
    "y_pred_prob = logreg.predict_proba(Xtest)\n",
    "print('Score:', logreg.score(Xtest, ytest))"
   ]
  },
  {
   "cell_type": "code",
   "execution_count": 15,
   "metadata": {},
   "outputs": [
    {
     "name": "stdout",
     "output_type": "stream",
     "text": [
      "[LibLinear][LibLinear][LibLinear][LibLinear][LibLinear]CV score: [ 0.72307228  0.72820616  0.72434736  0.7214523   0.72677852]\n"
     ]
    }
   ],
   "source": [
    "print('CV score:', cross_val_score(logreg, X, y, cv=5))"
   ]
  },
  {
   "cell_type": "code",
   "execution_count": 16,
   "metadata": {},
   "outputs": [
    {
     "name": "stdout",
     "output_type": "stream",
     "text": [
      "Score: 0.727048212177\n"
     ]
    }
   ],
   "source": [
    "y_pred = logreg.predict(Xtest)\n",
    "y_pred_prob = logreg.predict_proba(Xtest)\n",
    "print('Score:', logreg.score(Xtest, ytest))\n",
    "#y_pred_cv = cross_val_predict(logreg, X, y, cv=3)\n",
    "#y_pred_cv"
   ]
  },
  {
   "cell_type": "code",
   "execution_count": 17,
   "metadata": {},
   "outputs": [
    {
     "name": "stdout",
     "output_type": "stream",
     "text": [
      "AUC 0.783441867143\n"
     ]
    },
    {
     "data": {
      "image/png": "[encoded data removed]",
      "text/plain": [
       "<matplotlib.figure.Figure at 0x10fc15c50>"
      ]
     },
     "metadata": {},
     "output_type": "display_data"
    }
   ],
   "source": [
    "fpr, tpr, thresholds = roc_curve(ytest, y_pred_prob[:,1])\n",
    "plt.plot(fpr, tpr)\n",
    "print('AUC', roc_auc_score(ytest, y_pred_prob[:,1]))"
   ]
  },
  {
   "cell_type": "code",
   "execution_count": 18,
   "metadata": {},
   "outputs": [
    {
     "name": "stderr",
     "output_type": "stream",
     "text": [
      "//anaconda/envs/py36/lib/python3.6/site-packages/sklearn/linear_model/logistic.py:717: UserWarning: lbfgs failed to converge. Increase the number of iterations.\n",
      "  warnings.warn(\"lbfgs failed to converge. Increase the number \"\n",
      "[Parallel(n_jobs=1)]: Done   3 out of   3 | elapsed:   10.7s finished\n"
     ]
    },
    {
     "name": "stdout",
     "output_type": "stream",
     "text": [
      "[[-0.25336855  0.5355078  -0.49356338  0.71553703  1.54148709 -0.39587553\n",
      "   0.38905822 -0.76084639  0.54405147 -0.99712954  0.2171546  -0.52709592\n",
      "  -0.22253547 -0.61154936  0.61848838 -0.54107572 -0.22347114 -0.4328734\n",
      "  -0.14419361  0.00645309 -0.51479786  0.59907814 -0.51174083 -0.01613123\n",
      "  -0.12510083  1.21752482 -0.22033232 -0.87837014  0.63370487  0.27120535\n",
      "   0.35413645 -0.51254441  0.34058754  0.04148009  0.58180401  0.39397512\n",
      "  -0.01999754 -0.83717621  2.53905235  0.11488122]]\n"
     ]
    }
   ],
   "source": [
    "logregcv = LogisticRegressionCV(verbose=1, cv=3, Cs=[0.1, 1.0, 100.0])#, warm_start=True)\n",
    "logregcv.fit(X, y)\n",
    "print(logregcv.coef_)"
   ]
  },
  {
   "cell_type": "code",
   "execution_count": 19,
   "metadata": {},
   "outputs": [
    {
     "name": "stdout",
     "output_type": "stream",
     "text": [
      "Score: 0.727048212177\n",
      "AUC 0.783776591235\n"
     ]
    },
    {
     "data": {
      "image/png": "[encoded data removed]",
      "text/plain": [
       "<matplotlib.figure.Figure at 0x11c3f8dd8>"
      ]
     },
     "metadata": {},
     "output_type": "display_data"
    }
   ],
   "source": [
    "y_pred = logregcv.predict(Xtest)\n",
    "y_pred_prob = logregcv.predict_proba(Xtest)\n",
    "print('Score:', logregcv.score(Xtest, ytest))\n",
    "fpr, tpr, thresholds = roc_curve(ytest, y_pred_prob[:,1])\n",
    "plt.plot(fpr, tpr)\n",
    "print('AUC', roc_auc_score(ytest, y_pred_prob[:,1]))"
   ]
  },
  {
   "cell_type": "markdown",
   "metadata": {},
   "source": [
    "### 3.2 Naive Bayes for text analysis "
   ]
  },
  {
   "cell_type": "code",
   "execution_count": 20,
   "metadata": {},
   "outputs": [
    {
     "name": "stdout",
     "output_type": "stream",
     "text": [
      "(149007, 28409) (149007, 40288) (149007,) 28409 40288\n"
     ]
    }
   ],
   "source": [
    "# Vectorize project names and blurbs\n",
    "#vectorizer = TfidfVectorizer(min_df=1)\n",
    "vectorizer = CountVectorizer(min_df=2, max_df=2000)\n",
    "\n",
    "# project name\n",
    "Xn = vectorizer.fit_transform(dfn.name).tocsc()\n",
    "fn_names = vectorizer.get_feature_names()\n",
    "\n",
    "# project blurb\n",
    "dfn.blurb.fillna('', inplace=True)\n",
    "Xb = vectorizer.fit_transform(dfn.blurb).tocsc()\n",
    "fb_names = vectorizer.get_feature_names()\n",
    "\n",
    "y = dfn.succeeded.values.astype(np.int)\n",
    "\n",
    "print(Xn.shape, Xb.shape, y.shape, len(fn_names), len(fb_names))"
   ]
  },
  {
   "cell_type": "markdown",
   "metadata": {},
   "source": [
    "Simple training without cross validation"
   ]
  },
  {
   "cell_type": "code",
   "execution_count": 21,
   "metadata": {},
   "outputs": [
    {
     "name": "stdout",
     "output_type": "stream",
     "text": [
      "Train set score: 0.750418325802\n",
      "Test set score: 0.66965532052\n"
     ]
    }
   ],
   "source": [
    "# NB for names\n",
    "\n",
    "# train-test split\n",
    "Xntrain, Xntest, ytrain, ytest = train_test_split(Xn, y)\n",
    "\n",
    "# Create instance of multinomial naive bayes\n",
    "mnb_n = MultinomialNB()\n",
    "\n",
    "# fit to training data\n",
    "mnb_n.fit(Xntrain, ytrain)\n",
    "\n",
    "print(\"Train set score:\", mnb_n.score(Xntrain, ytrain))\n",
    "print(\"Test set score:\", mnb_n.score(Xntest, ytest))"
   ]
  },
  {
   "cell_type": "code",
   "execution_count": 22,
   "metadata": {},
   "outputs": [
    {
     "name": "stdout",
     "output_type": "stream",
     "text": [
      "Train set score: 0.753657554472\n",
      "Test set score: 0.690996456566\n"
     ]
    }
   ],
   "source": [
    "# NB for blurbs\n",
    "\n",
    "# train-test split\n",
    "Xbtrain, Xbtest, ytrain, ytest = train_test_split(Xb, y)\n",
    "\n",
    "# Create instance of multinomial naive bayes\n",
    "mnb_b = MultinomialNB()\n",
    "\n",
    "# fit to training data\n",
    "mnb_b.fit(Xbtrain, ytrain)\n",
    "\n",
    "print(\"Train set score:\", mnb_b.score(Xbtrain, ytrain))\n",
    "print(\"Test set score:\", mnb_b.score(Xbtest, ytest))"
   ]
  },
  {
   "cell_type": "code",
   "execution_count": 23,
   "metadata": {},
   "outputs": [
    {
     "name": "stdout",
     "output_type": "stream",
     "text": [
      "Fitting 5 folds for each of 10 candidates, totalling 50 fits\n",
      "Best alpha {'alpha': 1.2589254117941673}\n",
      "Best score 0.67199527539\n"
     ]
    },
    {
     "name": "stderr",
     "output_type": "stream",
     "text": [
      "[Parallel(n_jobs=1)]: Done  50 out of  50 | elapsed:    3.0s finished\n"
     ]
    }
   ],
   "source": [
    "#the grid of parameters to search over\n",
    "param_grid = {'alpha':np.logspace(0.1, 100, 10)}\n",
    "              \n",
    "mnb = MultinomialNB()\n",
    "mnb_cv = GridSearchCV(mnb, param_grid, cv=5, verbose=1)\n",
    "mnb_cv.fit(Xn, y)\n",
    "\n",
    "print('Best alpha', mnb_cv.best_params_)\n",
    "print('Best score', mnb_cv.best_score_)"
   ]
  },
  {
   "cell_type": "code",
   "execution_count": null,
   "metadata": {
    "collapsed": true
   },
   "outputs": [],
   "source": []
  }
 ],
 "metadata": {
  "kernelspec": {
   "display_name": "Python 3",
   "language": "python",
   "name": "python3"
  },
  "language_info": {
   "codemirror_mode": {
    "name": "ipython",
    "version": 3
   },
   "file_extension": ".py",
   "mimetype": "text/x-python",
   "name": "python",
   "nbconvert_exporter": "python",
   "pygments_lexer": "ipython3",
   "version": "3.6.1"
  }
 },
 "nbformat": 4,
 "nbformat_minor": 2
}
