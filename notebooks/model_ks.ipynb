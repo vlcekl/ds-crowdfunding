{
 "cells": [
  {
   "cell_type": "markdown",
   "metadata": {},
   "source": [
    "# Simple predictions of successful funding - logistic regression\n",
    "\n",
    "### _Lukas Vlcek_\n",
    "\n",
    "## 1. Introduction\n",
    "\n",
    "Logistic regression is used to classify expected success or failure of Kickstarter projects.\n",
    "The features include project category, country of origin, goal amount, project name, and its description."
   ]
  },
  {
   "cell_type": "markdown",
   "metadata": {},
   "source": [
    "## 2. Data setup"
   ]
  },
  {
   "cell_type": "markdown",
   "metadata": {},
   "source": [
    "Notebook configuration"
   ]
  },
  {
   "cell_type": "code",
   "execution_count": 1,
   "metadata": {
    "collapsed": true
   },
   "outputs": [],
   "source": [
    "%matplotlib inline\n",
    "import os\n",
    "import numpy as np\n",
    "import pandas as pd\n",
    "import matplotlib.pyplot as plt\n",
    "import seaborn as sns\n",
    "import datetime"
   ]
  },
  {
   "cell_type": "markdown",
   "metadata": {},
   "source": [
    "Create a dataframe from a pre-processed CSV file and filter out uninformative features"
   ]
  },
  {
   "cell_type": "code",
   "execution_count": 2,
   "metadata": {
    "collapsed": true
   },
   "outputs": [],
   "source": [
    "target_path = '../data/processed'\n",
    "report_path = '../reports'\n",
    "filename = 'kick_id.csv'\n",
    "datecols = ['created_at', 'deadline', 'state_changed_at', 'launched_at']\n",
    "fdatpars = lambda x: datetime.datetime.fromtimestamp(int(x)).strftime('%Y-%m-%d %H:%M:%S')\n",
    "df = pd.read_csv(os.path.join(target_path, filename), index_col='id', parse_dates=datecols, date_parser=fdatpars)"
   ]
  },
  {
   "cell_type": "markdown",
   "metadata": {},
   "source": [
    "Filter out unneeded data and add some indicator features"
   ]
  },
  {
   "cell_type": "code",
   "execution_count": 3,
   "metadata": {},
   "outputs": [],
   "source": [
    "df = df.drop(['disable_communication'], axis='columns')\n",
    "df = df.loc[(df['state'] != 'live') & (df['state'] != 'suspended')]\n",
    "cat_type = [x.split('/')[0] for x in df['category'].values]\n",
    "df['cat_type'] = np.array(cat_type)\n",
    "#df['dummy'] = 1\n",
    "df['period'] = (df['launched_at'] >= '2014-06-01') & (df['launched_at'] < '2018-01-01')\n",
    "df['succeeded'] = np.int_(df['state'] == 'successful')\n",
    "df['staff_pick'] = np.int_(df['staff_pick'])\n",
    "#df.sort_values('launched_at').loc[df.period]['launched_at'].shape"
   ]
  },
  {
   "cell_type": "code",
   "execution_count": 4,
   "metadata": {},
   "outputs": [],
   "source": [
    "# counting words in project names and blurbs\n",
    "df.loc[df['blurb'].isnull(), 'blurb'] = ''\n",
    "df.loc[df['name'].isnull(), 'name'] = ''\n",
    "df['blurb_wlen'] = df['blurb'].str.split().apply(len)\n",
    "df['name_wlen'] = df['name'].str.split().apply(len)"
   ]
  },
  {
   "cell_type": "code",
   "execution_count": 5,
   "metadata": {},
   "outputs": [
    {
     "data": {
      "text/plain": [
       "((149007, 22), (89449, 22))"
      ]
     },
     "execution_count": 5,
     "metadata": {},
     "output_type": "execute_result"
    }
   ],
   "source": [
    "# make new dataframes with new and old data\n",
    "dfn = df.loc[df.period].copy()\n",
    "dfo = df.loc[~df.period].copy()\n",
    "dfn.shape, dfo.shape"
   ]
  },
  {
   "cell_type": "code",
   "execution_count": 6,
   "metadata": {},
   "outputs": [],
   "source": [
    "# take logarithm of goals\n",
    "dfn['goal_log'] = np.log10(dfn['goal'].values)"
   ]
  },
  {
   "cell_type": "code",
   "execution_count": 7,
   "metadata": {},
   "outputs": [],
   "source": [
    "# drop unwanted columns\n",
    "dfm = dfn.drop(['usd_pledged','goal','state','slug','currency','deadline','state_changed_at','created_at','backers_count','spotlight','period'], axis=1).copy()\n",
    "# get dummies\n",
    "dfd = pd.get_dummies(dfm, columns=['country','cat_type'])"
   ]
  },
  {
   "cell_type": "code",
   "execution_count": 8,
   "metadata": {},
   "outputs": [
    {
     "data": {
      "text/html": [
       "<div>\n",
       "<style>\n",
       "    .dataframe thead tr:only-child th {\n",
       "        text-align: right;\n",
       "    }\n",
       "\n",
       "    .dataframe thead th {\n",
       "        text-align: left;\n",
       "    }\n",
       "\n",
       "    .dataframe tbody tr th {\n",
       "        vertical-align: top;\n",
       "    }\n",
       "</style>\n",
       "<table border=\"1\" class=\"dataframe\">\n",
       "  <thead>\n",
       "    <tr style=\"text-align: right;\">\n",
       "      <th></th>\n",
       "      <th>name</th>\n",
       "      <th>pledged</th>\n",
       "      <th>country</th>\n",
       "      <th>launched_at</th>\n",
       "      <th>staff_pick</th>\n",
       "      <th>blurb</th>\n",
       "      <th>category</th>\n",
       "      <th>cat_type</th>\n",
       "      <th>succeeded</th>\n",
       "      <th>blurb_wlen</th>\n",
       "      <th>name_wlen</th>\n",
       "      <th>goal_log</th>\n",
       "    </tr>\n",
       "    <tr>\n",
       "      <th>id</th>\n",
       "      <th></th>\n",
       "      <th></th>\n",
       "      <th></th>\n",
       "      <th></th>\n",
       "      <th></th>\n",
       "      <th></th>\n",
       "      <th></th>\n",
       "      <th></th>\n",
       "      <th></th>\n",
       "      <th></th>\n",
       "      <th></th>\n",
       "      <th></th>\n",
       "    </tr>\n",
       "  </thead>\n",
       "  <tbody>\n",
       "    <tr>\n",
       "      <th>18520</th>\n",
       "      <td>Grandma's are Life</td>\n",
       "      <td>62.0</td>\n",
       "      <td>US</td>\n",
       "      <td>2016-10-19 09:32:40</td>\n",
       "      <td>0</td>\n",
       "      <td>Raising money to help my grandmother recover f...</td>\n",
       "      <td>music/world music</td>\n",
       "      <td>music</td>\n",
       "      <td>0</td>\n",
       "      <td>24</td>\n",
       "      <td>3</td>\n",
       "      <td>4.176091</td>\n",
       "    </tr>\n",
       "    <tr>\n",
       "      <th>21109</th>\n",
       "      <td>Meta</td>\n",
       "      <td>173.0</td>\n",
       "      <td>GB</td>\n",
       "      <td>2015-04-07 18:37:44</td>\n",
       "      <td>0</td>\n",
       "      <td>My work is performance based but I branch out ...</td>\n",
       "      <td>art/performance art</td>\n",
       "      <td>art</td>\n",
       "      <td>1</td>\n",
       "      <td>24</td>\n",
       "      <td>1</td>\n",
       "      <td>2.176091</td>\n",
       "    </tr>\n",
       "    <tr>\n",
       "      <th>24380</th>\n",
       "      <td>Puss N' Books: A relaxing cat cafe and bookstore.</td>\n",
       "      <td>776.0</td>\n",
       "      <td>US</td>\n",
       "      <td>2015-10-27 11:25:33</td>\n",
       "      <td>0</td>\n",
       "      <td>A sanctuary for humans and felines alike! Come...</td>\n",
       "      <td>food/spaces</td>\n",
       "      <td>food</td>\n",
       "      <td>0</td>\n",
       "      <td>24</td>\n",
       "      <td>9</td>\n",
       "      <td>4.301030</td>\n",
       "    </tr>\n",
       "    <tr>\n",
       "      <th>33867</th>\n",
       "      <td>TASTE MAKERS BY TRISH P</td>\n",
       "      <td>2798.0</td>\n",
       "      <td>CA</td>\n",
       "      <td>2015-06-15 14:28:11</td>\n",
       "      <td>1</td>\n",
       "      <td>Taste Makers is a socially conscious brand tha...</td>\n",
       "      <td>fashion/ready-to-wear</td>\n",
       "      <td>fashion</td>\n",
       "      <td>0</td>\n",
       "      <td>23</td>\n",
       "      <td>5</td>\n",
       "      <td>4.255273</td>\n",
       "    </tr>\n",
       "    <tr>\n",
       "      <th>39036</th>\n",
       "      <td>The Meat Candy Experience</td>\n",
       "      <td>3239.0</td>\n",
       "      <td>US</td>\n",
       "      <td>2016-05-16 18:34:18</td>\n",
       "      <td>0</td>\n",
       "      <td>The BEST beef sticks, beef jerky and signature...</td>\n",
       "      <td>food/small batch</td>\n",
       "      <td>food</td>\n",
       "      <td>1</td>\n",
       "      <td>13</td>\n",
       "      <td>4</td>\n",
       "      <td>3.397940</td>\n",
       "    </tr>\n",
       "  </tbody>\n",
       "</table>\n",
       "</div>"
      ],
      "text/plain": [
       "                                                    name  pledged country  \\\n",
       "id                                                                          \n",
       "18520                                 Grandma's are Life     62.0      US   \n",
       "21109                                               Meta    173.0      GB   \n",
       "24380  Puss N' Books: A relaxing cat cafe and bookstore.    776.0      US   \n",
       "33867                            TASTE MAKERS BY TRISH P   2798.0      CA   \n",
       "39036                          The Meat Candy Experience   3239.0      US   \n",
       "\n",
       "              launched_at  staff_pick  \\\n",
       "id                                      \n",
       "18520 2016-10-19 09:32:40           0   \n",
       "21109 2015-04-07 18:37:44           0   \n",
       "24380 2015-10-27 11:25:33           0   \n",
       "33867 2015-06-15 14:28:11           1   \n",
       "39036 2016-05-16 18:34:18           0   \n",
       "\n",
       "                                                   blurb  \\\n",
       "id                                                         \n",
       "18520  Raising money to help my grandmother recover f...   \n",
       "21109  My work is performance based but I branch out ...   \n",
       "24380  A sanctuary for humans and felines alike! Come...   \n",
       "33867  Taste Makers is a socially conscious brand tha...   \n",
       "39036  The BEST beef sticks, beef jerky and signature...   \n",
       "\n",
       "                    category cat_type  succeeded  blurb_wlen  name_wlen  \\\n",
       "id                                                                        \n",
       "18520      music/world music    music          0          24          3   \n",
       "21109    art/performance art      art          1          24          1   \n",
       "24380            food/spaces     food          0          24          9   \n",
       "33867  fashion/ready-to-wear  fashion          0          23          5   \n",
       "39036       food/small batch     food          1          13          4   \n",
       "\n",
       "       goal_log  \n",
       "id               \n",
       "18520  4.176091  \n",
       "21109  2.176091  \n",
       "24380  4.301030  \n",
       "33867  4.255273  \n",
       "39036  3.397940  "
      ]
     },
     "execution_count": 8,
     "metadata": {},
     "output_type": "execute_result"
    }
   ],
   "source": [
    "dfm.head()"
   ]
  },
  {
   "cell_type": "markdown",
   "metadata": {},
   "source": [
    "## 3. Modeling"
   ]
  },
  {
   "cell_type": "code",
   "execution_count": 9,
   "metadata": {
    "collapsed": true
   },
   "outputs": [],
   "source": [
    "# ML imports\n",
    "from sklearn.feature_extraction.text import CountVectorizer, TfidfVectorizer\n",
    "from sklearn.model_selection import train_test_split, GridSearchCV, cross_val_score, cross_val_predict\n",
    "from sklearn.feature_selection import SelectKBest, chi2\n",
    "from sklearn.linear_model import LogisticRegression, LogisticRegressionCV\n",
    "from sklearn.metrics import roc_curve, roc_auc_score, classification_report\n",
    "from sklearn.base import TransformerMixin, BaseEstimator, clone\n",
    "from sklearn.pipeline import Pipeline, FeatureUnion"
   ]
  },
  {
   "cell_type": "markdown",
   "metadata": {},
   "source": [
    "Select predictor and target columns for model fitting"
   ]
  },
  {
   "cell_type": "code",
   "execution_count": 10,
   "metadata": {
    "collapsed": true
   },
   "outputs": [],
   "source": [
    "predictors_nt = []\n",
    "predictors_nt.extend([c for c in dfd.columns if c[0:5] == 'cat_t' ])\n",
    "predictors_nt.extend([c for c in dfd.columns if c[0:5] == 'count' ])\n",
    "\n",
    "predictors_nt.extend(['goal_log', 'name_wlen'])\n",
    "#predictors.extend(['goal_log','name_wlen', 'staff_pick'])\n",
    "\n",
    "predictors_text = []\n",
    "predictors_text.extend(['name', 'blurb'])\n",
    "\n",
    "predictors = predictors_nt + predictors_text\n",
    "\n",
    "target = ['succeeded']\n",
    "#target = ['staff_pick']"
   ]
  },
  {
   "cell_type": "markdown",
   "metadata": {},
   "source": [
    "Train-test split for pandas dataframe"
   ]
  },
  {
   "cell_type": "code",
   "execution_count": 11,
   "metadata": {
    "collapsed": true
   },
   "outputs": [],
   "source": [
    "df_train=dfd.sample(frac=0.8,random_state=200)\n",
    "df_test=dfd.drop(df_train.index)"
   ]
  },
  {
   "cell_type": "code",
   "execution_count": 12,
   "metadata": {},
   "outputs": [],
   "source": [
    "# Training dataset\n",
    "Xtrain = df_train[predictors]\n",
    "ytrain = df_train[target].values.astype(np.int).flatten() \n",
    "\n",
    "# Testing dataset\n",
    "Xtest = df_test[predictors]\n",
    "ytest = df_test[target].values.astype(np.int).flatten() "
   ]
  },
  {
   "cell_type": "markdown",
   "metadata": {},
   "source": [
    "### 3.1 Create a pipeline\n",
    "\n",
    "1. Textual features (name, blurb) will be separated for their individual treatment\n",
    "2. Textual features will be individually vectorized\n",
    "3. $\\chi^2$ feature selection will be performed on the vectorized features.\n",
    "4. The selected textual features will be combined with other features\n",
    "5. Logistic regression will be applied. (LASSO regularization will further reduce the number of relevant features).\n",
    "\n",
    "\n",
    "\n",
    "#### 3.1.1 Define classes needed to separate and join selected features from pandas dataframes"
   ]
  },
  {
   "cell_type": "code",
   "execution_count": 13,
   "metadata": {},
   "outputs": [],
   "source": [
    "# Define a selector class to be used in the main pipeline\n",
    "class ColumnSelector(BaseEstimator, TransformerMixin):\n",
    "    \"\"\"Select a column from pandas dataframe.\n",
    "    Transfrom returns pandas Series \"\"\"\n",
    "    \n",
    "    def __init__(self, column=''):\n",
    "        self.column = column\n",
    "\n",
    "    def fit(self, dataframe, y=None):\n",
    "        return self\n",
    "\n",
    "    def transform(self, dataframe):\n",
    "        return dataframe[self.column]"
   ]
  },
  {
   "cell_type": "code",
   "execution_count": 14,
   "metadata": {
    "collapsed": true
   },
   "outputs": [],
   "source": [
    "class FeaturesSelector(BaseEstimator, TransformerMixin):\n",
    "    \"\"\"Select columns from pandas dataframe.\n",
    "    Transform returns numpy array with one or more features\"\"\"\n",
    "    \n",
    "    def __init__(self, columns=[]):\n",
    "        self.columns = columns\n",
    "\n",
    "    def fit(self, dataframe, y=None):\n",
    "        return self\n",
    "\n",
    "    def transform(self, dataframe):\n",
    "        return dataframe[self.columns].values"
   ]
  },
  {
   "cell_type": "markdown",
   "metadata": {},
   "source": [
    "#### 3.1.2 Define pipeline structure"
   ]
  },
  {
   "cell_type": "code",
   "execution_count": 15,
   "metadata": {},
   "outputs": [],
   "source": [
    "# Define the main pipeline (contains sub-pipelenes for text processing and feature selection)\n",
    "pipeline = Pipeline([\n",
    "    ('union', FeatureUnion(\n",
    "        transformer_list=[\n",
    "            ('name', Pipeline([\n",
    "                ('selector', ColumnSelector('name')),\n",
    "                ('vectorizer', CountVectorizer()),\n",
    "                ('reduce_dim', SelectKBest(chi2, k=100))\n",
    "            ])),\n",
    "            ('blurb', Pipeline([\n",
    "                ('selector', ColumnSelector('blurb')),\n",
    "                ('vectorizer', CountVectorizer()),\n",
    "                ('reduce_dim', SelectKBest(chi2, k=1000))\n",
    "            ])),\n",
    "            ('rest', Pipeline([\n",
    "                ('selector', FeaturesSelector(predictors_nt)),\n",
    "            ]))\n",
    "        ])),\n",
    "    ('logreg', LogisticRegression(penalty='l2', C=0.1))\n",
    "])"
   ]
  },
  {
   "cell_type": "markdown",
   "metadata": {},
   "source": [
    "### 3.2 Fit pipeline and print parameter information"
   ]
  },
  {
   "cell_type": "code",
   "execution_count": 16,
   "metadata": {},
   "outputs": [
    {
     "data": {
      "text/plain": [
       "Pipeline(steps=[('union', FeatureUnion(n_jobs=1,\n",
       "       transformer_list=[('name', Pipeline(steps=[('selector', ColumnSelector(column='name')), ('vectorizer', CountVectorizer(analyzer='word', binary=False, decode_error='strict',\n",
       "        dtype=<class 'numpy.int64'>, encoding='utf-8', input='content',\n",
       "        ...ty='l2', random_state=None, solver='liblinear', tol=0.0001,\n",
       "          verbose=0, warm_start=False))])"
      ]
     },
     "execution_count": 16,
     "metadata": {},
     "output_type": "execute_result"
    }
   ],
   "source": [
    "pipeline.fit(Xtrain, ytrain)"
   ]
  },
  {
   "cell_type": "code",
   "execution_count": 17,
   "metadata": {},
   "outputs": [
    {
     "name": "stdout",
     "output_type": "stream",
     "text": [
      "Number of features: 1139\n",
      "Number of non-zero features: 1139\n",
      "Maximal regression coefficient: 1.50586055239\n",
      "\n",
      "Words from project names selected by chi2 feature selection as most informative of success/failure.\n",
      "\n",
      "['terrain', 'the', 'by', 'album', 'playing', 'cards', 'presents', 'board', 'game', 'mobile', 'comic', 'book', 'vol', 'canceled', 'app', 'new', 'of', 'film', 'short', 'com', 'dance', 'enamel', 'pins', 'restaurant', 'business', 'my', 'most', 'burning', '2014', 'novel', 'debut', 'ep', 'watch', 'youtube', 'brand', 'steampunk', 'about', 'minimalist', '2016', 'record', 'roleplaying', 'social', 'apparel', 'volume', 'watches', 'food', 'miniatures', 'bike', 'bag', 'edinburgh', 'edition', 'tarot', 'full', 'length', 'fantasy', 'rpg', 'issue', 'pin', '2017', 'network', 'fashion', 'tabletop', 'coloring', 'dice', 'clothing', 'sci', 'fi', 'season', 'nudes', 'documentary', 'dungeon', 'wallet', 'truck', 'set', 'pens', 'backpack', 'card', '5e', 'online', 'website', 'titanium', 'anthology', 'media', 'vinyl', 'pen', 'carbon', 'sports', 'miniature', 'thesis', 'plush', 'fringe', 'zine', '28mm', 'residency', 'news', 'cthulhu', 'bbq', 'carry', 'edc', 'pathfinder']\n"
     ]
    }
   ],
   "source": [
    "logreg = pipeline.named_steps['logreg']\n",
    "print('Number of features:', len(logreg.coef_[0]))\n",
    "print('Number of non-zero features:', np.sum(logreg.coef_ != 0.0))\n",
    "print('Maximal regression coefficient:', logreg.coef_.max())\n",
    "\n",
    "indices = np.nonzero(pipeline.named_steps['union'].transformer_list[0][1].named_steps['reduce_dim'].get_support())\n",
    "voca = pipeline.named_steps['union'].transformer_list[0][1].named_steps['vectorizer'].vocabulary_\n",
    "print('\\nWords from project names selected by chi2 feature selection as most informative of success/failure.\\n')\n",
    "print([key for key, value in voca.items() if value in indices[0]])"
   ]
  },
  {
   "cell_type": "markdown",
   "metadata": {},
   "source": [
    "The most important words are highly indicative of the category, so conditioning on category (have predictors for each category), may select a smaller number of words adding truly new information."
   ]
  },
  {
   "cell_type": "markdown",
   "metadata": {},
   "source": [
    "### 3.3 Predict labels and probabilities"
   ]
  },
  {
   "cell_type": "code",
   "execution_count": 18,
   "metadata": {},
   "outputs": [],
   "source": [
    "y_pred = pipeline.predict(Xtest)\n",
    "y_pred_prob = pipeline.predict_proba(Xtest)"
   ]
  },
  {
   "cell_type": "markdown",
   "metadata": {},
   "source": [
    "### 3.4 Prediction statistics"
   ]
  },
  {
   "cell_type": "code",
   "execution_count": 19,
   "metadata": {},
   "outputs": [
    {
     "name": "stdout",
     "output_type": "stream",
     "text": [
      "Accuracy on the training data: 0.754181836485\n",
      "Accuracy on the testing data: 0.746485017281\n"
     ]
    }
   ],
   "source": [
    "print('Accuracy on the training data:', pipeline.score(Xtrain, ytrain))\n",
    "print('Accuracy on the testing data:', pipeline.score(Xtest, ytest))"
   ]
  },
  {
   "cell_type": "code",
   "execution_count": 20,
   "metadata": {},
   "outputs": [
    {
     "name": "stdout",
     "output_type": "stream",
     "text": [
      "AUC 0.817426000062\n"
     ]
    },
    {
     "data": {
      "image/png": "[encoded data removed]",
      "text/plain": [
       "<matplotlib.figure.Figure at 0x11aadfb38>"
      ]
     },
     "metadata": {},
     "output_type": "display_data"
    }
   ],
   "source": [
    "fpr, tpr, thresholds = roc_curve(ytest, y_pred_prob[:,1])\n",
    "plt.plot(fpr, tpr)\n",
    "plt.plot([0,1],[0,1])\n",
    "plt.axis([0,1,0,1])\n",
    "plt.xlabel('False positive rate')\n",
    "plt.ylabel('True postitive rate')\n",
    "plt.title(\"Receiver Operating Characteristic (ROC)\")\n",
    "print('AUC', roc_auc_score(ytest, y_pred_prob[:,1]))"
   ]
  },
  {
   "cell_type": "code",
   "execution_count": 21,
   "metadata": {},
   "outputs": [
    {
     "name": "stdout",
     "output_type": "stream",
     "text": [
      "             precision    recall  f1-score   support\n",
      "\n",
      "          0       0.77      0.85      0.80     18386\n",
      "          1       0.70      0.59      0.64     11415\n",
      "\n",
      "avg / total       0.74      0.75      0.74     29801\n",
      "\n"
     ]
    }
   ],
   "source": [
    "print(classification_report(ytest, y_pred))"
   ]
  },
  {
   "cell_type": "markdown",
   "metadata": {},
   "source": [
    "### Predicting staff picks\n",
    "\n",
    "Staff picks can be considered as optimizing precision. The data shows precision of 0.86, with recall of 0.21.\n",
    "\n",
    "Setting the threshold to 10% selected projects, we can predict precision and recall of staff picks from our model."
   ]
  },
  {
   "cell_type": "code",
   "execution_count": 22,
   "metadata": {},
   "outputs": [
    {
     "name": "stdout",
     "output_type": "stream",
     "text": [
      "Fraction of picked projects at threshold 0.77: 0.0962719371833\n"
     ]
    }
   ],
   "source": [
    "# Find threshold for 10% selection rate\n",
    "#thresh = np.linspace(0.0, 1.0, 101)\n",
    "#for t in thresh:\n",
    "#    print(t, np.sum(y_pred_prob[:,1] > t)/y_pred_prob.shape[0])\n",
    "\n",
    "y_predx = np.int_(y_pred_prob[:,1] > 0.77)\n",
    "print('Fraction of picked projects at threshold 0.77:', np.sum(y_predx)/y_predx.shape[0])"
   ]
  },
  {
   "cell_type": "code",
   "execution_count": 23,
   "metadata": {},
   "outputs": [
    {
     "name": "stdout",
     "output_type": "stream",
     "text": [
      "             precision    recall  f1-score   support\n",
      "\n",
      "          0       0.67      0.98      0.79     18386\n",
      "          1       0.85      0.21      0.34     11415\n",
      "\n",
      "avg / total       0.74      0.68      0.62     29801\n",
      "\n"
     ]
    }
   ],
   "source": [
    "print(classification_report(ytest, y_predx))"
   ]
  },
  {
   "cell_type": "markdown",
   "metadata": {},
   "source": [
    "Our model picks based match almost exactly the precision (0.86) and recall (0.22) of real staff picks, which are not available to proposers."
   ]
  },
  {
   "cell_type": "code",
   "execution_count": null,
   "metadata": {
    "collapsed": true
   },
   "outputs": [],
   "source": []
  }
 ],
 "metadata": {
  "kernelspec": {
   "display_name": "Python 3",
   "language": "python",
   "name": "python3"
  },
  "language_info": {
   "codemirror_mode": {
    "name": "ipython",
    "version": 3
   },
   "file_extension": ".py",
   "mimetype": "text/x-python",
   "name": "python",
   "nbconvert_exporter": "python",
   "pygments_lexer": "ipython3",
   "version": "3.6.1"
  }
 },
 "nbformat": 4,
 "nbformat_minor": 2
}
