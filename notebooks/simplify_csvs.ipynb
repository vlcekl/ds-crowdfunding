{
 "cells": [
  {
   "cell_type": "markdown",
   "metadata": {},
   "source": [
    "# Data wrangling of Kickstarter project records\n",
    "\n",
    "* Read bulk CSV files, select and process informative columns, drop duplicates, process dates and other data, check for missing data and outliers, and save to new cleaned CSVs"
   ]
  },
  {
   "cell_type": "markdown",
   "metadata": {},
   "source": [
    "## Data wrangling procedure description\n",
    "\n",
    "### 1. Raw data collection\n",
    "\n",
    "The primary source of data for Kickstarter projects was obtained from online, monthly updated repositories collected by a web scraping company [Web Robots](https://webrobots.io/), with data available in JSON and CSV formats. For this project, I have downloaded 961 CSV files (43GB) available in March 2019, and saved them into the project directory /data/raw/kickstarter_csvs.\n",
    "\n",
    "### 2. Inspection of the format and selection of the source data files\n",
    "\n",
    "Inspection of the individual CSV files indicated that monthly records starting from March 2016 to present adhere to the same features (columns). These were selected for the capstone project analysis, while the older were discarded given the vast majority of the data adhered to the newer format and with reported >200K projects/samples it should contain enough data for statistical analysis and modeling. This selection also eliminated missing values in the dataset.\n",
    "\n",
    "### 3. Inspection of the contents and selection of relevant features\n",
    "\n",
    "Inspection of the columns indicate that many entries are in the form of JSON strings, with useful information embedded inside the directory structure. Some columns do not seem to contain information useful for this project (e.g. photo).\n",
    "Dates seem to be stored in the form of a datastamp. Only informative relevant columns were selected, reducing their overall number from 32 to 18.\n",
    "\n",
    "### 4. Concatenating data frames from multiple CSV files and elimination of duplicate entries\n",
    "\n",
    "All 961 CSV files were read from the raw data directory tree and stored in a new concatenated dataframe.\n",
    "The resulting dataset shows significant duplication of records as the same projects are recorded month after month. In fact around 90% of the entries are duplicates. While I have dropped identical records, there are still duplicate projects with the same id. As I am interested in comparing different projects and their final status, I eliminated all the ID duplicates and only keep the last one. Roughly 260K unique project records remained in the dataset, which corresponds to the number reported by Kicstarter.\n",
    "\n",
    "### 5. Filtering and cleaning data into a useful format\n",
    "As inspection of the entries showed, several were in the JSON string format. I have extracted the imporant 'category' feature from the appropriate JSON string in the 'category' column using 'map' method and JSON module. The resulting dataframe was saved in the interim data directory.\n",
    "\n",
    "I loaded the interim CSV file into a new dataframe, and converted the date/time information from the datastamp format into a standard datetime format using a custom parser.\n",
    "\n",
    "The 'category' feature seemed to be too fine grained with 169 different labels. Therefore I have processed this column to extract the more general category type descriptor which was contained as the first part of the category string (before '/'). The new cat_type colomn with 15 unique labels was added for future exploratory analysis.\n",
    "\n",
    "\n",
    "### 6. Final check and saving the processed file\n",
    "\n",
    "The check for erroneous outliers did not reveal any suspicious items, only very skewed distributions.\n",
    "The resulting dataframe was saved in data/processed directory.\n",
    "The original 43 GB has shrunk to ~90 MB CSV file."
   ]
  },
  {
   "cell_type": "markdown",
   "metadata": {},
   "source": [
    "## Data wrangling code"
   ]
  },
  {
   "cell_type": "code",
   "execution_count": 1,
   "metadata": {
    "collapsed": true
   },
   "outputs": [],
   "source": [
    "import os\n",
    "import numpy as np\n",
    "import pandas as pd\n",
    "import json"
   ]
  },
  {
   "cell_type": "markdown",
   "metadata": {},
   "source": [
    "* The data in the form of series of 961 CSV files (43GB) was downloaded from a webscraping company into a local directory.\n",
    "* The cleaned data will be saved in a new CSV file."
   ]
  },
  {
   "cell_type": "code",
   "execution_count": 2,
   "metadata": {
    "collapsed": true
   },
   "outputs": [],
   "source": [
    "base_path = '../data/raw/kickstarter_csvs'\n",
    "interim_path = '../data/interim/kickstarter_csvs'\n",
    "processed_path = '../data/processed'"
   ]
  },
  {
   "cell_type": "markdown",
   "metadata": {},
   "source": [
    "* Inspection of the individual CSV files indicated that monthly records starting from March 2016 to present adhere to the same features (columns). These were selected for the capstone project analysis.\n",
    "* This selection also eliminated missing values in the dataset."
   ]
  },
  {
   "cell_type": "code",
   "execution_count": 3,
   "metadata": {},
   "outputs": [],
   "source": [
    "df = pd.read_csv(os.path.join(base_path,'Kickstarter_2016-03-22/Kickstarter.csv'), parse_dates=['deadline'],infer_datetime_format=True)"
   ]
  },
  {
   "cell_type": "code",
   "execution_count": 4,
   "metadata": {},
   "outputs": [
    {
     "data": {
      "text/html": [
       "<div>\n",
       "<style>\n",
       "    .dataframe thead tr:only-child th {\n",
       "        text-align: right;\n",
       "    }\n",
       "\n",
       "    .dataframe thead th {\n",
       "        text-align: left;\n",
       "    }\n",
       "\n",
       "    .dataframe tbody tr th {\n",
       "        vertical-align: top;\n",
       "    }\n",
       "</style>\n",
       "<table border=\"1\" class=\"dataframe\">\n",
       "  <thead>\n",
       "    <tr style=\"text-align: right;\">\n",
       "      <th></th>\n",
       "      <th>id</th>\n",
       "      <th>photo</th>\n",
       "      <th>name</th>\n",
       "      <th>blurb</th>\n",
       "      <th>goal</th>\n",
       "      <th>pledged</th>\n",
       "      <th>state</th>\n",
       "      <th>slug</th>\n",
       "      <th>disable_communication</th>\n",
       "      <th>country</th>\n",
       "      <th>...</th>\n",
       "      <th>location</th>\n",
       "      <th>category</th>\n",
       "      <th>profile</th>\n",
       "      <th>spotlight</th>\n",
       "      <th>urls</th>\n",
       "      <th>source_url</th>\n",
       "      <th>friends</th>\n",
       "      <th>is_starred</th>\n",
       "      <th>is_backing</th>\n",
       "      <th>permissions</th>\n",
       "    </tr>\n",
       "  </thead>\n",
       "  <tbody>\n",
       "    <tr>\n",
       "      <th>0</th>\n",
       "      <td>64486721</td>\n",
       "      <td>{\"small\":\"https://ksr-ugc.imgix.net/projects/5...</td>\n",
       "      <td>Along The Lines Of...</td>\n",
       "      <td>Funds towards exhibiting photography at an Art...</td>\n",
       "      <td>300.0</td>\n",
       "      <td>300.0</td>\n",
       "      <td>successful</td>\n",
       "      <td>along-the-lines-of</td>\n",
       "      <td>False</td>\n",
       "      <td>GB</td>\n",
       "      <td>...</td>\n",
       "      <td>{\"country\":\"FR\",\"urls\":{\"web\":{\"discover\":\"htt...</td>\n",
       "      <td>{\"urls\":{\"web\":{\"discover\":\"http://www.kicksta...</td>\n",
       "      <td>{\"background_image_opacity\":0.8,\"link_text_col...</td>\n",
       "      <td>True</td>\n",
       "      <td>{\"web\":{\"project\":\"https://www.kickstarter.com...</td>\n",
       "      <td>https://www.kickstarter.com/discover/categorie...</td>\n",
       "      <td>NaN</td>\n",
       "      <td>NaN</td>\n",
       "      <td>NaN</td>\n",
       "      <td>NaN</td>\n",
       "    </tr>\n",
       "  </tbody>\n",
       "</table>\n",
       "<p>1 rows × 32 columns</p>\n",
       "</div>"
      ],
      "text/plain": [
       "         id                                              photo  \\\n",
       "0  64486721  {\"small\":\"https://ksr-ugc.imgix.net/projects/5...   \n",
       "\n",
       "                    name                                              blurb  \\\n",
       "0  Along The Lines Of...  Funds towards exhibiting photography at an Art...   \n",
       "\n",
       "    goal  pledged       state                slug  disable_communication  \\\n",
       "0  300.0    300.0  successful  along-the-lines-of                  False   \n",
       "\n",
       "  country     ...                                                location  \\\n",
       "0      GB     ...       {\"country\":\"FR\",\"urls\":{\"web\":{\"discover\":\"htt...   \n",
       "\n",
       "                                            category  \\\n",
       "0  {\"urls\":{\"web\":{\"discover\":\"http://www.kicksta...   \n",
       "\n",
       "                                             profile spotlight  \\\n",
       "0  {\"background_image_opacity\":0.8,\"link_text_col...      True   \n",
       "\n",
       "                                                urls  \\\n",
       "0  {\"web\":{\"project\":\"https://www.kickstarter.com...   \n",
       "\n",
       "                                          source_url  friends  is_starred  \\\n",
       "0  https://www.kickstarter.com/discover/categorie...      NaN         NaN   \n",
       "\n",
       "   is_backing  permissions  \n",
       "0         NaN          NaN  \n",
       "\n",
       "[1 rows x 32 columns]"
      ]
     },
     "execution_count": 4,
     "metadata": {},
     "output_type": "execute_result"
    }
   ],
   "source": [
    "df.head(1)"
   ]
  },
  {
   "cell_type": "markdown",
   "metadata": {},
   "source": [
    "* Inspection of the columns indicate that many entries are in the form of JSON strings, with useful information embedded inside the directory structure. Some columns do not seem to contain information useful for this project (e.g. photo)\n",
    "* Dates seem to be stored in the form of a datastamp.\n",
    "* Only informative columns will be selected"
   ]
  },
  {
   "cell_type": "code",
   "execution_count": 5,
   "metadata": {},
   "outputs": [],
   "source": [
    "# list of columns to select and save\n",
    "properties = ['id', 'name', 'goal', 'pledged', 'usd_pledged', 'state', 'slug', 'country', 'currency', 'deadline', 'state_changed_at', 'created_at', 'launched_at', 'staff_pick', 'backers_count', 'blurb', 'spotlight','category']"
   ]
  },
  {
   "cell_type": "markdown",
   "metadata": {},
   "source": [
    "* Read all 961 CSV files from the directory tree and save it as a new concatenated dataframe.\n",
    "* During this conversion, extract the 'category' feature from the appropriate JSON string and add it as a new column."
   ]
  },
  {
   "cell_type": "code",
   "execution_count": 6,
   "metadata": {},
   "outputs": [],
   "source": [
    "new_dfn = [] # list of new dataframes for concatenation\n",
    "for folderName, subfolders, filenames in os.walk(base_path):\n",
    "    for filename in filenames:\n",
    "        if filename.endswith('.csv'):\n",
    "            csv_fname = os.path.join(folderName, filename)\n",
    "            dfs = pd.read_csv(csv_fname)                     # read into DataFrame\n",
    "            dfs['category'] = dfs['category'].map(lambda x: json.loads(x)['slug'])  # parse JSON\n",
    "            dfs = dfs.reindex(columns=properties, copy=True)  # create a new dataframe\n",
    "            new_dfn.append(dfs) #.assign(category=y.values))     # add a parsed category\n",
    "            #y = dfs['category'].map(lambda x: json.loads(x)['slug'])  # parse JSON\n",
    "            #dfn = dfs.reindex(columns=properties, copy=True)  # create a new dataframe\n",
    "            #new_dfn.append(dfn.assign(category=y.values))     # add a parsed category"
   ]
  },
  {
   "cell_type": "code",
   "execution_count": 7,
   "metadata": {
    "collapsed": true
   },
   "outputs": [],
   "source": [
    "df_single = pd.concat(new_dfn, ignore_index=True)"
   ]
  },
  {
   "cell_type": "code",
   "execution_count": 8,
   "metadata": {},
   "outputs": [
    {
     "name": "stdout",
     "output_type": "stream",
     "text": [
      "<class 'pandas.core.frame.DataFrame'>\n",
      "RangeIndex: 3935527 entries, 0 to 3935526\n",
      "Data columns (total 18 columns):\n",
      "id                  int64\n",
      "name                object\n",
      "goal                float64\n",
      "pledged             float64\n",
      "usd_pledged         float64\n",
      "state               object\n",
      "slug                object\n",
      "country             object\n",
      "currency            object\n",
      "deadline            int64\n",
      "state_changed_at    int64\n",
      "created_at          int64\n",
      "launched_at         int64\n",
      "staff_pick          bool\n",
      "backers_count       int64\n",
      "blurb               object\n",
      "spotlight           bool\n",
      "category            object\n",
      "dtypes: bool(2), float64(3), int64(6), object(7)\n",
      "memory usage: 487.9+ MB\n"
     ]
    }
   ],
   "source": [
    "df_single.info()"
   ]
  },
  {
   "cell_type": "code",
   "execution_count": 9,
   "metadata": {},
   "outputs": [
    {
     "data": {
      "text/html": [
       "<div>\n",
       "<style>\n",
       "    .dataframe thead tr:only-child th {\n",
       "        text-align: right;\n",
       "    }\n",
       "\n",
       "    .dataframe thead th {\n",
       "        text-align: left;\n",
       "    }\n",
       "\n",
       "    .dataframe tbody tr th {\n",
       "        vertical-align: top;\n",
       "    }\n",
       "</style>\n",
       "<table border=\"1\" class=\"dataframe\">\n",
       "  <thead>\n",
       "    <tr style=\"text-align: right;\">\n",
       "      <th></th>\n",
       "      <th>id</th>\n",
       "      <th>name</th>\n",
       "      <th>goal</th>\n",
       "      <th>pledged</th>\n",
       "      <th>usd_pledged</th>\n",
       "      <th>state</th>\n",
       "      <th>slug</th>\n",
       "      <th>country</th>\n",
       "      <th>currency</th>\n",
       "      <th>deadline</th>\n",
       "      <th>state_changed_at</th>\n",
       "      <th>created_at</th>\n",
       "      <th>launched_at</th>\n",
       "      <th>staff_pick</th>\n",
       "      <th>backers_count</th>\n",
       "      <th>blurb</th>\n",
       "      <th>spotlight</th>\n",
       "      <th>category</th>\n",
       "    </tr>\n",
       "  </thead>\n",
       "  <tbody>\n",
       "    <tr>\n",
       "      <th>0</th>\n",
       "      <td>64486721</td>\n",
       "      <td>Along The Lines Of...</td>\n",
       "      <td>300.0</td>\n",
       "      <td>300.0</td>\n",
       "      <td>460.241994</td>\n",
       "      <td>successful</td>\n",
       "      <td>along-the-lines-of</td>\n",
       "      <td>GB</td>\n",
       "      <td>GBP</td>\n",
       "      <td>1368652795</td>\n",
       "      <td>1368652795</td>\n",
       "      <td>1365783741</td>\n",
       "      <td>1366060795</td>\n",
       "      <td>False</td>\n",
       "      <td>9</td>\n",
       "      <td>Funds towards exhibiting photography at an Art...</td>\n",
       "      <td>True</td>\n",
       "      <td>art/conceptual art</td>\n",
       "    </tr>\n",
       "    <tr>\n",
       "      <th>1</th>\n",
       "      <td>755137951</td>\n",
       "      <td>Portrait of #NOW</td>\n",
       "      <td>500.0</td>\n",
       "      <td>595.0</td>\n",
       "      <td>595.000000</td>\n",
       "      <td>successful</td>\n",
       "      <td>portrait-of-now</td>\n",
       "      <td>US</td>\n",
       "      <td>USD</td>\n",
       "      <td>1314486963</td>\n",
       "      <td>1314486965</td>\n",
       "      <td>1313619704</td>\n",
       "      <td>1313622963</td>\n",
       "      <td>False</td>\n",
       "      <td>5</td>\n",
       "      <td>This is Portrait of #NOW. I'm going to make a ...</td>\n",
       "      <td>True</td>\n",
       "      <td>art/conceptual art</td>\n",
       "    </tr>\n",
       "  </tbody>\n",
       "</table>\n",
       "</div>"
      ],
      "text/plain": [
       "          id                   name   goal  pledged  usd_pledged       state  \\\n",
       "0   64486721  Along The Lines Of...  300.0    300.0   460.241994  successful   \n",
       "1  755137951       Portrait of #NOW  500.0    595.0   595.000000  successful   \n",
       "\n",
       "                 slug country currency    deadline  state_changed_at  \\\n",
       "0  along-the-lines-of      GB      GBP  1368652795        1368652795   \n",
       "1     portrait-of-now      US      USD  1314486963        1314486965   \n",
       "\n",
       "   created_at  launched_at  staff_pick  backers_count  \\\n",
       "0  1365783741   1366060795       False              9   \n",
       "1  1313619704   1313622963       False              5   \n",
       "\n",
       "                                               blurb  spotlight  \\\n",
       "0  Funds towards exhibiting photography at an Art...       True   \n",
       "1  This is Portrait of #NOW. I'm going to make a ...       True   \n",
       "\n",
       "             category  \n",
       "0  art/conceptual art  \n",
       "1  art/conceptual art  "
      ]
     },
     "execution_count": 9,
     "metadata": {},
     "output_type": "execute_result"
    }
   ],
   "source": [
    "df_single.head(2)"
   ]
  },
  {
   "cell_type": "markdown",
   "metadata": {},
   "source": [
    "* The dataset shows significant duplication of records as the same projects are recorded month after month."
   ]
  },
  {
   "cell_type": "code",
   "execution_count": 10,
   "metadata": {},
   "outputs": [
    {
     "data": {
      "text/plain": [
       "True     3609560\n",
       "False     325967\n",
       "dtype: int64"
      ]
     },
     "execution_count": 10,
     "metadata": {},
     "output_type": "execute_result"
    }
   ],
   "source": [
    "df_single.duplicated().value_counts()"
   ]
  },
  {
   "cell_type": "code",
   "execution_count": 11,
   "metadata": {
    "collapsed": true
   },
   "outputs": [],
   "source": [
    "df_alldup = df_single.drop_duplicates()"
   ]
  },
  {
   "cell_type": "code",
   "execution_count": 12,
   "metadata": {},
   "outputs": [
    {
     "data": {
      "text/plain": [
       "(325967, 18)"
      ]
     },
     "execution_count": 12,
     "metadata": {},
     "output_type": "execute_result"
    }
   ],
   "source": [
    "df_alldup.shape"
   ]
  },
  {
   "cell_type": "markdown",
   "metadata": {},
   "source": [
    "* While completely identical records were dropped, there are still duplicate projects with the same id. As I am interested in comparing different projects and their final status, I will eliminate all the ID duplicates and only keep the last one."
   ]
  },
  {
   "cell_type": "code",
   "execution_count": 13,
   "metadata": {
    "collapsed": true
   },
   "outputs": [],
   "source": [
    "df_iddup = df_single.drop_duplicates(['id'], keep='last')"
   ]
  },
  {
   "cell_type": "code",
   "execution_count": 14,
   "metadata": {},
   "outputs": [
    {
     "data": {
      "text/plain": [
       "(263765, 18)"
      ]
     },
     "execution_count": 14,
     "metadata": {},
     "output_type": "execute_result"
    }
   ],
   "source": [
    "df_iddup.shape"
   ]
  },
  {
   "cell_type": "markdown",
   "metadata": {},
   "source": [
    "* Roughly 260K unique project records were retained, which corresponds to the number reported by Kicstarter."
   ]
  },
  {
   "cell_type": "markdown",
   "metadata": {},
   "source": [
    "* Use the unique ID as index to be saved in a new CSV file"
   ]
  },
  {
   "cell_type": "code",
   "execution_count": 15,
   "metadata": {
    "collapsed": true
   },
   "outputs": [],
   "source": [
    "df_id = df_iddup.set_index('id').sort_index()"
   ]
  },
  {
   "cell_type": "code",
   "execution_count": 16,
   "metadata": {},
   "outputs": [
    {
     "data": {
      "text/plain": [
       "(263765, 17)"
      ]
     },
     "execution_count": 16,
     "metadata": {},
     "output_type": "execute_result"
    }
   ],
   "source": [
    "df_id.shape"
   ]
  },
  {
   "cell_type": "code",
   "execution_count": 17,
   "metadata": {},
   "outputs": [],
   "source": [
    "df_id.to_csv(os.path.join(interim_path, 'kick_idn.csv'))        # save new dataframe"
   ]
  },
  {
   "cell_type": "markdown",
   "metadata": {},
   "source": [
    "* The above is the processed single CSV file containing unique data over the history of kickstarter"
   ]
  },
  {
   "cell_type": "markdown",
   "metadata": {},
   "source": [
    "* Convert the datastamp format into a standard datetime format using a custom parser and save in the data/processed directory"
   ]
  },
  {
   "cell_type": "code",
   "execution_count": 18,
   "metadata": {
    "collapsed": true
   },
   "outputs": [],
   "source": [
    "import datetime\n",
    "# list of columns, which should be in datetime format\n",
    "datecols = ['created_at', 'deadline', 'state_changed_at', 'launched_at']"
   ]
  },
  {
   "cell_type": "code",
   "execution_count": 19,
   "metadata": {
    "collapsed": true
   },
   "outputs": [],
   "source": [
    "# Function for converting from a timestamp to a datetime string\n",
    "fdatpars = lambda x: datetime.datetime.fromtimestamp(int(x)).strftime('%Y-%m-%d %H:%M:%S')"
   ]
  },
  {
   "cell_type": "code",
   "execution_count": 20,
   "metadata": {},
   "outputs": [],
   "source": [
    "# Read-in a pre-processed CSV file, index based on project ID\n",
    "df = pd.read_csv(os.path.join(interim_path, 'kick_idn.csv'), index_col='id', parse_dates=datecols, date_parser=fdatpars)"
   ]
  },
  {
   "cell_type": "code",
   "execution_count": 21,
   "metadata": {},
   "outputs": [
    {
     "data": {
      "text/html": [
       "<div>\n",
       "<style>\n",
       "    .dataframe thead tr:only-child th {\n",
       "        text-align: right;\n",
       "    }\n",
       "\n",
       "    .dataframe thead th {\n",
       "        text-align: left;\n",
       "    }\n",
       "\n",
       "    .dataframe tbody tr th {\n",
       "        vertical-align: top;\n",
       "    }\n",
       "</style>\n",
       "<table border=\"1\" class=\"dataframe\">\n",
       "  <thead>\n",
       "    <tr style=\"text-align: right;\">\n",
       "      <th></th>\n",
       "      <th>name</th>\n",
       "      <th>goal</th>\n",
       "      <th>pledged</th>\n",
       "      <th>usd_pledged</th>\n",
       "      <th>state</th>\n",
       "      <th>slug</th>\n",
       "      <th>country</th>\n",
       "      <th>currency</th>\n",
       "      <th>deadline</th>\n",
       "      <th>state_changed_at</th>\n",
       "      <th>created_at</th>\n",
       "      <th>launched_at</th>\n",
       "      <th>staff_pick</th>\n",
       "      <th>backers_count</th>\n",
       "      <th>blurb</th>\n",
       "      <th>spotlight</th>\n",
       "      <th>category</th>\n",
       "    </tr>\n",
       "    <tr>\n",
       "      <th>id</th>\n",
       "      <th></th>\n",
       "      <th></th>\n",
       "      <th></th>\n",
       "      <th></th>\n",
       "      <th></th>\n",
       "      <th></th>\n",
       "      <th></th>\n",
       "      <th></th>\n",
       "      <th></th>\n",
       "      <th></th>\n",
       "      <th></th>\n",
       "      <th></th>\n",
       "      <th></th>\n",
       "      <th></th>\n",
       "      <th></th>\n",
       "      <th></th>\n",
       "      <th></th>\n",
       "    </tr>\n",
       "  </thead>\n",
       "  <tbody>\n",
       "    <tr>\n",
       "      <th>18520</th>\n",
       "      <td>Grandma's are Life</td>\n",
       "      <td>15000.0</td>\n",
       "      <td>62.0</td>\n",
       "      <td>62.000000</td>\n",
       "      <td>failed</td>\n",
       "      <td>grandmas-are-life</td>\n",
       "      <td>US</td>\n",
       "      <td>USD</td>\n",
       "      <td>2016-11-18 09:32:40</td>\n",
       "      <td>2016-11-18 09:32:40</td>\n",
       "      <td>2016-10-19 08:13:18</td>\n",
       "      <td>2016-10-19 09:32:40</td>\n",
       "      <td>False</td>\n",
       "      <td>4</td>\n",
       "      <td>Raising money to help my grandmother recover f...</td>\n",
       "      <td>False</td>\n",
       "      <td>music/world music</td>\n",
       "    </tr>\n",
       "    <tr>\n",
       "      <th>21109</th>\n",
       "      <td>Meta</td>\n",
       "      <td>150.0</td>\n",
       "      <td>173.0</td>\n",
       "      <td>258.036032</td>\n",
       "      <td>successful</td>\n",
       "      <td>meta</td>\n",
       "      <td>GB</td>\n",
       "      <td>GBP</td>\n",
       "      <td>2015-05-06 17:00:00</td>\n",
       "      <td>2015-05-06 17:00:12</td>\n",
       "      <td>2015-04-07 10:07:05</td>\n",
       "      <td>2015-04-07 18:37:44</td>\n",
       "      <td>False</td>\n",
       "      <td>11</td>\n",
       "      <td>My work is performance based but I branch out ...</td>\n",
       "      <td>True</td>\n",
       "      <td>art/performance art</td>\n",
       "    </tr>\n",
       "  </tbody>\n",
       "</table>\n",
       "</div>"
      ],
      "text/plain": [
       "                     name     goal  pledged  usd_pledged       state  \\\n",
       "id                                                                     \n",
       "18520  Grandma's are Life  15000.0     62.0    62.000000      failed   \n",
       "21109                Meta    150.0    173.0   258.036032  successful   \n",
       "\n",
       "                    slug country currency            deadline  \\\n",
       "id                                                              \n",
       "18520  grandmas-are-life      US      USD 2016-11-18 09:32:40   \n",
       "21109               meta      GB      GBP 2015-05-06 17:00:00   \n",
       "\n",
       "         state_changed_at          created_at         launched_at  staff_pick  \\\n",
       "id                                                                              \n",
       "18520 2016-11-18 09:32:40 2016-10-19 08:13:18 2016-10-19 09:32:40       False   \n",
       "21109 2015-05-06 17:00:12 2015-04-07 10:07:05 2015-04-07 18:37:44       False   \n",
       "\n",
       "       backers_count                                              blurb  \\\n",
       "id                                                                        \n",
       "18520              4  Raising money to help my grandmother recover f...   \n",
       "21109             11  My work is performance based but I branch out ...   \n",
       "\n",
       "       spotlight             category  \n",
       "id                                     \n",
       "18520      False    music/world music  \n",
       "21109       True  art/performance art  "
      ]
     },
     "execution_count": 21,
     "metadata": {},
     "output_type": "execute_result"
    }
   ],
   "source": [
    "df.head(2)"
   ]
  },
  {
   "cell_type": "markdown",
   "metadata": {},
   "source": [
    "** Coarse-graining 'category'into 'cat_type' **\n",
    "\n",
    "The 'category' feature seems to be too fine grained with 169 different labels. A more general category type will be added for future exploratory analysis."
   ]
  },
  {
   "cell_type": "code",
   "execution_count": 22,
   "metadata": {},
   "outputs": [
    {
     "data": {
      "text/plain": [
       "169"
      ]
     },
     "execution_count": 22,
     "metadata": {},
     "output_type": "execute_result"
    }
   ],
   "source": [
    "# number of different categories\n",
    "df['category'].value_counts().shape[0]"
   ]
  },
  {
   "cell_type": "code",
   "execution_count": 23,
   "metadata": {},
   "outputs": [
    {
     "data": {
      "text/plain": [
       "design/product design    12477\n",
       "games/tabletop games      9707\n",
       "Name: category, dtype: int64"
      ]
     },
     "execution_count": 23,
     "metadata": {},
     "output_type": "execute_result"
    }
   ],
   "source": [
    "df['category'].value_counts().head(2)"
   ]
  },
  {
   "cell_type": "code",
   "execution_count": 24,
   "metadata": {},
   "outputs": [
    {
     "data": {
      "text/plain": [
       "music/comedy        22\n",
       "crafts/taxidermy    13\n",
       "Name: category, dtype: int64"
      ]
     },
     "execution_count": 24,
     "metadata": {},
     "output_type": "execute_result"
    }
   ],
   "source": [
    "df['category'].value_counts().tail(2)"
   ]
  },
  {
   "cell_type": "markdown",
   "metadata": {},
   "source": [
    "* Make coarse-grained category types based on the description before '/'"
   ]
  },
  {
   "cell_type": "code",
   "execution_count": 25,
   "metadata": {},
   "outputs": [
    {
     "name": "stdout",
     "output_type": "stream",
     "text": [
      "Lengths of cat_type and category should be the same:  263765 <> 263765\n"
     ]
    }
   ],
   "source": [
    "# make a list of general category types\n",
    "cat_type = [x.split('/')[0] for x in df['category'].values]\n",
    "print('Lengths of cat_type and category should be the same: ', len(cat_type), '<>', df['category'].shape[0])"
   ]
  },
  {
   "cell_type": "code",
   "execution_count": 26,
   "metadata": {
    "collapsed": true
   },
   "outputs": [],
   "source": [
    "df['cat_type'] = np.array(cat_type)"
   ]
  },
  {
   "cell_type": "code",
   "execution_count": 27,
   "metadata": {},
   "outputs": [
    {
     "data": {
      "text/plain": [
       "film & video    39441\n",
       "music           36476\n",
       "publishing      31807\n",
       "technology      26736\n",
       "games           25599\n",
       "art             21090\n",
       "design          16558\n",
       "fashion         16024\n",
       "food            15688\n",
       "comics           8078\n",
       "photography      6847\n",
       "theater          6289\n",
       "crafts           5743\n",
       "journalism       4302\n",
       "dance            3087\n",
       "Name: cat_type, dtype: int64"
      ]
     },
     "execution_count": 27,
     "metadata": {},
     "output_type": "execute_result"
    }
   ],
   "source": [
    "df['cat_type'].value_counts()"
   ]
  },
  {
   "cell_type": "code",
   "execution_count": 28,
   "metadata": {},
   "outputs": [
    {
     "data": {
      "text/plain": [
       "15"
      ]
     },
     "execution_count": 28,
     "metadata": {},
     "output_type": "execute_result"
    }
   ],
   "source": [
    "len(df['cat_type'].unique())"
   ]
  },
  {
   "cell_type": "code",
   "execution_count": 29,
   "metadata": {},
   "outputs": [
    {
     "name": "stdout",
     "output_type": "stream",
     "text": [
      "<class 'pandas.core.frame.DataFrame'>\n",
      "Int64Index: 263765 entries, 18520 to 2147476221\n",
      "Data columns (total 18 columns):\n",
      "name                263764 non-null object\n",
      "goal                263765 non-null float64\n",
      "pledged             263765 non-null float64\n",
      "usd_pledged         263765 non-null float64\n",
      "state               263765 non-null object\n",
      "slug                263765 non-null object\n",
      "country             263765 non-null object\n",
      "currency            263765 non-null object\n",
      "deadline            263765 non-null datetime64[ns]\n",
      "state_changed_at    263765 non-null datetime64[ns]\n",
      "created_at          263765 non-null datetime64[ns]\n",
      "launched_at         263765 non-null datetime64[ns]\n",
      "staff_pick          263765 non-null bool\n",
      "backers_count       263765 non-null int64\n",
      "blurb               263750 non-null object\n",
      "spotlight           263765 non-null bool\n",
      "category            263765 non-null object\n",
      "cat_type            263765 non-null object\n",
      "dtypes: bool(2), datetime64[ns](4), float64(3), int64(1), object(8)\n",
      "memory usage: 34.7+ MB\n"
     ]
    }
   ],
   "source": [
    "df.info()"
   ]
  },
  {
   "cell_type": "markdown",
   "metadata": {},
   "source": [
    "* Are there any suspicious irregularities or outliers in the data?\n",
    "\n",
    "Look at the basic statistical descriptors"
   ]
  },
  {
   "cell_type": "code",
   "execution_count": 30,
   "metadata": {},
   "outputs": [
    {
     "data": {
      "text/html": [
       "<div>\n",
       "<style>\n",
       "    .dataframe thead tr:only-child th {\n",
       "        text-align: right;\n",
       "    }\n",
       "\n",
       "    .dataframe thead th {\n",
       "        text-align: left;\n",
       "    }\n",
       "\n",
       "    .dataframe tbody tr th {\n",
       "        vertical-align: top;\n",
       "    }\n",
       "</style>\n",
       "<table border=\"1\" class=\"dataframe\">\n",
       "  <thead>\n",
       "    <tr style=\"text-align: right;\">\n",
       "      <th></th>\n",
       "      <th>goal</th>\n",
       "      <th>pledged</th>\n",
       "      <th>usd_pledged</th>\n",
       "      <th>backers_count</th>\n",
       "    </tr>\n",
       "  </thead>\n",
       "  <tbody>\n",
       "    <tr>\n",
       "      <th>count</th>\n",
       "      <td>2.637650e+05</td>\n",
       "      <td>2.637650e+05</td>\n",
       "      <td>2.637650e+05</td>\n",
       "      <td>263765.000000</td>\n",
       "    </tr>\n",
       "    <tr>\n",
       "      <th>mean</th>\n",
       "      <td>4.671028e+04</td>\n",
       "      <td>1.196719e+04</td>\n",
       "      <td>1.085461e+04</td>\n",
       "      <td>128.543575</td>\n",
       "    </tr>\n",
       "    <tr>\n",
       "      <th>std</th>\n",
       "      <td>1.139242e+06</td>\n",
       "      <td>1.298566e+05</td>\n",
       "      <td>1.029759e+05</td>\n",
       "      <td>1046.538138</td>\n",
       "    </tr>\n",
       "    <tr>\n",
       "      <th>min</th>\n",
       "      <td>1.000000e-02</td>\n",
       "      <td>0.000000e+00</td>\n",
       "      <td>0.000000e+00</td>\n",
       "      <td>0.000000</td>\n",
       "    </tr>\n",
       "    <tr>\n",
       "      <th>25%</th>\n",
       "      <td>2.000000e+03</td>\n",
       "      <td>5.000000e+01</td>\n",
       "      <td>4.842330e+01</td>\n",
       "      <td>2.000000</td>\n",
       "    </tr>\n",
       "    <tr>\n",
       "      <th>50%</th>\n",
       "      <td>5.000000e+03</td>\n",
       "      <td>9.360000e+02</td>\n",
       "      <td>9.250000e+02</td>\n",
       "      <td>17.000000</td>\n",
       "    </tr>\n",
       "    <tr>\n",
       "      <th>75%</th>\n",
       "      <td>1.500000e+04</td>\n",
       "      <td>5.175000e+03</td>\n",
       "      <td>5.125000e+03</td>\n",
       "      <td>70.000000</td>\n",
       "    </tr>\n",
       "    <tr>\n",
       "      <th>max</th>\n",
       "      <td>1.000000e+08</td>\n",
       "      <td>2.902191e+07</td>\n",
       "      <td>2.033899e+07</td>\n",
       "      <td>219382.000000</td>\n",
       "    </tr>\n",
       "  </tbody>\n",
       "</table>\n",
       "</div>"
      ],
      "text/plain": [
       "               goal       pledged   usd_pledged  backers_count\n",
       "count  2.637650e+05  2.637650e+05  2.637650e+05  263765.000000\n",
       "mean   4.671028e+04  1.196719e+04  1.085461e+04     128.543575\n",
       "std    1.139242e+06  1.298566e+05  1.029759e+05    1046.538138\n",
       "min    1.000000e-02  0.000000e+00  0.000000e+00       0.000000\n",
       "25%    2.000000e+03  5.000000e+01  4.842330e+01       2.000000\n",
       "50%    5.000000e+03  9.360000e+02  9.250000e+02      17.000000\n",
       "75%    1.500000e+04  5.175000e+03  5.125000e+03      70.000000\n",
       "max    1.000000e+08  2.902191e+07  2.033899e+07  219382.000000"
      ]
     },
     "execution_count": 30,
     "metadata": {},
     "output_type": "execute_result"
    }
   ],
   "source": [
    "df.describe()"
   ]
  },
  {
   "cell_type": "code",
   "execution_count": 31,
   "metadata": {},
   "outputs": [
    {
     "data": {
      "text/html": [
       "<div>\n",
       "<style>\n",
       "    .dataframe thead tr:only-child th {\n",
       "        text-align: right;\n",
       "    }\n",
       "\n",
       "    .dataframe thead th {\n",
       "        text-align: left;\n",
       "    }\n",
       "\n",
       "    .dataframe tbody tr th {\n",
       "        vertical-align: top;\n",
       "    }\n",
       "</style>\n",
       "<table border=\"1\" class=\"dataframe\">\n",
       "  <thead>\n",
       "    <tr style=\"text-align: right;\">\n",
       "      <th></th>\n",
       "      <th>name</th>\n",
       "      <th>goal</th>\n",
       "      <th>pledged</th>\n",
       "      <th>usd_pledged</th>\n",
       "      <th>state</th>\n",
       "      <th>slug</th>\n",
       "      <th>country</th>\n",
       "      <th>currency</th>\n",
       "      <th>deadline</th>\n",
       "      <th>state_changed_at</th>\n",
       "      <th>created_at</th>\n",
       "      <th>launched_at</th>\n",
       "      <th>staff_pick</th>\n",
       "      <th>backers_count</th>\n",
       "      <th>blurb</th>\n",
       "      <th>spotlight</th>\n",
       "      <th>category</th>\n",
       "      <th>cat_type</th>\n",
       "    </tr>\n",
       "    <tr>\n",
       "      <th>id</th>\n",
       "      <th></th>\n",
       "      <th></th>\n",
       "      <th></th>\n",
       "      <th></th>\n",
       "      <th></th>\n",
       "      <th></th>\n",
       "      <th></th>\n",
       "      <th></th>\n",
       "      <th></th>\n",
       "      <th></th>\n",
       "      <th></th>\n",
       "      <th></th>\n",
       "      <th></th>\n",
       "      <th></th>\n",
       "      <th></th>\n",
       "      <th></th>\n",
       "      <th></th>\n",
       "      <th></th>\n",
       "    </tr>\n",
       "  </thead>\n",
       "  <tbody>\n",
       "    <tr>\n",
       "      <th>1955357092</th>\n",
       "      <td>Exploding Kittens</td>\n",
       "      <td>10000.0</td>\n",
       "      <td>8782571.99</td>\n",
       "      <td>8782571.99</td>\n",
       "      <td>successful</td>\n",
       "      <td>exploding-kittens</td>\n",
       "      <td>US</td>\n",
       "      <td>USD</td>\n",
       "      <td>2015-02-19 21:00:00</td>\n",
       "      <td>2015-02-19 21:01:19</td>\n",
       "      <td>2014-12-15 03:39:54</td>\n",
       "      <td>2015-01-20 13:00:19</td>\n",
       "      <td>True</td>\n",
       "      <td>219382</td>\n",
       "      <td>This is a card game for people who are into ki...</td>\n",
       "      <td>True</td>\n",
       "      <td>games/tabletop games</td>\n",
       "      <td>games</td>\n",
       "    </tr>\n",
       "    <tr>\n",
       "      <th>1386523707</th>\n",
       "      <td>Fidget Cube: A Vinyl Desk Toy</td>\n",
       "      <td>15000.0</td>\n",
       "      <td>6465690.30</td>\n",
       "      <td>6465690.30</td>\n",
       "      <td>successful</td>\n",
       "      <td>fidget-cube-a-vinyl-desk-toy</td>\n",
       "      <td>US</td>\n",
       "      <td>USD</td>\n",
       "      <td>2016-10-19 21:00:00</td>\n",
       "      <td>2016-10-19 21:00:00</td>\n",
       "      <td>2016-08-06 20:06:08</td>\n",
       "      <td>2016-08-30 16:02:09</td>\n",
       "      <td>True</td>\n",
       "      <td>154926</td>\n",
       "      <td>An unusually addicting, high-quality desk toy ...</td>\n",
       "      <td>True</td>\n",
       "      <td>design/product design</td>\n",
       "      <td>design</td>\n",
       "    </tr>\n",
       "  </tbody>\n",
       "</table>\n",
       "</div>"
      ],
      "text/plain": [
       "                                     name     goal     pledged  usd_pledged  \\\n",
       "id                                                                            \n",
       "1955357092              Exploding Kittens  10000.0  8782571.99   8782571.99   \n",
       "1386523707  Fidget Cube: A Vinyl Desk Toy  15000.0  6465690.30   6465690.30   \n",
       "\n",
       "                 state                          slug country currency  \\\n",
       "id                                                                      \n",
       "1955357092  successful             exploding-kittens      US      USD   \n",
       "1386523707  successful  fidget-cube-a-vinyl-desk-toy      US      USD   \n",
       "\n",
       "                      deadline    state_changed_at          created_at  \\\n",
       "id                                                                       \n",
       "1955357092 2015-02-19 21:00:00 2015-02-19 21:01:19 2014-12-15 03:39:54   \n",
       "1386523707 2016-10-19 21:00:00 2016-10-19 21:00:00 2016-08-06 20:06:08   \n",
       "\n",
       "                   launched_at  staff_pick  backers_count  \\\n",
       "id                                                          \n",
       "1955357092 2015-01-20 13:00:19        True         219382   \n",
       "1386523707 2016-08-30 16:02:09        True         154926   \n",
       "\n",
       "                                                        blurb  spotlight  \\\n",
       "id                                                                         \n",
       "1955357092  This is a card game for people who are into ki...       True   \n",
       "1386523707  An unusually addicting, high-quality desk toy ...       True   \n",
       "\n",
       "                         category cat_type  \n",
       "id                                          \n",
       "1955357092   games/tabletop games    games  \n",
       "1386523707  design/product design   design  "
      ]
     },
     "execution_count": 31,
     "metadata": {},
     "output_type": "execute_result"
    }
   ],
   "source": [
    "df.sort_values('backers_count', ascending=False).head(2)"
   ]
  },
  {
   "cell_type": "markdown",
   "metadata": {},
   "source": [
    "* The distribution of funding and backers is strongly asymmetric, with a few very successful projects, but nothing suggests errors in the data"
   ]
  },
  {
   "cell_type": "code",
   "execution_count": 32,
   "metadata": {
    "collapsed": true
   },
   "outputs": [],
   "source": [
    "df.to_csv(os.path.join(processed_path, 'kick_idf.csv'))  "
   ]
  },
  {
   "cell_type": "code",
   "execution_count": 33,
   "metadata": {},
   "outputs": [
    {
     "data": {
      "text/plain": [
       "89.14581489562988"
      ]
     },
     "execution_count": 33,
     "metadata": {},
     "output_type": "execute_result"
    }
   ],
   "source": [
    "os.path.getsize(os.path.join(processed_path, 'kick_idf.csv'))/2**20"
   ]
  },
  {
   "cell_type": "markdown",
   "metadata": {},
   "source": [
    "** Summary **\n",
    "\n",
    "The original 43 GB has shrunk to ~90 MB CSV file. This was obtained by\n",
    "* eliminating uninformative columns\n",
    "* eliminating duplicate records\n",
    "* extracting only useful information from JSON strings\n",
    "* converting date and time from a stamp format into the standard form.\n",
    "* adding a new 'cat_type' feature for grouping project category types"
   ]
  }
 ],
 "metadata": {
  "kernelspec": {
   "display_name": "Python 3",
   "language": "python",
   "name": "python3"
  },
  "language_info": {
   "codemirror_mode": {
    "name": "ipython",
    "version": 3
   },
   "file_extension": ".py",
   "mimetype": "text/x-python",
   "name": "python",
   "nbconvert_exporter": "python",
   "pygments_lexer": "ipython3",
   "version": "3.6.1"
  }
 },
 "nbformat": 4,
 "nbformat_minor": 2
}
