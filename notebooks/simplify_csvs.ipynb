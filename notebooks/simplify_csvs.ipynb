{
 "cells": [
  {
   "cell_type": "markdown",
   "metadata": {},
   "source": [
    "# Read CSV files, select columns, extract category and save to new CSVs"
   ]
  },
  {
   "cell_type": "code",
   "execution_count": 1,
   "metadata": {
    "collapsed": true
   },
   "outputs": [],
   "source": [
    "import os\n",
    "import numpy as np\n",
    "import pandas as pd\n",
    "import json"
   ]
  },
  {
   "cell_type": "code",
   "execution_count": 2,
   "metadata": {
    "collapsed": true
   },
   "outputs": [],
   "source": [
    "base_path = '../data/raw/kickstarter_csvs'\n",
    "target_path = '../data/interim/kickstarter_csvs'"
   ]
  },
  {
   "cell_type": "code",
   "execution_count": 3,
   "metadata": {},
   "outputs": [
    {
     "data": {
      "text/plain": [
       "18"
      ]
     },
     "execution_count": 3,
     "metadata": {},
     "output_type": "execute_result"
    }
   ],
   "source": [
    "# list of columns to select and save\n",
    "properties = ['id', 'name', 'goal', 'pledged', 'usd_pledged', 'state', 'slug', 'disable_communication', 'country', 'currency', 'deadline', 'state_changed_at', 'created_at', 'launched_at', 'staff_pick', 'backers_count', 'blurb', 'category', 'spotlight']\n",
    "properties = ['id', 'name', 'goal', 'pledged', 'usd_pledged', 'state', 'slug', 'disable_communication', 'country', 'currency', 'deadline', 'state_changed_at', 'created_at', 'launched_at', 'staff_pick', 'backers_count', 'blurb', 'spotlight']\n",
    "len(properties)"
   ]
  },
  {
   "cell_type": "code",
   "execution_count": 5,
   "metadata": {},
   "outputs": [],
   "source": [
    "# read all csvs, select desired columns, and save as new csvs in the same format\n",
    "# extract category and location from JSON strings\n",
    "new_dfn = [] # list of new dataframes for concatenation\n",
    "for folderName, subfolders, filenames in os.walk(base_path):\n",
    "    _, dname = os.path.split(folderName)\n",
    "    dname = os.path.join(target_path, dname)\n",
    "    #os.mkdir(dname)\n",
    "    for filename in filenames:\n",
    "        if filename.endswith('.csv'):\n",
    "            csv_fname = os.path.join(folderName, filename)\n",
    "            #print(\"File\", csv_fname)\n",
    "            dfs = pd.read_csv(csv_fname)                     # read into DataFrame\n",
    "            y = dfs['category'].map(lambda x: json.loads(x)['slug'])  # parse JSON\n",
    "        \n",
    "            dfn = dfs.reindex(columns=properties, copy=True)  # create a new dataframe\n",
    "            new_dfn.append(dfn.assign(category=y.values))     # add a parsed category\n",
    "            #print('New DF object:', new_dfn[-1].head(1))\n",
    "            # save into separate csv files\n",
    "            #dfn = dfs.reindex(columns=properties, copy=True) # create a new dataframe\n",
    "            #dfn = dfn.assign(category=y.values)              # add a parsed category\n",
    "            #dfn.to_csv(os.path.join(dname, filename))        # save new dataframe\n",
    "            #print(\"Newfile: \", os.path.join(dname, filename))\n",
    "            #print(dfs.columns)\n",
    "            "
   ]
  },
  {
   "cell_type": "code",
   "execution_count": 5,
   "metadata": {},
   "outputs": [
    {
     "data": {
      "text/plain": [
       "961"
      ]
     },
     "execution_count": 5,
     "metadata": {},
     "output_type": "execute_result"
    }
   ],
   "source": [
    "len(new_dfn)"
   ]
  },
  {
   "cell_type": "code",
   "execution_count": 6,
   "metadata": {
    "collapsed": true
   },
   "outputs": [],
   "source": [
    "df_single = pd.concat(new_dfn, ignore_index=True)"
   ]
  },
  {
   "cell_type": "code",
   "execution_count": 7,
   "metadata": {},
   "outputs": [
    {
     "data": {
      "text/plain": [
       "(3935527, 19)"
      ]
     },
     "execution_count": 7,
     "metadata": {},
     "output_type": "execute_result"
    }
   ],
   "source": [
    "df_single.shape"
   ]
  },
  {
   "cell_type": "code",
   "execution_count": 9,
   "metadata": {
    "collapsed": true
   },
   "outputs": [
    {
     "data": {
      "text/html": [
       "<div>\n",
       "<style>\n",
       "    .dataframe thead tr:only-child th {\n",
       "        text-align: right;\n",
       "    }\n",
       "\n",
       "    .dataframe thead th {\n",
       "        text-align: left;\n",
       "    }\n",
       "\n",
       "    .dataframe tbody tr th {\n",
       "        vertical-align: top;\n",
       "    }\n",
       "</style>\n",
       "<table border=\"1\" class=\"dataframe\">\n",
       "  <thead>\n",
       "    <tr style=\"text-align: right;\">\n",
       "      <th></th>\n",
       "      <th>id</th>\n",
       "      <th>name</th>\n",
       "      <th>goal</th>\n",
       "      <th>pledged</th>\n",
       "      <th>usd_pledged</th>\n",
       "      <th>state</th>\n",
       "      <th>slug</th>\n",
       "      <th>disable_communication</th>\n",
       "      <th>country</th>\n",
       "      <th>currency</th>\n",
       "      <th>deadline</th>\n",
       "      <th>state_changed_at</th>\n",
       "      <th>created_at</th>\n",
       "      <th>launched_at</th>\n",
       "      <th>staff_pick</th>\n",
       "      <th>backers_count</th>\n",
       "      <th>blurb</th>\n",
       "      <th>spotlight</th>\n",
       "      <th>category</th>\n",
       "    </tr>\n",
       "  </thead>\n",
       "  <tbody>\n",
       "    <tr>\n",
       "      <th>0</th>\n",
       "      <td>64486721</td>\n",
       "      <td>Along The Lines Of...</td>\n",
       "      <td>300.0</td>\n",
       "      <td>300.0</td>\n",
       "      <td>460.241994</td>\n",
       "      <td>successful</td>\n",
       "      <td>along-the-lines-of</td>\n",
       "      <td>False</td>\n",
       "      <td>GB</td>\n",
       "      <td>GBP</td>\n",
       "      <td>1368652795</td>\n",
       "      <td>1368652795</td>\n",
       "      <td>1365783741</td>\n",
       "      <td>1366060795</td>\n",
       "      <td>False</td>\n",
       "      <td>9</td>\n",
       "      <td>Funds towards exhibiting photography at an Art...</td>\n",
       "      <td>True</td>\n",
       "      <td>art/conceptual art</td>\n",
       "    </tr>\n",
       "    <tr>\n",
       "      <th>1</th>\n",
       "      <td>755137951</td>\n",
       "      <td>Portrait of #NOW</td>\n",
       "      <td>500.0</td>\n",
       "      <td>595.0</td>\n",
       "      <td>595.000000</td>\n",
       "      <td>successful</td>\n",
       "      <td>portrait-of-now</td>\n",
       "      <td>False</td>\n",
       "      <td>US</td>\n",
       "      <td>USD</td>\n",
       "      <td>1314486963</td>\n",
       "      <td>1314486965</td>\n",
       "      <td>1313619704</td>\n",
       "      <td>1313622963</td>\n",
       "      <td>False</td>\n",
       "      <td>5</td>\n",
       "      <td>This is Portrait of #NOW. I'm going to make a ...</td>\n",
       "      <td>True</td>\n",
       "      <td>art/conceptual art</td>\n",
       "    </tr>\n",
       "    <tr>\n",
       "      <th>2</th>\n",
       "      <td>796895846</td>\n",
       "      <td>A Dollar and a Dream</td>\n",
       "      <td>300.0</td>\n",
       "      <td>1071.0</td>\n",
       "      <td>1071.000000</td>\n",
       "      <td>successful</td>\n",
       "      <td>a-dollar-and-a-dream-0</td>\n",
       "      <td>False</td>\n",
       "      <td>US</td>\n",
       "      <td>USD</td>\n",
       "      <td>1355377577</td>\n",
       "      <td>1355377577</td>\n",
       "      <td>1352126529</td>\n",
       "      <td>1354081577</td>\n",
       "      <td>False</td>\n",
       "      <td>15</td>\n",
       "      <td>Hope, faith, superstition, expectation, disapp...</td>\n",
       "      <td>True</td>\n",
       "      <td>art/conceptual art</td>\n",
       "    </tr>\n",
       "    <tr>\n",
       "      <th>3</th>\n",
       "      <td>2136864323</td>\n",
       "      <td>Correspondences: The Exhibition</td>\n",
       "      <td>1600.0</td>\n",
       "      <td>1735.0</td>\n",
       "      <td>1735.000000</td>\n",
       "      <td>successful</td>\n",
       "      <td>correspondences-the-exhibition</td>\n",
       "      <td>False</td>\n",
       "      <td>US</td>\n",
       "      <td>USD</td>\n",
       "      <td>1379563140</td>\n",
       "      <td>1379563143</td>\n",
       "      <td>1372738515</td>\n",
       "      <td>1378225789</td>\n",
       "      <td>False</td>\n",
       "      <td>40</td>\n",
       "      <td>Sharing an interactive postal-art project with...</td>\n",
       "      <td>True</td>\n",
       "      <td>art/conceptual art</td>\n",
       "    </tr>\n",
       "    <tr>\n",
       "      <th>4</th>\n",
       "      <td>989395377</td>\n",
       "      <td>Abstraction of Utopia</td>\n",
       "      <td>750.0</td>\n",
       "      <td>760.0</td>\n",
       "      <td>760.000000</td>\n",
       "      <td>successful</td>\n",
       "      <td>abstraction-of-utopia</td>\n",
       "      <td>False</td>\n",
       "      <td>US</td>\n",
       "      <td>USD</td>\n",
       "      <td>1363119207</td>\n",
       "      <td>1363119208</td>\n",
       "      <td>1360082467</td>\n",
       "      <td>1360530807</td>\n",
       "      <td>False</td>\n",
       "      <td>17</td>\n",
       "      <td>What is Utopia and who gets to decide? Is ther...</td>\n",
       "      <td>True</td>\n",
       "      <td>art/conceptual art</td>\n",
       "    </tr>\n",
       "  </tbody>\n",
       "</table>\n",
       "</div>"
      ],
      "text/plain": [
       "           id                             name    goal  pledged  usd_pledged  \\\n",
       "0    64486721            Along The Lines Of...   300.0    300.0   460.241994   \n",
       "1   755137951                 Portrait of #NOW   500.0    595.0   595.000000   \n",
       "2   796895846             A Dollar and a Dream   300.0   1071.0  1071.000000   \n",
       "3  2136864323  Correspondences: The Exhibition  1600.0   1735.0  1735.000000   \n",
       "4   989395377            Abstraction of Utopia   750.0    760.0   760.000000   \n",
       "\n",
       "        state                            slug  disable_communication country  \\\n",
       "0  successful              along-the-lines-of                  False      GB   \n",
       "1  successful                 portrait-of-now                  False      US   \n",
       "2  successful          a-dollar-and-a-dream-0                  False      US   \n",
       "3  successful  correspondences-the-exhibition                  False      US   \n",
       "4  successful           abstraction-of-utopia                  False      US   \n",
       "\n",
       "  currency    deadline  state_changed_at  created_at  launched_at  staff_pick  \\\n",
       "0      GBP  1368652795        1368652795  1365783741   1366060795       False   \n",
       "1      USD  1314486963        1314486965  1313619704   1313622963       False   \n",
       "2      USD  1355377577        1355377577  1352126529   1354081577       False   \n",
       "3      USD  1379563140        1379563143  1372738515   1378225789       False   \n",
       "4      USD  1363119207        1363119208  1360082467   1360530807       False   \n",
       "\n",
       "   backers_count                                              blurb  \\\n",
       "0              9  Funds towards exhibiting photography at an Art...   \n",
       "1              5  This is Portrait of #NOW. I'm going to make a ...   \n",
       "2             15  Hope, faith, superstition, expectation, disapp...   \n",
       "3             40  Sharing an interactive postal-art project with...   \n",
       "4             17  What is Utopia and who gets to decide? Is ther...   \n",
       "\n",
       "   spotlight            category  \n",
       "0       True  art/conceptual art  \n",
       "1       True  art/conceptual art  \n",
       "2       True  art/conceptual art  \n",
       "3       True  art/conceptual art  \n",
       "4       True  art/conceptual art  "
      ]
     },
     "execution_count": 9,
     "metadata": {},
     "output_type": "execute_result"
    }
   ],
   "source": [
    "df_single.head()"
   ]
  },
  {
   "cell_type": "code",
   "execution_count": 33,
   "metadata": {
    "collapsed": true
   },
   "outputs": [],
   "source": [
    "df_single.to_csv(os.path.join(target_path, 'kick_all.csv'))"
   ]
  },
  {
   "cell_type": "code",
   "execution_count": 10,
   "metadata": {
    "collapsed": true
   },
   "outputs": [],
   "source": [
    "dup = df_single.duplicated()"
   ]
  },
  {
   "cell_type": "code",
   "execution_count": 12,
   "metadata": {},
   "outputs": [
    {
     "data": {
      "text/plain": [
       "Counter({False: 325967, True: 3609560})"
      ]
     },
     "execution_count": 12,
     "metadata": {},
     "output_type": "execute_result"
    }
   ],
   "source": [
    "from collections import Counter\n",
    "Counter(dup)"
   ]
  },
  {
   "cell_type": "code",
   "execution_count": 25,
   "metadata": {
    "collapsed": true
   },
   "outputs": [],
   "source": [
    "df_alldup = df_single.drop_duplicates()"
   ]
  },
  {
   "cell_type": "code",
   "execution_count": 35,
   "metadata": {
    "collapsed": true
   },
   "outputs": [],
   "source": [
    "df_alldup.to_csv(os.path.join(target_path, 'kick_nodup.csv'))"
   ]
  },
  {
   "cell_type": "code",
   "execution_count": 36,
   "metadata": {},
   "outputs": [
    {
     "data": {
      "text/plain": [
       "(325967, 19)"
      ]
     },
     "execution_count": 36,
     "metadata": {},
     "output_type": "execute_result"
    }
   ],
   "source": [
    "df_alldup.shape"
   ]
  },
  {
   "cell_type": "code",
   "execution_count": 41,
   "metadata": {
    "collapsed": true
   },
   "outputs": [],
   "source": [
    "df_iddup = df_single.drop_duplicates(['id'], keep='last')"
   ]
  },
  {
   "cell_type": "code",
   "execution_count": 42,
   "metadata": {},
   "outputs": [
    {
     "data": {
      "text/plain": [
       "(263765, 19)"
      ]
     },
     "execution_count": 42,
     "metadata": {},
     "output_type": "execute_result"
    }
   ],
   "source": [
    "df_iddup.shape"
   ]
  },
  {
   "cell_type": "code",
   "execution_count": 43,
   "metadata": {
    "collapsed": true
   },
   "outputs": [],
   "source": [
    "df_iddup.to_csv(os.path.join(target_path, 'kick_noiddup_last.csv'))        # save new dataframe"
   ]
  },
  {
   "cell_type": "code",
   "execution_count": 54,
   "metadata": {},
   "outputs": [],
   "source": [
    "df_id = df_iddup.set_index('id').sort_index()"
   ]
  },
  {
   "cell_type": "code",
   "execution_count": 58,
   "metadata": {},
   "outputs": [
    {
     "data": {
      "text/html": [
       "<div>\n",
       "<style>\n",
       "    .dataframe thead tr:only-child th {\n",
       "        text-align: right;\n",
       "    }\n",
       "\n",
       "    .dataframe thead th {\n",
       "        text-align: left;\n",
       "    }\n",
       "\n",
       "    .dataframe tbody tr th {\n",
       "        vertical-align: top;\n",
       "    }\n",
       "</style>\n",
       "<table border=\"1\" class=\"dataframe\">\n",
       "  <thead>\n",
       "    <tr style=\"text-align: right;\">\n",
       "      <th></th>\n",
       "      <th>name</th>\n",
       "      <th>goal</th>\n",
       "      <th>pledged</th>\n",
       "      <th>usd_pledged</th>\n",
       "      <th>state</th>\n",
       "      <th>slug</th>\n",
       "      <th>disable_communication</th>\n",
       "      <th>country</th>\n",
       "      <th>currency</th>\n",
       "      <th>deadline</th>\n",
       "      <th>state_changed_at</th>\n",
       "      <th>created_at</th>\n",
       "      <th>launched_at</th>\n",
       "      <th>staff_pick</th>\n",
       "      <th>backers_count</th>\n",
       "      <th>blurb</th>\n",
       "      <th>spotlight</th>\n",
       "      <th>category</th>\n",
       "    </tr>\n",
       "    <tr>\n",
       "      <th>id</th>\n",
       "      <th></th>\n",
       "      <th></th>\n",
       "      <th></th>\n",
       "      <th></th>\n",
       "      <th></th>\n",
       "      <th></th>\n",
       "      <th></th>\n",
       "      <th></th>\n",
       "      <th></th>\n",
       "      <th></th>\n",
       "      <th></th>\n",
       "      <th></th>\n",
       "      <th></th>\n",
       "      <th></th>\n",
       "      <th></th>\n",
       "      <th></th>\n",
       "      <th></th>\n",
       "      <th></th>\n",
       "    </tr>\n",
       "  </thead>\n",
       "  <tbody>\n",
       "    <tr>\n",
       "      <th>18520</th>\n",
       "      <td>Grandma's are Life</td>\n",
       "      <td>15000.0</td>\n",
       "      <td>62.0</td>\n",
       "      <td>62.000000</td>\n",
       "      <td>failed</td>\n",
       "      <td>grandmas-are-life</td>\n",
       "      <td>False</td>\n",
       "      <td>US</td>\n",
       "      <td>USD</td>\n",
       "      <td>1479479560</td>\n",
       "      <td>1479479560</td>\n",
       "      <td>1476879198</td>\n",
       "      <td>1476883960</td>\n",
       "      <td>False</td>\n",
       "      <td>4</td>\n",
       "      <td>Raising money to help my grandmother recover f...</td>\n",
       "      <td>False</td>\n",
       "      <td>music/world music</td>\n",
       "    </tr>\n",
       "    <tr>\n",
       "      <th>21109</th>\n",
       "      <td>Meta</td>\n",
       "      <td>150.0</td>\n",
       "      <td>173.0</td>\n",
       "      <td>258.036032</td>\n",
       "      <td>successful</td>\n",
       "      <td>meta</td>\n",
       "      <td>False</td>\n",
       "      <td>GB</td>\n",
       "      <td>GBP</td>\n",
       "      <td>1430946000</td>\n",
       "      <td>1430946012</td>\n",
       "      <td>1428415625</td>\n",
       "      <td>1428446264</td>\n",
       "      <td>False</td>\n",
       "      <td>11</td>\n",
       "      <td>My work is performance based but I branch out ...</td>\n",
       "      <td>True</td>\n",
       "      <td>art/performance art</td>\n",
       "    </tr>\n",
       "  </tbody>\n",
       "</table>\n",
       "</div>"
      ],
      "text/plain": [
       "                     name     goal  pledged  usd_pledged       state  \\\n",
       "id                                                                     \n",
       "18520  Grandma's are Life  15000.0     62.0    62.000000      failed   \n",
       "21109                Meta    150.0    173.0   258.036032  successful   \n",
       "\n",
       "                    slug  disable_communication country currency    deadline  \\\n",
       "id                                                                             \n",
       "18520  grandmas-are-life                  False      US      USD  1479479560   \n",
       "21109               meta                  False      GB      GBP  1430946000   \n",
       "\n",
       "       state_changed_at  created_at  launched_at  staff_pick  backers_count  \\\n",
       "id                                                                            \n",
       "18520        1479479560  1476879198   1476883960       False              4   \n",
       "21109        1430946012  1428415625   1428446264       False             11   \n",
       "\n",
       "                                                   blurb  spotlight  \\\n",
       "id                                                                    \n",
       "18520  Raising money to help my grandmother recover f...      False   \n",
       "21109  My work is performance based but I branch out ...       True   \n",
       "\n",
       "                  category  \n",
       "id                          \n",
       "18520    music/world music  \n",
       "21109  art/performance art  "
      ]
     },
     "execution_count": 58,
     "metadata": {},
     "output_type": "execute_result"
    }
   ],
   "source": [
    "df_id.head(2)"
   ]
  },
  {
   "cell_type": "code",
   "execution_count": 56,
   "metadata": {},
   "outputs": [
    {
     "data": {
      "text/plain": [
       "(263765, 18)"
      ]
     },
     "execution_count": 56,
     "metadata": {},
     "output_type": "execute_result"
    }
   ],
   "source": [
    "df_id.shape"
   ]
  },
  {
   "cell_type": "code",
   "execution_count": 57,
   "metadata": {
    "collapsed": true
   },
   "outputs": [],
   "source": [
    "df_id.to_csv(os.path.join(target_path, 'kick_id.csv'))        # save new dataframe"
   ]
  },
  {
   "cell_type": "markdown",
   "metadata": {},
   "source": [
    "* The above is the processed single CSV file containing unique data over the history of kickstarter"
   ]
  }
 ],
 "metadata": {
  "kernelspec": {
   "display_name": "Python 3",
   "language": "python",
   "name": "python3"
  },
  "language_info": {
   "codemirror_mode": {
    "name": "ipython",
    "version": 3
   },
   "file_extension": ".py",
   "mimetype": "text/x-python",
   "name": "python",
   "nbconvert_exporter": "python",
   "pygments_lexer": "ipython3",
   "version": "3.6.1"
  }
 },
 "nbformat": 4,
 "nbformat_minor": 2
}
