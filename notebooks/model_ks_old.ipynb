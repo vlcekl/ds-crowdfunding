{
 "cells": [
  {
   "cell_type": "markdown",
   "metadata": {},
   "source": [
    "# Simple predictions of successful funding - logistic regression\n",
    "\n",
    "### _Lukas Vlcek_\n",
    "\n",
    "## 1. Introduction\n",
    "\n",
    "Kickstarter records contain more than 200,000 projects, with information about the ultimate success or failure of their funding campaign, the type of the proposed work, country of origin, or amounts of money asked and pledged by funders."
   ]
  },
  {
   "cell_type": "markdown",
   "metadata": {},
   "source": [
    "## 2. Data setup"
   ]
  },
  {
   "cell_type": "markdown",
   "metadata": {},
   "source": [
    "Notebook configuration"
   ]
  },
  {
   "cell_type": "code",
   "execution_count": 1,
   "metadata": {
    "collapsed": true
   },
   "outputs": [],
   "source": [
    "%matplotlib inline\n",
    "import os\n",
    "import numpy as np\n",
    "import pandas as pd\n",
    "import matplotlib.pyplot as plt\n",
    "import seaborn as sns\n",
    "import datetime"
   ]
  },
  {
   "cell_type": "markdown",
   "metadata": {},
   "source": [
    "Create a dataframe from a pre-processed CSV file and filter out uninformative features"
   ]
  },
  {
   "cell_type": "code",
   "execution_count": 2,
   "metadata": {
    "collapsed": true
   },
   "outputs": [],
   "source": [
    "target_path = '../data/processed'\n",
    "report_path = '../reports'\n",
    "filename = 'kick_id.csv'\n",
    "datecols = ['created_at', 'deadline', 'state_changed_at', 'launched_at']\n",
    "fdatpars = lambda x: datetime.datetime.fromtimestamp(int(x)).strftime('%Y-%m-%d %H:%M:%S')\n",
    "df = pd.read_csv(os.path.join(target_path, filename), index_col='id', parse_dates=datecols, date_parser=fdatpars)"
   ]
  },
  {
   "cell_type": "markdown",
   "metadata": {},
   "source": [
    "Filter out unneeded data and add some indicator features"
   ]
  },
  {
   "cell_type": "code",
   "execution_count": 3,
   "metadata": {},
   "outputs": [
    {
     "data": {
      "text/plain": [
       "(149007,)"
      ]
     },
     "execution_count": 3,
     "metadata": {},
     "output_type": "execute_result"
    }
   ],
   "source": [
    "df = df.drop(['disable_communication'], axis='columns')\n",
    "df = df.loc[(df['state'] != 'live') & (df['state'] != 'suspended')]\n",
    "cat_type = [x.split('/')[0] for x in df['category'].values]\n",
    "df['cat_type'] = np.array(cat_type)\n",
    "df['dummy'] = 1\n",
    "df['period'] = (df['launched_at'] >= '2014-06-01') & (df['launched_at'] < '2018-01-01')\n",
    "df['succeeded'] = np.int_(df['state'] == 'successful')\n",
    "df['staff_pick'] = np.int_(df['staff_pick'])\n",
    "df.sort_values('launched_at').loc[df.period]['launched_at'].shape"
   ]
  },
  {
   "cell_type": "code",
   "execution_count": 4,
   "metadata": {},
   "outputs": [],
   "source": [
    "# counting words in project names and blurbs\n",
    "df.loc[df['blurb'].isnull(), 'blurb'] = ''\n",
    "df.loc[df['name'].isnull(), 'name'] = ''\n",
    "df['blurb_wlen'] = df['blurb'].str.split().apply(len)\n",
    "df['name_wlen'] = df['name'].str.split().apply(len)"
   ]
  },
  {
   "cell_type": "code",
   "execution_count": 5,
   "metadata": {},
   "outputs": [
    {
     "data": {
      "text/plain": [
       "((149007, 23), (89449, 23))"
      ]
     },
     "execution_count": 5,
     "metadata": {},
     "output_type": "execute_result"
    }
   ],
   "source": [
    "# make new dataframes with new and old data\n",
    "dfn = df.loc[df.period].copy()\n",
    "dfo = df.loc[~df.period].copy()\n",
    "dfn.shape, dfo.shape"
   ]
  },
  {
   "cell_type": "code",
   "execution_count": 6,
   "metadata": {},
   "outputs": [],
   "source": [
    "# take logarithm of goals\n",
    "dfn['goal_log'] = np.log10(dfn['goal'].values)"
   ]
  },
  {
   "cell_type": "code",
   "execution_count": 159,
   "metadata": {},
   "outputs": [],
   "source": [
    "# drop unwanted columns\n",
    "dfm = dfn.drop(['usd_pledged','goal','state','slug','currency','deadline','state_changed_at','created_at','backers_count','spotlight','period'], axis=1).copy()\n",
    "# get dummies\n",
    "dfd = pd.get_dummies(dfm, columns=['country','cat_type'])"
   ]
  },
  {
   "cell_type": "code",
   "execution_count": null,
   "metadata": {
    "collapsed": true
   },
   "outputs": [],
   "source": []
  },
  {
   "cell_type": "markdown",
   "metadata": {},
   "source": [
    "## 3. Modeling"
   ]
  },
  {
   "cell_type": "code",
   "execution_count": 175,
   "metadata": {
    "collapsed": true
   },
   "outputs": [],
   "source": [
    "# ML imports\n",
    "from sklearn.feature_extraction.text import CountVectorizer, TfidfVectorizer\n",
    "from sklearn.model_selection import train_test_split, GridSearchCV, cross_val_score, cross_val_predict\n",
    "from sklearn.feature_selection import SelectKBest, chi2\n",
    "from sklearn.naive_bayes import MultinomialNB, BernoulliNB\n",
    "from sklearn.linear_model import LogisticRegression, LogisticRegressionCV\n",
    "from sklearn.metrics import roc_curve, roc_auc_score, classification_report\n",
    "from sklearn.base import TransformerMixin, BaseEstimator, clone\n",
    "from sklearn.pipeline import Pipeline, FeatureUnion"
   ]
  },
  {
   "cell_type": "markdown",
   "metadata": {},
   "source": [
    "Select predictor and target columns for model fitting"
   ]
  },
  {
   "cell_type": "code",
   "execution_count": 281,
   "metadata": {
    "collapsed": true
   },
   "outputs": [],
   "source": [
    "predictors_nt = []\n",
    "predictors_nt.extend([c for c in dfd.columns if c[0:5] == 'cat_t' ])\n",
    "predictors_nt.extend(['goal_log', 'name_wlen'])\n",
    "#predictors.extend(['goal_log', 'staff_pick','name_wlen'])\n",
    "\n",
    "predictors_text = []\n",
    "predictors_text.extend(['name', 'blurb'])\n",
    "\n",
    "predictors = predictors_nt + predictors_text\n",
    "\n",
    "target = ['succeeded']"
   ]
  },
  {
   "cell_type": "markdown",
   "metadata": {},
   "source": [
    "Train-test split for pandas dataframe"
   ]
  },
  {
   "cell_type": "code",
   "execution_count": 205,
   "metadata": {
    "collapsed": true
   },
   "outputs": [],
   "source": [
    "df_train=dfd.sample(frac=0.8,random_state=200)\n",
    "df_test=dfd.drop(df_train.index)"
   ]
  },
  {
   "cell_type": "code",
   "execution_count": 338,
   "metadata": {},
   "outputs": [],
   "source": [
    "# Training dataset\n",
    "Xtrain = df_train[predictors]\n",
    "ytrain = df_train[target].values.astype(np.int).flatten() \n",
    "\n",
    "# Testing dataset\n",
    "Xtest = df_test[predictors]\n",
    "ytest = df_test[target].values.astype(np.int).flatten() "
   ]
  },
  {
   "cell_type": "markdown",
   "metadata": {},
   "source": [
    "### 3.1 Create a pipeline\n",
    "\n",
    "1. Textual features (name, blurb) will be separated for their individual treatment\n",
    "2. Textual features will be individually vectorized\n",
    "3. $\\chi^2$ feature selection will be performed on the vectorized features.\n",
    "4. The selected textual features will be combined with other features\n",
    "5. Logistic regression will be applied. (LASSO regularization will further reduce the number of relevant features).\n",
    "\n",
    "\n",
    "\n",
    "Classes needed to separate and join selected features from pandas dataframe"
   ]
  },
  {
   "cell_type": "code",
   "execution_count": 308,
   "metadata": {},
   "outputs": [],
   "source": [
    "# Define a selector class to be used in the main pipeline\n",
    "class ColumnSelector(BaseEstimator, TransformerMixin):\n",
    "    \"\"\"Select a column from pandas dataframe.\n",
    "    Transfrom returns pandas Series \"\"\"\n",
    "    \n",
    "    def __init__(self, column=''):\n",
    "        self.column = column\n",
    "\n",
    "    def fit(self, dataframe, y=None):\n",
    "        return self\n",
    "\n",
    "    def transform(self, dataframe):\n",
    "        return dataframe[self.column]"
   ]
  },
  {
   "cell_type": "code",
   "execution_count": 326,
   "metadata": {
    "collapsed": true
   },
   "outputs": [],
   "source": [
    "class FeaturesSelector(BaseEstimator, TransformerMixin):\n",
    "    \"\"\"Select columns from pandas dataframe.\n",
    "    Transform returns numpy array with one or more features\"\"\"\n",
    "    \n",
    "    def __init__(self, columns=[]):\n",
    "        self.columns = columns\n",
    "\n",
    "    def fit(self, dataframe, y=None):\n",
    "        return self\n",
    "\n",
    "    def transform(self, dataframe):\n",
    "        return dataframe[self.columns].values"
   ]
  },
  {
   "cell_type": "code",
   "execution_count": 354,
   "metadata": {},
   "outputs": [],
   "source": [
    "# Define the main pipeline (contains sub-pipelenes for text processing and feature selection)\n",
    "logreg = LogisticRegression(penalty='l1', C=0.1)\n",
    "\n",
    "pipeline = Pipeline([\n",
    "    ('union', FeatureUnion(\n",
    "        transformer_list=[\n",
    "            ('name', Pipeline([\n",
    "                ('selector', ColumnSelector('name')),\n",
    "                ('vectorizer', CountVectorizer()),\n",
    "                ('reduce_dim', SelectKBest(chi2, k=100))\n",
    "            ])),\n",
    "            ('blurb', Pipeline([\n",
    "                ('selector', ColumnSelector('blurb')),\n",
    "                ('vectorizer', CountVectorizer()),\n",
    "                ('reduce_dim', SelectKBest(chi2, k=100))\n",
    "            ])),\n",
    "            ('rest', Pipeline([\n",
    "                ('selector', FeaturesSelector(predictors_nt)),\n",
    "            ]))\n",
    "        ])),\n",
    "    ('logreg', logreg)\n",
    "])"
   ]
  },
  {
   "cell_type": "markdown",
   "metadata": {},
   "source": [
    "Fit pipeline"
   ]
  },
  {
   "cell_type": "code",
   "execution_count": 355,
   "metadata": {},
   "outputs": [
    {
     "data": {
      "text/plain": [
       "Pipeline(steps=[('union', FeatureUnion(n_jobs=1,\n",
       "       transformer_list=[('name', Pipeline(steps=[('selector', ColumnSelector(column='name')), ('vectorizer', CountVectorizer(analyzer='word', binary=False, decode_error='strict',\n",
       "        dtype=<class 'numpy.int64'>, encoding='utf-8', input='content',\n",
       "        ...ty='l1', random_state=None, solver='liblinear', tol=0.0001,\n",
       "          verbose=0, warm_start=False))])"
      ]
     },
     "execution_count": 355,
     "metadata": {},
     "output_type": "execute_result"
    }
   ],
   "source": [
    "pipeline.fit(Xtrain, ytrain)"
   ]
  },
  {
   "cell_type": "code",
   "execution_count": 356,
   "metadata": {},
   "outputs": [
    {
     "name": "stdout",
     "output_type": "stream",
     "text": [
      "Number of features: 217 197 1.7749562034 [ 1.26865642]\n"
     ]
    }
   ],
   "source": [
    "print('Number of features:', len(logreg.coef_[0]), np.sum(logreg.coef_ != 0.0), logreg.coef_.max(), logreg.intercept_)#, logreg.coef_)"
   ]
  },
  {
   "cell_type": "code",
   "execution_count": 357,
   "metadata": {},
   "outputs": [],
   "source": [
    "y_pred = pipeline.predict(Xtest)"
   ]
  },
  {
   "cell_type": "code",
   "execution_count": 358,
   "metadata": {},
   "outputs": [
    {
     "name": "stdout",
     "output_type": "stream",
     "text": [
      "Score: 0.727861481158\n"
     ]
    }
   ],
   "source": [
    "print('Score:', pipeline.score(Xtest, ytest))"
   ]
  },
  {
   "cell_type": "code",
   "execution_count": 359,
   "metadata": {
    "collapsed": true
   },
   "outputs": [],
   "source": [
    "y_pred_prob = pipeline.predict_proba(Xtest)"
   ]
  },
  {
   "cell_type": "code",
   "execution_count": 360,
   "metadata": {},
   "outputs": [
    {
     "name": "stdout",
     "output_type": "stream",
     "text": [
      "AUC 0.795253184747\n"
     ]
    },
    {
     "data": {
      "image/png": "[encoded data removed]",
      "text/plain": [
       "<matplotlib.figure.Figure at 0x11bd8eeb8>"
      ]
     },
     "metadata": {},
     "output_type": "display_data"
    }
   ],
   "source": [
    "fpr, tpr, thresholds = roc_curve(ytest, y_pred_prob[:,1])\n",
    "plt.plot(fpr, tpr)\n",
    "plt.xlabel('FPR')\n",
    "plt.ylabel('TPR')\n",
    "plt.title(\"ROC\")\n",
    "print('AUC', roc_auc_score(ytest, y_pred_prob[:,1]))"
   ]
  },
  {
   "cell_type": "code",
   "execution_count": null,
   "metadata": {
    "collapsed": true
   },
   "outputs": [],
   "source": [
    "fpr, tpr, thresholds = roc_curve(ytest, y_pred_prob[:,1])\n",
    "plt.plot(fpr, tpr)\n",
    "plt.xlabel('FPR')\n",
    "plt.ylabel('TPR')\n",
    "plt.title(\"ROC\")\n",
    "print('AUC', roc_auc_score(ytest, y_pred_prob[:,1]))"
   ]
  },
  {
   "cell_type": "markdown",
   "metadata": {},
   "source": [
    "### 3.2 Training and testing data preparation"
   ]
  },
  {
   "cell_type": "code",
   "execution_count": 306,
   "metadata": {},
   "outputs": [
    {
     "data": {
      "text/plain": [
       "(119206,)"
      ]
     },
     "execution_count": 306,
     "metadata": {},
     "output_type": "execute_result"
    }
   ],
   "source": [
    "y.flatten().shape"
   ]
  },
  {
   "cell_type": "code",
   "execution_count": 157,
   "metadata": {
    "collapsed": true
   },
   "outputs": [],
   "source": [
    "# Select predictor and target columns\n",
    "predictors = []\n",
    "predictors.extend([c for c in dfd.columns if c[0:5] == 'cat_t' ])\n",
    "predictors.extend(['goal_log', 'name_wlen'])\n",
    "#predictors.extend(['goal_log', 'staff_pick','name_wlen'])\n",
    "predictors.extend(['name', 'blurb'])\n",
    "\n",
    "target = ['succeeded']"
   ]
  },
  {
   "cell_type": "code",
   "execution_count": 158,
   "metadata": {},
   "outputs": [
    {
     "name": "stdout",
     "output_type": "stream",
     "text": [
      "(149007, 17) (111755, 17) (37252, 17) (149007, 1) (111755, 1) (37252, 1)\n"
     ]
    }
   ],
   "source": [
    "# Split data to train and test sets\n",
    "Xtrain, Xtest, ytrain, ytest = train_test_split(X, y)\n",
    "print(X.shape, Xtrain.shape, Xtest.shape, y.shape, ytrain.shape, ytest.shape)\n",
    "\n",
    "df_train=dfd.sample(frac=0.8,random_state=200)\n",
    "df_test=dfd.drop(df_train.index)"
   ]
  },
  {
   "cell_type": "markdown",
   "metadata": {},
   "source": [
    "### 3.3 Fit pipeline"
   ]
  },
  {
   "cell_type": "code",
   "execution_count": null,
   "metadata": {
    "collapsed": true
   },
   "outputs": [],
   "source": [
    "# Create predictor and target sets\n",
    "X = dfd[predictors].values\n",
    "y = dfd[target].values.astype(np.int)"
   ]
  },
  {
   "cell_type": "code",
   "execution_count": 11,
   "metadata": {},
   "outputs": [],
   "source": [
    "df_train=dfd.sample(frac=0.8,random_state=200)\n",
    "df_test=dfd.drop(df_train.index)"
   ]
  },
  {
   "cell_type": "code",
   "execution_count": 12,
   "metadata": {},
   "outputs": [
    {
     "name": "stdout",
     "output_type": "stream",
     "text": [
      "(119206, 48) (29801, 48) (149007, 48)\n"
     ]
    }
   ],
   "source": [
    "print(df_train.shape, df_test.shape, dfd.shape)"
   ]
  },
  {
   "cell_type": "markdown",
   "metadata": {},
   "source": [
    "### 3.2 Train Naive Bayes on name and blurb data"
   ]
  },
  {
   "cell_type": "code",
   "execution_count": 82,
   "metadata": {},
   "outputs": [
    {
     "name": "stdout",
     "output_type": "stream",
     "text": [
      "(119206, 24661) (119206, 35717) (119206,)\n"
     ]
    }
   ],
   "source": [
    "vectorizer = CountVectorizer(min_df=2, max_df=2000)\n",
    "\n",
    "# project name\n",
    "Xn = vectorizer.fit_transform(df_train.name).tocsc()\n",
    "#fn_names = vectorizer.get_feature_names()\n",
    "\n",
    "# project blurb\n",
    "dfn.blurb.fillna('', inplace=True)\n",
    "Xb = vectorizer.fit_transform(df_train.blurb).tocsc()\n",
    "#fb_names = vectorizer.get_feature_names()\n",
    "\n",
    "#y = df_train.succeeded.values.astype(np.int)\n",
    "y = df_train.staff_pick.values.astype(np.int)\n",
    "\n",
    "print(Xn.shape, Xb.shape, y.shape)#, len(fn_names), len(fb_names))"
   ]
  },
  {
   "cell_type": "code",
   "execution_count": 83,
   "metadata": {},
   "outputs": [
    {
     "name": "stdout",
     "output_type": "stream",
     "text": [
      "Fitting 5 folds for each of 10 candidates, totalling 50 fits\n"
     ]
    },
    {
     "name": "stderr",
     "output_type": "stream",
     "text": [
      "[Parallel(n_jobs=1)]: Done  50 out of  50 | elapsed:    1.9s finished\n"
     ]
    },
    {
     "name": "stdout",
     "output_type": "stream",
     "text": [
      "Best alpha {'alpha': 158489319246.11172}\n",
      "Best score 0.893495293861\n",
      "Fitting 5 folds for each of 10 candidates, totalling 50 fits\n",
      "Best alpha {'alpha': 158489319246.11172}\n",
      "Best score 0.893495293861\n"
     ]
    },
    {
     "name": "stderr",
     "output_type": "stream",
     "text": [
      "[Parallel(n_jobs=1)]: Done  50 out of  50 | elapsed:    3.1s finished\n"
     ]
    }
   ],
   "source": [
    "#the grid of parameters to search over\n",
    "param_grid = {'alpha':np.logspace(0.1, 100, 10)}\n",
    "              \n",
    "#mnb = BernoulliNB()\n",
    "mnb = MultinomialNB()\n",
    "\n",
    "mnb_cv = GridSearchCV(mnb, param_grid, cv=5, verbose=1)\n",
    "\n",
    "# train and predict names\n",
    "mnb_cv.fit(Xn, y)\n",
    "pn = mnb_cv.predict_proba(Xn)[:,1]\n",
    "print('Best alpha', mnb_cv.best_params_)\n",
    "print('Best score', mnb_cv.best_score_)\n",
    "\n",
    "# train and predict blurbs\n",
    "mnb_cv.fit(Xb, y)\n",
    "pb = mnb_cv.predict_proba(Xb)[:,1]\n",
    "print('Best alpha', mnb_cv.best_params_)\n",
    "print('Best score', mnb_cv.best_score_)"
   ]
  },
  {
   "cell_type": "code",
   "execution_count": 84,
   "metadata": {
    "collapsed": true
   },
   "outputs": [],
   "source": [
    "df_train['xn'] = np.log(pn/(1-pn))\n",
    "df_train['xb'] = np.log(pb/(1-pb))"
   ]
  },
  {
   "cell_type": "code",
   "execution_count": 122,
   "metadata": {},
   "outputs": [],
   "source": [
    "predictors = []\n",
    "#predictors.extend([c for c in dfd.columns if c[0:5] == 'cat_t' ])\n",
    "#predictors.extend([c for c in dfd.columns if c[0:5] == 'count' ])\n",
    "#predictors.extend(['goal_log', 'staff_pick','name_wlen', 'xn', 'xb'])\n",
    "predictors.extend(['name_wlen'])\n",
    "#predictors.extend(['goal_log','name_wlen', 'xn', 'xb'])\n",
    "#predictors.extend(['name_wlen', 'xn', 'xb'])\n",
    "\n",
    "#predictors.extend(['staff_pick'])"
   ]
  },
  {
   "cell_type": "code",
   "execution_count": 123,
   "metadata": {},
   "outputs": [],
   "source": [
    "Xtrain = df_train[predictors]\n",
    "#ytrain = df_train.succeeded.values.astype(np.int)\n",
    "ytrain = df_train.staff_pick.values.astype(np.int)\n",
    "\n",
    "\n",
    "#Xtrain, Xtest, ytrain, ytest = train_test_split(X, y)\n",
    "#print(X.shape, Xtrain.shape, Xtest.shape, y.shape, ytrain.shape, ytest.shape)"
   ]
  },
  {
   "cell_type": "code",
   "execution_count": 124,
   "metadata": {},
   "outputs": [
    {
     "name": "stdout",
     "output_type": "stream",
     "text": [
      "[LibLinear][-2.65915544] [[ 0.09124064]]\n"
     ]
    }
   ],
   "source": [
    "logreg = LogisticRegression(penalty='l1', verbose=1, C=0.1)#, warm_start=True)\n",
    "\n",
    "#print(logreg.intercept_, logreg.coef_)\n",
    "logreg.fit(Xtrain, ytrain)\n",
    "#logreg.intercept_ = 2.299\n",
    "#logreg.coef_ = np.reshape(np.array([-0.6687]), (1,-1))\n",
    "print(logreg.intercept_, logreg.coef_)"
   ]
  },
  {
   "cell_type": "code",
   "execution_count": 125,
   "metadata": {},
   "outputs": [
    {
     "name": "stdout",
     "output_type": "stream",
     "text": [
      "Score: 0.893495293861\n"
     ]
    }
   ],
   "source": [
    "y_pred = logreg.predict(Xtrain)\n",
    "y_pred_prob = logreg.predict_proba(Xtrain)\n",
    "print('Score:', logreg.score(Xtrain, ytrain))"
   ]
  },
  {
   "cell_type": "code",
   "execution_count": 104,
   "metadata": {},
   "outputs": [
    {
     "name": "stdout",
     "output_type": "stream",
     "text": [
      "[LibLinear][LibLinear][LibLinear][LibLinear][LibLinear]CV score: [ 0.89346531  0.89350279  0.89350279  0.89350279  0.89350279]\n"
     ]
    }
   ],
   "source": [
    "print('CV score:', cross_val_score(logreg, Xtrain, ytrain, cv=5))"
   ]
  },
  {
   "cell_type": "code",
   "execution_count": 21,
   "metadata": {},
   "outputs": [
    {
     "ename": "NameError",
     "evalue": "name 'Xtest' is not defined",
     "output_type": "error",
     "traceback": [
      "\u001b[0;31m---------------------------------------------------------------------------\u001b[0m",
      "\u001b[0;31mNameError\u001b[0m                                 Traceback (most recent call last)",
      "\u001b[0;32m<ipython-input-21-f263c464ec9a>\u001b[0m in \u001b[0;36m<module>\u001b[0;34m()\u001b[0m\n\u001b[0;32m----> 1\u001b[0;31m \u001b[0my_pred\u001b[0m \u001b[0;34m=\u001b[0m \u001b[0mlogreg\u001b[0m\u001b[0;34m.\u001b[0m\u001b[0mpredict\u001b[0m\u001b[0;34m(\u001b[0m\u001b[0mXtest\u001b[0m\u001b[0;34m)\u001b[0m\u001b[0;34m\u001b[0m\u001b[0m\n\u001b[0m\u001b[1;32m      2\u001b[0m \u001b[0my_pred_prob\u001b[0m \u001b[0;34m=\u001b[0m \u001b[0mlogreg\u001b[0m\u001b[0;34m.\u001b[0m\u001b[0mpredict_proba\u001b[0m\u001b[0;34m(\u001b[0m\u001b[0mXtest\u001b[0m\u001b[0;34m)\u001b[0m\u001b[0;34m\u001b[0m\u001b[0m\n\u001b[1;32m      3\u001b[0m \u001b[0mprint\u001b[0m\u001b[0;34m(\u001b[0m\u001b[0;34m'Score:'\u001b[0m\u001b[0;34m,\u001b[0m \u001b[0mlogreg\u001b[0m\u001b[0;34m.\u001b[0m\u001b[0mscore\u001b[0m\u001b[0;34m(\u001b[0m\u001b[0mXtest\u001b[0m\u001b[0;34m,\u001b[0m \u001b[0mytest\u001b[0m\u001b[0;34m)\u001b[0m\u001b[0;34m)\u001b[0m\u001b[0;34m\u001b[0m\u001b[0m\n\u001b[1;32m      4\u001b[0m \u001b[0;31m#y_pred_cv = cross_val_predict(logreg, X, y, cv=3)\u001b[0m\u001b[0;34m\u001b[0m\u001b[0;34m\u001b[0m\u001b[0m\n\u001b[1;32m      5\u001b[0m \u001b[0;31m#y_pred_cv\u001b[0m\u001b[0;34m\u001b[0m\u001b[0;34m\u001b[0m\u001b[0m\n",
      "\u001b[0;31mNameError\u001b[0m: name 'Xtest' is not defined"
     ]
    }
   ],
   "source": [
    "y_pred = logreg.predict(Xtest)\n",
    "y_pred_prob = logreg.predict_proba(Xtest)\n",
    "print('Score:', logreg.score(Xtest, ytest))\n",
    "#y_pred_cv = cross_val_predict(logreg, X, y, cv=3)\n",
    "#y_pred_cv"
   ]
  },
  {
   "cell_type": "code",
   "execution_count": null,
   "metadata": {},
   "outputs": [],
   "source": [
    "fpr, tpr, thresholds = roc_curve(ytest, y_pred_prob[:,1])\n",
    "plt.plot(fpr, tpr)\n",
    "plt.xlabel('FPR')\n",
    "plt.ylabel('TPR')\n",
    "plt.title(\"ROC\")\n",
    "print('AUC', roc_auc_score(ytest, y_pred_prob[:,1]))"
   ]
  },
  {
   "cell_type": "code",
   "execution_count": null,
   "metadata": {},
   "outputs": [],
   "source": [
    "logregcv = LogisticRegressionCV(verbose=1, cv=3, Cs=[0.1, 1.0, 100.0])#, warm_start=True)\n",
    "logregcv.fit(X, y)\n",
    "print(logregcv.coef_)"
   ]
  },
  {
   "cell_type": "code",
   "execution_count": null,
   "metadata": {},
   "outputs": [],
   "source": [
    "y_pred = logregcv.predict(Xtest)\n",
    "y_pred_prob = logregcv.predict_proba(Xtest)\n",
    "print('Score:', logregcv.score(Xtest, ytest))\n",
    "fpr, tpr, thresholds = roc_curve(ytest, y_pred_prob[:,1])\n",
    "plt.plot(fpr, tpr)\n",
    "plt.xlabel('FPR')\n",
    "plt.ylabel('TPR')\n",
    "plt.title(\"ROC\")\n",
    "print('AUC', roc_auc_score(ytest, y_pred_prob[:,1]))"
   ]
  },
  {
   "cell_type": "markdown",
   "metadata": {},
   "source": [
    "### 3.2 Naive Bayes for text analysis "
   ]
  },
  {
   "cell_type": "code",
   "execution_count": null,
   "metadata": {},
   "outputs": [],
   "source": [
    "# Vectorize project names and blurbs\n",
    "#vectorizer = TfidfVectorizer(min_df=1)\n",
    "vectorizer = CountVectorizer(min_df=2, max_df=2000)\n",
    "\n",
    "# project name\n",
    "Xn = vectorizer.fit_transform(dfn.name).tocsc()\n",
    "fn_names = vectorizer.get_feature_names()\n",
    "\n",
    "# project blurb\n",
    "dfn.blurb.fillna('', inplace=True)\n",
    "Xb = vectorizer.fit_transform(dfn.blurb).tocsc()\n",
    "fb_names = vectorizer.get_feature_names()\n",
    "\n",
    "y = dfn.succeeded.values.astype(np.int)\n",
    "\n",
    "print(Xn.shape, Xb.shape, y.shape, len(fn_names), len(fb_names))"
   ]
  },
  {
   "cell_type": "markdown",
   "metadata": {},
   "source": [
    "Simple training without cross validation"
   ]
  },
  {
   "cell_type": "code",
   "execution_count": null,
   "metadata": {},
   "outputs": [],
   "source": [
    "# NB for names\n",
    "\n",
    "# train-test split\n",
    "Xntrain, Xntest, ytrain, ytest = train_test_split(Xn, y)\n",
    "\n",
    "# Create instance of multinomial naive bayes\n",
    "mnb_n = MultinomialNB()\n",
    "\n",
    "# fit to training data\n",
    "mnb_n.fit(Xntrain, ytrain)\n",
    "\n",
    "print(\"Train set score:\", mnb_n.score(Xntrain, ytrain))\n",
    "print(\"Test set score:\", mnb_n.score(Xntest, ytest))"
   ]
  },
  {
   "cell_type": "code",
   "execution_count": null,
   "metadata": {},
   "outputs": [],
   "source": [
    "# NB for blurbs\n",
    "\n",
    "# train-test split\n",
    "Xbtrain, Xbtest, ytrain, ytest = train_test_split(Xb, y)\n",
    "\n",
    "# Create instance of multinomial naive bayes\n",
    "mnb_b = MultinomialNB()\n",
    "\n",
    "# fit to training data\n",
    "mnb_b.fit(Xbtrain, ytrain)\n",
    "\n",
    "print(\"Train set score:\", mnb_b.score(Xbtrain, ytrain))\n",
    "print(\"Test set score:\", mnb_b.score(Xbtest, ytest))"
   ]
  },
  {
   "cell_type": "code",
   "execution_count": null,
   "metadata": {},
   "outputs": [],
   "source": [
    "#the grid of parameters to search over\n",
    "param_grid = {'alpha':np.logspace(0.1, 100, 10)}\n",
    "              \n",
    "mnb = MultinomialNB()\n",
    "mnb_cv = GridSearchCV(mnb, param_grid, cv=5, verbose=1)\n",
    "mnb_cv.fit(Xn, y)\n",
    "\n",
    "print('Best alpha', mnb_cv.best_params_)\n",
    "print('Best score', mnb_cv.best_score_)"
   ]
  },
  {
   "cell_type": "code",
   "execution_count": null,
   "metadata": {},
   "outputs": [],
   "source": [
    "mnb_cv.predict_proba(Xn)[:,1]"
   ]
  },
  {
   "cell_type": "code",
   "execution_count": null,
   "metadata": {},
   "outputs": [],
   "source": [
    "pn = mnb_n.predict_proba(Xn)[:,1]\n",
    "pb = mnb_b.predict_proba(Xb)[:,1]"
   ]
  },
  {
   "cell_type": "code",
   "execution_count": null,
   "metadata": {},
   "outputs": [],
   "source": [
    "xn = np.log(pn/(1-pn))\n",
    "xb = np.log(pb/(1-pb))"
   ]
  },
  {
   "cell_type": "code",
   "execution_count": null,
   "metadata": {},
   "outputs": [],
   "source": [
    "print(xn, xb)"
   ]
  },
  {
   "cell_type": "code",
   "execution_count": null,
   "metadata": {
    "collapsed": true
   },
   "outputs": [],
   "source": [
    "dfd['xn'] = xn"
   ]
  },
  {
   "cell_type": "code",
   "execution_count": null,
   "metadata": {
    "collapsed": true
   },
   "outputs": [],
   "source": [
    "dfd['xb'] = xb"
   ]
  },
  {
   "cell_type": "code",
   "execution_count": null,
   "metadata": {},
   "outputs": [],
   "source": [
    "dfd.head()"
   ]
  },
  {
   "cell_type": "code",
   "execution_count": null,
   "metadata": {
    "collapsed": true
   },
   "outputs": [],
   "source": [
    "predictors.extend(['xn', 'xb'])"
   ]
  },
  {
   "cell_type": "code",
   "execution_count": null,
   "metadata": {},
   "outputs": [],
   "source": [
    "Xx = dfd[predictors]\n",
    "y = dfd.succeeded.values.astype(np.int)\n",
    "\n",
    "Xtrain, Xtest, ytrain, ytest = train_test_split(Xx, y)\n",
    "print(X.shape, Xtrain.shape, Xtest.shape, y.shape, ytrain.shape, ytest.shape)"
   ]
  },
  {
   "cell_type": "code",
   "execution_count": null,
   "metadata": {},
   "outputs": [],
   "source": [
    "logreg = LogisticRegression(verbose=1, C=0.1)#, warm_start=True)\n",
    "\n",
    "logreg.fit(Xtrain, ytrain)\n",
    "#logreg.intercept_ = 2.299\n",
    "#logreg.coef_ = np.reshape(np.array([-0.6687]), (1,-1))\n",
    "print(logreg.intercept_, logreg.coef_)"
   ]
  },
  {
   "cell_type": "code",
   "execution_count": null,
   "metadata": {},
   "outputs": [],
   "source": [
    "y_pred = logreg.predict(Xtest)\n",
    "y_pred_prob = logreg.predict_proba(Xtest)\n",
    "print('Score:', logreg.score(Xtest, ytest))"
   ]
  },
  {
   "cell_type": "code",
   "execution_count": null,
   "metadata": {},
   "outputs": [],
   "source": [
    "print('CV score:', cross_val_score(logreg, Xx, y, cv=5))"
   ]
  },
  {
   "cell_type": "code",
   "execution_count": null,
   "metadata": {},
   "outputs": [],
   "source": [
    "y_pred = logregcv.predict(Xtest)\n",
    "y_pred_prob = logregcv.predict_proba(Xtest)\n",
    "print('Score:', logregcv.score(Xtest, ytest))\n",
    "fpr, tpr, thresholds = roc_curve(ytest, y_pred_prob[:,1])\n",
    "plt.plot(fpr, tpr)\n",
    "plt.xlabel('FPR')\n",
    "plt.ylabel('TPR')\n",
    "plt.title(\"ROC\")\n",
    "print('AUC', roc_auc_score(ytest, y_pred_prob[:,1]))"
   ]
  },
  {
   "cell_type": "markdown",
   "metadata": {},
   "source": [
    "Modify score function to replace accuracy with precision?"
   ]
  },
  {
   "cell_type": "code",
   "execution_count": null,
   "metadata": {},
   "outputs": [],
   "source": [
    "Interpretability, based on rigorous statistical principles, minimal number of parameters, predictions of microstructures\n",
    "Well justified choice of optimization loss function base on rigorous statistical principles."
   ]
  },
  {
   "cell_type": "code",
   "execution_count": 143,
   "metadata": {},
   "outputs": [],
   "source": [
    "x = np.linspace(0.0, 1.0, 100)"
   ]
  },
  {
   "cell_type": "code",
   "execution_count": 146,
   "metadata": {},
   "outputs": [
    {
     "data": {
      "text/plain": [
       "<matplotlib.legend.Legend at 0x11c5711d0>"
      ]
     },
     "execution_count": 146,
     "metadata": {},
     "output_type": "execute_result"
    },
    {
     "data": {
      "image/png": "[encoded data removed]",
      "text/plain": [
       "<matplotlib.figure.Figure at 0x11bd91400>"
      ]
     },
     "metadata": {},
     "output_type": "display_data"
    }
   ],
   "source": [
    "from scipy.stats import beta\n",
    "plt.plot(x, beta.pdf(x, 1/2, 1/2), label='1/2,1/2')\n",
    "plt.plot(x, beta.pdf(x, 1, 1), label='1,1')\n",
    "plt.plot(x, beta.pdf(x, 0.0001, 1/2), label='0,0')\n",
    "plt.legend()"
   ]
  },
  {
   "cell_type": "code",
   "execution_count": null,
   "metadata": {
    "collapsed": true
   },
   "outputs": [],
   "source": []
  }
 ],
 "metadata": {
  "kernelspec": {
   "display_name": "Python 3",
   "language": "python",
   "name": "python3"
  },
  "language_info": {
   "codemirror_mode": {
    "name": "ipython",
    "version": 3
   },
   "file_extension": ".py",
   "mimetype": "text/x-python",
   "name": "python",
   "nbconvert_exporter": "python",
   "pygments_lexer": "ipython3",
   "version": "3.6.1"
  }
 },
 "nbformat": 4,
 "nbformat_minor": 2
}
